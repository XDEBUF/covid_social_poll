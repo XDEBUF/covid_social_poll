{
 "cells": [
  {
   "cell_type": "code",
   "execution_count": 105,
   "id": "initial_id",
   "metadata": {
    "collapsed": true,
    "ExecuteTime": {
     "end_time": "2023-12-19T21:35:07.113955851Z",
     "start_time": "2023-12-19T21:35:06.572148577Z"
    }
   },
   "outputs": [],
   "source": [
    "import pandas as pd\n",
    "import matplotlib.pyplot as plt\n",
    "import seaborn as sns"
   ]
  },
  {
   "cell_type": "code",
   "execution_count": 106,
   "outputs": [],
   "source": [
    "df_county=pd.read_csv(\"./county_statistics.csv\")"
   ],
   "metadata": {
    "collapsed": false,
    "ExecuteTime": {
     "end_time": "2023-12-19T21:35:08.798212017Z",
     "start_time": "2023-12-19T21:35:08.485096912Z"
    }
   },
   "id": "a491ec8fdf6ccb9f"
  },
  {
   "cell_type": "code",
   "execution_count": 107,
   "outputs": [
    {
     "data": {
      "text/plain": "    Unnamed: 0     county state  percentage16_Donald_Trump  \\\n0            0  Abbeville    SC                      0.629   \n1            1     Acadia    LA                      0.773   \n2            2   Accomack    VA                      0.545   \n3            3        Ada    ID                      0.479   \n4            4      Adair    IA                      0.653   \n5            5      Adair    KY                      0.806   \n6            6      Adair    MO                      0.594   \n7            7      Adair    OK                      0.735   \n8            8      Adams    CO                      0.421   \n9            9      Adams    IA                      0.669   \n10          10      Adams    ID                      0.713   \n11          11      Adams    IL                      0.716   \n12          12      Adams    IN                      0.739   \n13          13      Adams    MS                      0.420   \n14          14      Adams    ND                      0.750   \n15          15      Adams    NE                      0.699   \n16          16      Adams    OH                      0.763   \n17          17      Adams    PA                      0.663   \n18          18      Adams    WA                      0.671   \n19          19      Adams    WI                      0.592   \n\n    percentage16_Hillary_Clinton  total_votes16  votes16_Donald_Trump  \\\n0                          0.346        10724.0                6742.0   \n1                          0.206        27386.0               21159.0   \n2                          0.428        15755.0                8582.0   \n3                          0.387       195587.0               93748.0   \n4                          0.300         3759.0                2456.0   \n5                          0.161         8231.0                6637.0   \n6                          0.345        10137.0                6019.0   \n7                          0.212         6468.0                4753.0   \n8                          0.494       175125.0               73807.0   \n9                          0.271         2082.0                1393.0   \n10                         0.190         2183.0                1556.0   \n11                         0.240        31770.0               22732.0   \n12                         0.215        13039.0                9642.0   \n13                         0.567        12214.0                5125.0   \n14                         0.179         1206.0                 904.0   \n15                         0.248        13172.0                9205.0   \n16                         0.207        11063.0                8445.0   \n17                         0.299        47138.0               31249.0   \n18                         0.274         4081.0                2740.0   \n19                         0.374        10107.0                5983.0   \n\n    votes16_Hillary_Clinton  percentage20_Donald_Trump  \\\n0                    3712.0                      0.661   \n1                    5638.0                      0.795   \n2                    6737.0                      0.542   \n3                   75676.0                      0.504   \n4                    1127.0                      0.697   \n5                    1323.0                      0.830   \n6                    3495.0                      0.618   \n7                    1374.0                      0.786   \n8                   86471.0                      0.404   \n9                     565.0                      0.708   \n10                    415.0                      0.751   \n11                   7633.0                      0.722   \n12                   2802.0                      0.750   \n13                   6921.0                      0.426   \n14                    216.0                      0.773   \n15                   3272.0                      0.691   \n16                   2293.0                      0.811   \n17                  14077.0                      0.663   \n18                   1118.0                      0.675   \n19                   3780.0                      0.623   \n\n    percentage20_Joe_Biden  ...  Walk  OtherTransp  WorkAtHome  MeanCommute  \\\n0                    0.330  ...   1.8          1.8         6.5         25.8   \n1                    0.191  ...   1.6          2.2         2.5         27.6   \n2                    0.447  ...   2.6          1.8         4.5         22.0   \n3                    0.465  ...   1.5          2.8         6.9         20.4   \n4                    0.286  ...   2.8          0.4         6.2         22.3   \n5                    0.159  ...   2.6          0.5         3.4         22.2   \n6                    0.358  ...   4.0          2.6         4.0         17.1   \n7                    0.195  ...   2.8          1.0         3.2         23.1   \n8                    0.567  ...   1.2          1.1         5.0         29.2   \n9                    0.273  ...   3.3          0.8         5.3         19.6   \n10                   0.229  ...   4.4          1.8        10.9         24.1   \n11                   0.256  ...   2.3          1.5         4.5         17.0   \n12                   0.227  ...   2.6          1.9         4.5         22.8   \n13                   0.564  ...   0.6          1.2         3.7         18.9   \n14                   0.203  ...   6.0          2.9         7.3         17.3   \n15                   0.289  ...   1.8          1.3         3.9         15.3   \n16                   0.179  ...   1.3          1.2         4.8         36.5   \n17                   0.322  ...   3.7          0.9         3.8         27.6   \n18                   0.306  ...   2.2          1.9         5.7         17.8   \n19                   0.366  ...   1.5          1.7         6.0         28.3   \n\n    Employed  PrivateWork  PublicWork  SelfEmployed  FamilyWork  Unemployment  \n0     9505.0         78.8        13.3           7.8         0.1           9.4  \n1    24982.0         80.0        12.1           7.6         0.3           8.9  \n2    13837.0         74.6        18.1           7.1         0.2           5.4  \n3   214984.0         78.3        15.0           6.6         0.1           4.3  \n4     3680.0         73.8        15.3          10.4         0.5           3.0  \n5     7988.0         74.1        15.8           9.9         0.1           6.2  \n6    11274.0         73.6        20.9           5.3         0.2           5.5  \n7     8130.0         71.6        20.4           7.5         0.5           5.5  \n8   246450.0         83.6        11.2           5.1         0.1           5.1  \n9     1796.0         72.0        12.1          15.5         0.3           4.2  \n10    1539.0         65.4        22.0          12.5         0.0           8.7  \n11   32243.0         83.1        10.6           6.1         0.1           5.5  \n12   14954.0         83.1         8.2           8.1         0.6           5.2  \n13   10190.0         75.2        18.2           6.4         0.1          10.9  \n14    1275.0         73.7        10.6          15.2         0.5           1.6  \n15   15890.0         78.0        15.1           6.7         0.1           4.2  \n16   10124.0         79.1        13.0           7.7         0.2           7.5  \n17   50561.0         83.4        10.7           5.6         0.2           4.9  \n18    7757.0         81.2        14.6           3.8         0.3           5.9  \n19    7530.0         80.7        11.9           7.3         0.2           8.1  \n\n[20 rows x 51 columns]",
      "text/html": "<div>\n<style scoped>\n    .dataframe tbody tr th:only-of-type {\n        vertical-align: middle;\n    }\n\n    .dataframe tbody tr th {\n        vertical-align: top;\n    }\n\n    .dataframe thead th {\n        text-align: right;\n    }\n</style>\n<table border=\"1\" class=\"dataframe\">\n  <thead>\n    <tr style=\"text-align: right;\">\n      <th></th>\n      <th>Unnamed: 0</th>\n      <th>county</th>\n      <th>state</th>\n      <th>percentage16_Donald_Trump</th>\n      <th>percentage16_Hillary_Clinton</th>\n      <th>total_votes16</th>\n      <th>votes16_Donald_Trump</th>\n      <th>votes16_Hillary_Clinton</th>\n      <th>percentage20_Donald_Trump</th>\n      <th>percentage20_Joe_Biden</th>\n      <th>...</th>\n      <th>Walk</th>\n      <th>OtherTransp</th>\n      <th>WorkAtHome</th>\n      <th>MeanCommute</th>\n      <th>Employed</th>\n      <th>PrivateWork</th>\n      <th>PublicWork</th>\n      <th>SelfEmployed</th>\n      <th>FamilyWork</th>\n      <th>Unemployment</th>\n    </tr>\n  </thead>\n  <tbody>\n    <tr>\n      <th>0</th>\n      <td>0</td>\n      <td>Abbeville</td>\n      <td>SC</td>\n      <td>0.629</td>\n      <td>0.346</td>\n      <td>10724.0</td>\n      <td>6742.0</td>\n      <td>3712.0</td>\n      <td>0.661</td>\n      <td>0.330</td>\n      <td>...</td>\n      <td>1.8</td>\n      <td>1.8</td>\n      <td>6.5</td>\n      <td>25.8</td>\n      <td>9505.0</td>\n      <td>78.8</td>\n      <td>13.3</td>\n      <td>7.8</td>\n      <td>0.1</td>\n      <td>9.4</td>\n    </tr>\n    <tr>\n      <th>1</th>\n      <td>1</td>\n      <td>Acadia</td>\n      <td>LA</td>\n      <td>0.773</td>\n      <td>0.206</td>\n      <td>27386.0</td>\n      <td>21159.0</td>\n      <td>5638.0</td>\n      <td>0.795</td>\n      <td>0.191</td>\n      <td>...</td>\n      <td>1.6</td>\n      <td>2.2</td>\n      <td>2.5</td>\n      <td>27.6</td>\n      <td>24982.0</td>\n      <td>80.0</td>\n      <td>12.1</td>\n      <td>7.6</td>\n      <td>0.3</td>\n      <td>8.9</td>\n    </tr>\n    <tr>\n      <th>2</th>\n      <td>2</td>\n      <td>Accomack</td>\n      <td>VA</td>\n      <td>0.545</td>\n      <td>0.428</td>\n      <td>15755.0</td>\n      <td>8582.0</td>\n      <td>6737.0</td>\n      <td>0.542</td>\n      <td>0.447</td>\n      <td>...</td>\n      <td>2.6</td>\n      <td>1.8</td>\n      <td>4.5</td>\n      <td>22.0</td>\n      <td>13837.0</td>\n      <td>74.6</td>\n      <td>18.1</td>\n      <td>7.1</td>\n      <td>0.2</td>\n      <td>5.4</td>\n    </tr>\n    <tr>\n      <th>3</th>\n      <td>3</td>\n      <td>Ada</td>\n      <td>ID</td>\n      <td>0.479</td>\n      <td>0.387</td>\n      <td>195587.0</td>\n      <td>93748.0</td>\n      <td>75676.0</td>\n      <td>0.504</td>\n      <td>0.465</td>\n      <td>...</td>\n      <td>1.5</td>\n      <td>2.8</td>\n      <td>6.9</td>\n      <td>20.4</td>\n      <td>214984.0</td>\n      <td>78.3</td>\n      <td>15.0</td>\n      <td>6.6</td>\n      <td>0.1</td>\n      <td>4.3</td>\n    </tr>\n    <tr>\n      <th>4</th>\n      <td>4</td>\n      <td>Adair</td>\n      <td>IA</td>\n      <td>0.653</td>\n      <td>0.300</td>\n      <td>3759.0</td>\n      <td>2456.0</td>\n      <td>1127.0</td>\n      <td>0.697</td>\n      <td>0.286</td>\n      <td>...</td>\n      <td>2.8</td>\n      <td>0.4</td>\n      <td>6.2</td>\n      <td>22.3</td>\n      <td>3680.0</td>\n      <td>73.8</td>\n      <td>15.3</td>\n      <td>10.4</td>\n      <td>0.5</td>\n      <td>3.0</td>\n    </tr>\n    <tr>\n      <th>5</th>\n      <td>5</td>\n      <td>Adair</td>\n      <td>KY</td>\n      <td>0.806</td>\n      <td>0.161</td>\n      <td>8231.0</td>\n      <td>6637.0</td>\n      <td>1323.0</td>\n      <td>0.830</td>\n      <td>0.159</td>\n      <td>...</td>\n      <td>2.6</td>\n      <td>0.5</td>\n      <td>3.4</td>\n      <td>22.2</td>\n      <td>7988.0</td>\n      <td>74.1</td>\n      <td>15.8</td>\n      <td>9.9</td>\n      <td>0.1</td>\n      <td>6.2</td>\n    </tr>\n    <tr>\n      <th>6</th>\n      <td>6</td>\n      <td>Adair</td>\n      <td>MO</td>\n      <td>0.594</td>\n      <td>0.345</td>\n      <td>10137.0</td>\n      <td>6019.0</td>\n      <td>3495.0</td>\n      <td>0.618</td>\n      <td>0.358</td>\n      <td>...</td>\n      <td>4.0</td>\n      <td>2.6</td>\n      <td>4.0</td>\n      <td>17.1</td>\n      <td>11274.0</td>\n      <td>73.6</td>\n      <td>20.9</td>\n      <td>5.3</td>\n      <td>0.2</td>\n      <td>5.5</td>\n    </tr>\n    <tr>\n      <th>7</th>\n      <td>7</td>\n      <td>Adair</td>\n      <td>OK</td>\n      <td>0.735</td>\n      <td>0.212</td>\n      <td>6468.0</td>\n      <td>4753.0</td>\n      <td>1374.0</td>\n      <td>0.786</td>\n      <td>0.195</td>\n      <td>...</td>\n      <td>2.8</td>\n      <td>1.0</td>\n      <td>3.2</td>\n      <td>23.1</td>\n      <td>8130.0</td>\n      <td>71.6</td>\n      <td>20.4</td>\n      <td>7.5</td>\n      <td>0.5</td>\n      <td>5.5</td>\n    </tr>\n    <tr>\n      <th>8</th>\n      <td>8</td>\n      <td>Adams</td>\n      <td>CO</td>\n      <td>0.421</td>\n      <td>0.494</td>\n      <td>175125.0</td>\n      <td>73807.0</td>\n      <td>86471.0</td>\n      <td>0.404</td>\n      <td>0.567</td>\n      <td>...</td>\n      <td>1.2</td>\n      <td>1.1</td>\n      <td>5.0</td>\n      <td>29.2</td>\n      <td>246450.0</td>\n      <td>83.6</td>\n      <td>11.2</td>\n      <td>5.1</td>\n      <td>0.1</td>\n      <td>5.1</td>\n    </tr>\n    <tr>\n      <th>9</th>\n      <td>9</td>\n      <td>Adams</td>\n      <td>IA</td>\n      <td>0.669</td>\n      <td>0.271</td>\n      <td>2082.0</td>\n      <td>1393.0</td>\n      <td>565.0</td>\n      <td>0.708</td>\n      <td>0.273</td>\n      <td>...</td>\n      <td>3.3</td>\n      <td>0.8</td>\n      <td>5.3</td>\n      <td>19.6</td>\n      <td>1796.0</td>\n      <td>72.0</td>\n      <td>12.1</td>\n      <td>15.5</td>\n      <td>0.3</td>\n      <td>4.2</td>\n    </tr>\n    <tr>\n      <th>10</th>\n      <td>10</td>\n      <td>Adams</td>\n      <td>ID</td>\n      <td>0.713</td>\n      <td>0.190</td>\n      <td>2183.0</td>\n      <td>1556.0</td>\n      <td>415.0</td>\n      <td>0.751</td>\n      <td>0.229</td>\n      <td>...</td>\n      <td>4.4</td>\n      <td>1.8</td>\n      <td>10.9</td>\n      <td>24.1</td>\n      <td>1539.0</td>\n      <td>65.4</td>\n      <td>22.0</td>\n      <td>12.5</td>\n      <td>0.0</td>\n      <td>8.7</td>\n    </tr>\n    <tr>\n      <th>11</th>\n      <td>11</td>\n      <td>Adams</td>\n      <td>IL</td>\n      <td>0.716</td>\n      <td>0.240</td>\n      <td>31770.0</td>\n      <td>22732.0</td>\n      <td>7633.0</td>\n      <td>0.722</td>\n      <td>0.256</td>\n      <td>...</td>\n      <td>2.3</td>\n      <td>1.5</td>\n      <td>4.5</td>\n      <td>17.0</td>\n      <td>32243.0</td>\n      <td>83.1</td>\n      <td>10.6</td>\n      <td>6.1</td>\n      <td>0.1</td>\n      <td>5.5</td>\n    </tr>\n    <tr>\n      <th>12</th>\n      <td>12</td>\n      <td>Adams</td>\n      <td>IN</td>\n      <td>0.739</td>\n      <td>0.215</td>\n      <td>13039.0</td>\n      <td>9642.0</td>\n      <td>2802.0</td>\n      <td>0.750</td>\n      <td>0.227</td>\n      <td>...</td>\n      <td>2.6</td>\n      <td>1.9</td>\n      <td>4.5</td>\n      <td>22.8</td>\n      <td>14954.0</td>\n      <td>83.1</td>\n      <td>8.2</td>\n      <td>8.1</td>\n      <td>0.6</td>\n      <td>5.2</td>\n    </tr>\n    <tr>\n      <th>13</th>\n      <td>13</td>\n      <td>Adams</td>\n      <td>MS</td>\n      <td>0.420</td>\n      <td>0.567</td>\n      <td>12214.0</td>\n      <td>5125.0</td>\n      <td>6921.0</td>\n      <td>0.426</td>\n      <td>0.564</td>\n      <td>...</td>\n      <td>0.6</td>\n      <td>1.2</td>\n      <td>3.7</td>\n      <td>18.9</td>\n      <td>10190.0</td>\n      <td>75.2</td>\n      <td>18.2</td>\n      <td>6.4</td>\n      <td>0.1</td>\n      <td>10.9</td>\n    </tr>\n    <tr>\n      <th>14</th>\n      <td>14</td>\n      <td>Adams</td>\n      <td>ND</td>\n      <td>0.750</td>\n      <td>0.179</td>\n      <td>1206.0</td>\n      <td>904.0</td>\n      <td>216.0</td>\n      <td>0.773</td>\n      <td>0.203</td>\n      <td>...</td>\n      <td>6.0</td>\n      <td>2.9</td>\n      <td>7.3</td>\n      <td>17.3</td>\n      <td>1275.0</td>\n      <td>73.7</td>\n      <td>10.6</td>\n      <td>15.2</td>\n      <td>0.5</td>\n      <td>1.6</td>\n    </tr>\n    <tr>\n      <th>15</th>\n      <td>15</td>\n      <td>Adams</td>\n      <td>NE</td>\n      <td>0.699</td>\n      <td>0.248</td>\n      <td>13172.0</td>\n      <td>9205.0</td>\n      <td>3272.0</td>\n      <td>0.691</td>\n      <td>0.289</td>\n      <td>...</td>\n      <td>1.8</td>\n      <td>1.3</td>\n      <td>3.9</td>\n      <td>15.3</td>\n      <td>15890.0</td>\n      <td>78.0</td>\n      <td>15.1</td>\n      <td>6.7</td>\n      <td>0.1</td>\n      <td>4.2</td>\n    </tr>\n    <tr>\n      <th>16</th>\n      <td>16</td>\n      <td>Adams</td>\n      <td>OH</td>\n      <td>0.763</td>\n      <td>0.207</td>\n      <td>11063.0</td>\n      <td>8445.0</td>\n      <td>2293.0</td>\n      <td>0.811</td>\n      <td>0.179</td>\n      <td>...</td>\n      <td>1.3</td>\n      <td>1.2</td>\n      <td>4.8</td>\n      <td>36.5</td>\n      <td>10124.0</td>\n      <td>79.1</td>\n      <td>13.0</td>\n      <td>7.7</td>\n      <td>0.2</td>\n      <td>7.5</td>\n    </tr>\n    <tr>\n      <th>17</th>\n      <td>17</td>\n      <td>Adams</td>\n      <td>PA</td>\n      <td>0.663</td>\n      <td>0.299</td>\n      <td>47138.0</td>\n      <td>31249.0</td>\n      <td>14077.0</td>\n      <td>0.663</td>\n      <td>0.322</td>\n      <td>...</td>\n      <td>3.7</td>\n      <td>0.9</td>\n      <td>3.8</td>\n      <td>27.6</td>\n      <td>50561.0</td>\n      <td>83.4</td>\n      <td>10.7</td>\n      <td>5.6</td>\n      <td>0.2</td>\n      <td>4.9</td>\n    </tr>\n    <tr>\n      <th>18</th>\n      <td>18</td>\n      <td>Adams</td>\n      <td>WA</td>\n      <td>0.671</td>\n      <td>0.274</td>\n      <td>4081.0</td>\n      <td>2740.0</td>\n      <td>1118.0</td>\n      <td>0.675</td>\n      <td>0.306</td>\n      <td>...</td>\n      <td>2.2</td>\n      <td>1.9</td>\n      <td>5.7</td>\n      <td>17.8</td>\n      <td>7757.0</td>\n      <td>81.2</td>\n      <td>14.6</td>\n      <td>3.8</td>\n      <td>0.3</td>\n      <td>5.9</td>\n    </tr>\n    <tr>\n      <th>19</th>\n      <td>19</td>\n      <td>Adams</td>\n      <td>WI</td>\n      <td>0.592</td>\n      <td>0.374</td>\n      <td>10107.0</td>\n      <td>5983.0</td>\n      <td>3780.0</td>\n      <td>0.623</td>\n      <td>0.366</td>\n      <td>...</td>\n      <td>1.5</td>\n      <td>1.7</td>\n      <td>6.0</td>\n      <td>28.3</td>\n      <td>7530.0</td>\n      <td>80.7</td>\n      <td>11.9</td>\n      <td>7.3</td>\n      <td>0.2</td>\n      <td>8.1</td>\n    </tr>\n  </tbody>\n</table>\n<p>20 rows × 51 columns</p>\n</div>"
     },
     "execution_count": 107,
     "metadata": {},
     "output_type": "execute_result"
    }
   ],
   "source": [
    "df_county.head(20)"
   ],
   "metadata": {
    "collapsed": false,
    "ExecuteTime": {
     "end_time": "2023-12-19T21:35:08.893521810Z",
     "start_time": "2023-12-19T21:35:08.582675997Z"
    }
   },
   "id": "30bc09647ba5d6dd"
  },
  {
   "cell_type": "code",
   "execution_count": 108,
   "outputs": [
    {
     "name": "stdout",
     "output_type": "stream",
     "text": [
      "<class 'pandas.core.frame.DataFrame'>\n",
      "RangeIndex: 4867 entries, 0 to 4866\n",
      "Data columns (total 51 columns):\n",
      " #   Column                        Non-Null Count  Dtype  \n",
      "---  ------                        --------------  -----  \n",
      " 0   Unnamed: 0                    4867 non-null   int64  \n",
      " 1   county                        4867 non-null   object \n",
      " 2   state                         4867 non-null   object \n",
      " 3   percentage16_Donald_Trump     3111 non-null   float64\n",
      " 4   percentage16_Hillary_Clinton  3111 non-null   float64\n",
      " 5   total_votes16                 3111 non-null   float64\n",
      " 6   votes16_Donald_Trump          3111 non-null   float64\n",
      " 7   votes16_Hillary_Clinton       3111 non-null   float64\n",
      " 8   percentage20_Donald_Trump     4490 non-null   float64\n",
      " 9   percentage20_Joe_Biden        4490 non-null   float64\n",
      " 10  total_votes20                 4633 non-null   float64\n",
      " 11  votes20_Donald_Trump          4633 non-null   float64\n",
      " 12  votes20_Joe_Biden             4633 non-null   float64\n",
      " 13  lat                           3252 non-null   float64\n",
      " 14  long                          3252 non-null   float64\n",
      " 15  cases                         3252 non-null   float64\n",
      " 16  deaths                        3252 non-null   float64\n",
      " 17  TotalPop                      3142 non-null   float64\n",
      " 18  Men                           3142 non-null   float64\n",
      " 19  Women                         3142 non-null   float64\n",
      " 20  Hispanic                      3142 non-null   float64\n",
      " 21  White                         3142 non-null   float64\n",
      " 22  Black                         3142 non-null   float64\n",
      " 23  Native                        3142 non-null   float64\n",
      " 24  Asian                         3142 non-null   float64\n",
      " 25  Pacific                       3142 non-null   float64\n",
      " 26  VotingAgeCitizen              3142 non-null   float64\n",
      " 27  Income                        3142 non-null   float64\n",
      " 28  IncomeErr                     3142 non-null   float64\n",
      " 29  IncomePerCap                  3142 non-null   float64\n",
      " 30  IncomePerCapErr               3142 non-null   float64\n",
      " 31  Poverty                       3142 non-null   float64\n",
      " 32  ChildPoverty                  3141 non-null   float64\n",
      " 33  Professional                  3142 non-null   float64\n",
      " 34  Service                       3142 non-null   float64\n",
      " 35  Office                        3142 non-null   float64\n",
      " 36  Construction                  3142 non-null   float64\n",
      " 37  Production                    3142 non-null   float64\n",
      " 38  Drive                         3142 non-null   float64\n",
      " 39  Carpool                       3142 non-null   float64\n",
      " 40  Transit                       3142 non-null   float64\n",
      " 41  Walk                          3142 non-null   float64\n",
      " 42  OtherTransp                   3142 non-null   float64\n",
      " 43  WorkAtHome                    3142 non-null   float64\n",
      " 44  MeanCommute                   3142 non-null   float64\n",
      " 45  Employed                      3142 non-null   float64\n",
      " 46  PrivateWork                   3142 non-null   float64\n",
      " 47  PublicWork                    3142 non-null   float64\n",
      " 48  SelfEmployed                  3142 non-null   float64\n",
      " 49  FamilyWork                    3142 non-null   float64\n",
      " 50  Unemployment                  3142 non-null   float64\n",
      "dtypes: float64(48), int64(1), object(2)\n",
      "memory usage: 1.9+ MB\n"
     ]
    }
   ],
   "source": [
    "df_county.info()"
   ],
   "metadata": {
    "collapsed": false,
    "ExecuteTime": {
     "end_time": "2023-12-19T21:35:12.105731596Z",
     "start_time": "2023-12-19T21:35:12.088323510Z"
    }
   },
   "id": "6030a422e2f32580"
  },
  {
   "cell_type": "code",
   "execution_count": 55,
   "outputs": [],
   "source": [
    "df_county['state']=df_county['state'].fillna('null')"
   ],
   "metadata": {
    "collapsed": false,
    "ExecuteTime": {
     "end_time": "2023-12-18T15:29:21.712582256Z",
     "start_time": "2023-12-18T15:29:21.129332655Z"
    }
   },
   "id": "d16de996b03dacb5"
  },
  {
   "cell_type": "code",
   "execution_count": 56,
   "outputs": [],
   "source": [
    "df_county['TotalPop']=df_county['TotalPop'].fillna(0)"
   ],
   "metadata": {
    "collapsed": false,
    "ExecuteTime": {
     "end_time": "2023-12-18T15:29:23.379036599Z",
     "start_time": "2023-12-18T15:29:23.355953281Z"
    }
   },
   "id": "b506b71665a59482"
  },
  {
   "cell_type": "code",
   "execution_count": 9,
   "outputs": [
    {
     "data": {
      "text/plain": "<BarContainer object of 4867 artists>"
     },
     "execution_count": 9,
     "metadata": {},
     "output_type": "execute_result"
    },
    {
     "data": {
      "text/plain": "<Figure size 2500x1000 with 1 Axes>",
      "image/png": "[encoded data removed]"
     },
     "metadata": {},
     "output_type": "display_data"
    }
   ],
   "source": [
    "import matplotlib.pyplot as plt\n",
    "plt.figure(figsize=(25,10), layout='constrained')\n",
    "plt.bar(height=df_county['TotalPop'], x=df_county['state'], width=0.1)"
   ],
   "metadata": {
    "collapsed": false,
    "ExecuteTime": {
     "end_time": "2023-12-18T15:15:10.654168699Z",
     "start_time": "2023-12-18T15:14:25.558907856Z"
    }
   },
   "id": "398ed1802f0f613e"
  },
  {
   "cell_type": "code",
   "execution_count": 10,
   "outputs": [
    {
     "data": {
      "text/plain": "<BarContainer object of 4867 artists>"
     },
     "execution_count": 10,
     "metadata": {},
     "output_type": "execute_result"
    },
    {
     "data": {
      "text/plain": "<Figure size 2500x1000 with 1 Axes>",
      "image/png": "[encoded data removed]"
     },
     "metadata": {},
     "output_type": "display_data"
    }
   ],
   "source": [
    "plt.figure(figsize=(25,10), layout='constrained')\n",
    "plt.bar(height=df_county['Professional'], x=df_county['state'], width=0.1)"
   ],
   "metadata": {
    "collapsed": false,
    "ExecuteTime": {
     "end_time": "2023-12-18T15:15:36.069752665Z",
     "start_time": "2023-12-18T15:15:10.614496145Z"
    }
   },
   "id": "2d42e08250586fd1"
  },
  {
   "cell_type": "code",
   "execution_count": 10,
   "outputs": [],
   "source": [],
   "metadata": {
    "collapsed": false,
    "ExecuteTime": {
     "end_time": "2023-12-18T15:15:36.072045256Z",
     "start_time": "2023-12-18T15:15:34.732223903Z"
    }
   },
   "id": "783c33c23c0b3fe6"
  },
  {
   "cell_type": "code",
   "execution_count": 153,
   "outputs": [],
   "source": [
    "us_state_to_abbrev = {\n",
    "    \"Alabama\": \"AL\",\n",
    "    \"Alaska\": \"AK\",\n",
    "    \"Arizona\": \"AZ\",\n",
    "    \"Arkansas\": \"AR\",\n",
    "    \"California\": \"CA\",\n",
    "    \"Colorado\": \"CO\",\n",
    "    \"Connecticut\": \"CT\",\n",
    "    \"Delaware\": \"DE\",\n",
    "    \"Florida\": \"FL\",\n",
    "    \"Georgia\": \"GA\",\n",
    "    \"Hawaii\": \"HI\",\n",
    "    \"Idaho\": \"ID\",\n",
    "    \"Illinois\": \"IL\",\n",
    "    \"Indiana\": \"IN\",\n",
    "    \"Iowa\": \"IA\",\n",
    "    \"Kansas\": \"KS\",\n",
    "    \"Kentucky\": \"KY\",\n",
    "    \"Louisiana\": \"LA\",\n",
    "    \"Maine\": \"ME\",\n",
    "    \"Maryland\": \"MD\",\n",
    "    \"Massachusetts\": \"MA\",\n",
    "    \"Michigan\": \"MI\",\n",
    "    \"Minnesota\": \"MN\",\n",
    "    \"Mississippi\": \"MS\",\n",
    "    \"Missouri\": \"MO\",\n",
    "    \"Montana\": \"MT\",\n",
    "    \"Nebraska\": \"NE\",\n",
    "    \"Nevada\": \"NV\",\n",
    "    \"New Hampshire\": \"NH\",\n",
    "    \"New Jersey\": \"NJ\",\n",
    "    \"New Mexico\": \"NM\",\n",
    "    \"New York\": \"NY\",\n",
    "    \"North Carolina\": \"NC\",\n",
    "    \"North Dakota\": \"ND\",\n",
    "    \"Ohio\": \"OH\",\n",
    "    \"Oklahoma\": \"OK\",\n",
    "    \"Oregon\": \"OR\",\n",
    "    \"Pennsylvania\": \"PA\",\n",
    "    \"Rhode Island\": \"RI\",\n",
    "    \"South Carolina\": \"SC\",\n",
    "    \"South Dakota\": \"SD\",\n",
    "    \"Tennessee\": \"TN\",\n",
    "    \"Texas\": \"TX\",\n",
    "    \"Utah\": \"UT\",\n",
    "    \"Vermont\": \"VT\",\n",
    "    \"Virginia\": \"VA\",\n",
    "    \"Washington\": \"WA\",\n",
    "    \"West Virginia\": \"WV\",\n",
    "    \"Wisconsin\": \"WI\",\n",
    "    \"Wyoming\": \"WY\",\n",
    "    \"District of Columbia\": \"DC\",\n",
    "    \"American Samoa\": \"AS\",\n",
    "    \"Guam\": \"GU\",\n",
    "    \"Northern Mariana Islands\": \"MP\",\n",
    "    \"Puerto Rico\": \"PR\",\n",
    "    \"United States Minor Outlying Islands\": \"UM\",\n",
    "    \"U.S. Virgin Islands\": \"VI\",\n",
    "}\n"
   ],
   "metadata": {
    "collapsed": false,
    "ExecuteTime": {
     "end_time": "2023-12-20T08:07:37.389405291Z",
     "start_time": "2023-12-20T08:07:36.853689564Z"
    }
   },
   "id": "64e43024e4d1d0eb"
  },
  {
   "cell_type": "code",
   "execution_count": 154,
   "outputs": [],
   "source": [
    "#Region 1: Northeast\n",
    "#Division 1: New England (Connecticut, Maine, Massachusetts, New Hampshire, Rhode Island, and Vermont)\n",
    "#Division 2: Middle Atlantic (New Jersey, New York, and Pennsylvania)\n",
    "#Region 2: Midwest (Before June 1984, the Midwest Region was designated as the North Central Region.)[8]\n",
    "#Division 3: East North Central (Illinois, Indiana, Michigan, Ohio, and Wisconsin)\n",
    "#Division 4: West North Central (Iowa, Kansas, Minnesota, Missouri, Nebraska, North Dakota, and South Dakota)\n",
    "#Region 3: South\n",
    "#Division 5: South Atlantic (Delaware, Florida, Georgia, Maryland, North Carolina, South Carolina, Virginia, Washington, D.C., and West Virginia)\n",
    "#Division 6: East South Central (Alabama, Kentucky, Mississippi, and Tennessee)\n",
    "#Division 7: West South Central (Arkansas, Louisiana, Oklahoma, and Texas)\n",
    "#Region 4: West\n",
    "#Division 8: Mountain (Arizona, Colorado, Idaho, Montana, Nevada, New Mexico, Utah, and Wyoming)\n",
    "#Division 9: Pacific (Alaska, California, Hawaii, Oregon, and Washington)"
   ],
   "metadata": {
    "collapsed": false,
    "ExecuteTime": {
     "end_time": "2023-12-20T08:07:38.799053155Z",
     "start_time": "2023-12-20T08:07:38.687218366Z"
    }
   },
   "id": "274526a6f8337557"
  },
  {
   "cell_type": "code",
   "execution_count": 155,
   "outputs": [],
   "source": [
    "Northeast = [\"Connecticut\", \"Maine\", \"Massachusetts\", \"New Hampshire\", \"Rhode Island\", \"Vermont\", \"New Jersey\", \"New York\", \"Pennsylvania\"]\n",
    "Midwest = [\"Illinois\", \"Indiana\", \"Michigan\", \"Ohio\", \"Wisconsin\", \"Iowa\", \"Kansas\", \"Minnesota\", \"Missouri\", \"Nebraska\", \"North Dakota\", \"South Dakota\"]\n",
    "South = [\"Alabama\", \"Kentucky\", \"Mississippi\", \"Tennessee\", \"Arkansas\", \"Louisiana\", \"Oklahoma\", \"Texas\"]\n",
    "West = [\"Arizona\", \"Colorado\", \"Idaho\", \"Montana\", \"Nevada\", \"New Mexico\", \"Utah\", \"Wyoming\", \"Alaska\", \"California\", \"Hawaii\", \"Oregon\", \"Washington\"]\n"
   ],
   "metadata": {
    "collapsed": false,
    "ExecuteTime": {
     "end_time": "2023-12-20T08:07:40.859329611Z",
     "start_time": "2023-12-20T08:07:40.623562028Z"
    }
   },
   "id": "235b52bdcac555b"
  },
  {
   "cell_type": "code",
   "execution_count": 156,
   "outputs": [],
   "source": [
    "abbrev_to_us_state = dict(map(reversed, us_state_to_abbrev.items()))"
   ],
   "metadata": {
    "collapsed": false,
    "ExecuteTime": {
     "end_time": "2023-12-20T08:07:41.060677591Z",
     "start_time": "2023-12-20T08:07:40.758664982Z"
    }
   },
   "id": "b39160d8477fc1f1"
  },
  {
   "cell_type": "code",
   "execution_count": 157,
   "outputs": [],
   "source": [
    "Northeast_abr = [us_state_to_abbrev[state]  for state in  Northeast]\n",
    "MidWest_abr = [us_state_to_abbrev[state] for state in Midwest]\n",
    "South_abr = [us_state_to_abbrev[state] for state in South]\n",
    "West_abr = [us_state_to_abbrev[state] for state in West]"
   ],
   "metadata": {
    "collapsed": false,
    "ExecuteTime": {
     "end_time": "2023-12-20T08:07:42.406287751Z",
     "start_time": "2023-12-20T08:07:42.338658670Z"
    }
   },
   "id": "a30eae70c7100f05"
  },
  {
   "cell_type": "code",
   "execution_count": 157,
   "outputs": [],
   "source": [],
   "metadata": {
    "collapsed": false,
    "ExecuteTime": {
     "end_time": "2023-12-20T08:07:43.798522505Z",
     "start_time": "2023-12-20T08:07:43.675473778Z"
    }
   },
   "id": "1cf296e147073fe3"
  },
  {
   "cell_type": "code",
   "execution_count": 158,
   "outputs": [],
   "source": [
    "df_2016_polls= pd.read_csv('trump_clinton_polls.csv')"
   ],
   "metadata": {
    "collapsed": false,
    "ExecuteTime": {
     "end_time": "2023-12-20T08:07:45.233054521Z",
     "start_time": "2023-12-20T08:07:45.086406287Z"
    }
   },
   "id": "4d380fbb4345cd65"
  },
  {
   "cell_type": "code",
   "execution_count": 159,
   "outputs": [
    {
     "data": {
      "text/plain": "   Unnamed: 0  start_date    end_date           state               pollster  \\\n0        3077  2015-11-07  2015-11-08  South Carolina  Public Policy Polling   \n1        6520  2015-11-07  2015-11-08  South Carolina  Public Policy Polling   \n2        9901  2015-11-07  2015-11-08  South Carolina  Public Policy Polling   \n3        3206  2015-11-09  2015-11-13        Virginia        Roanoke College   \n4        6638  2015-11-09  2015-11-13        Virginia        Roanoke College   \n\n  fte_grade  sample_size population   Clinton     Trump  dem_lead  \n0        B+       1290.0          v  40.63694  45.19826  -4.56132  \n1        B+       1290.0          v  40.48820  45.19637  -4.70817  \n2        B+       1290.0          v  40.69941  45.18212  -4.48271  \n3        C+        555.0         rv  49.81532  36.21050  13.60482  \n4        C+        555.0         rv  49.00173  37.02524  11.97649  ",
      "text/html": "<div>\n<style scoped>\n    .dataframe tbody tr th:only-of-type {\n        vertical-align: middle;\n    }\n\n    .dataframe tbody tr th {\n        vertical-align: top;\n    }\n\n    .dataframe thead th {\n        text-align: right;\n    }\n</style>\n<table border=\"1\" class=\"dataframe\">\n  <thead>\n    <tr style=\"text-align: right;\">\n      <th></th>\n      <th>Unnamed: 0</th>\n      <th>start_date</th>\n      <th>end_date</th>\n      <th>state</th>\n      <th>pollster</th>\n      <th>fte_grade</th>\n      <th>sample_size</th>\n      <th>population</th>\n      <th>Clinton</th>\n      <th>Trump</th>\n      <th>dem_lead</th>\n    </tr>\n  </thead>\n  <tbody>\n    <tr>\n      <th>0</th>\n      <td>3077</td>\n      <td>2015-11-07</td>\n      <td>2015-11-08</td>\n      <td>South Carolina</td>\n      <td>Public Policy Polling</td>\n      <td>B+</td>\n      <td>1290.0</td>\n      <td>v</td>\n      <td>40.63694</td>\n      <td>45.19826</td>\n      <td>-4.56132</td>\n    </tr>\n    <tr>\n      <th>1</th>\n      <td>6520</td>\n      <td>2015-11-07</td>\n      <td>2015-11-08</td>\n      <td>South Carolina</td>\n      <td>Public Policy Polling</td>\n      <td>B+</td>\n      <td>1290.0</td>\n      <td>v</td>\n      <td>40.48820</td>\n      <td>45.19637</td>\n      <td>-4.70817</td>\n    </tr>\n    <tr>\n      <th>2</th>\n      <td>9901</td>\n      <td>2015-11-07</td>\n      <td>2015-11-08</td>\n      <td>South Carolina</td>\n      <td>Public Policy Polling</td>\n      <td>B+</td>\n      <td>1290.0</td>\n      <td>v</td>\n      <td>40.69941</td>\n      <td>45.18212</td>\n      <td>-4.48271</td>\n    </tr>\n    <tr>\n      <th>3</th>\n      <td>3206</td>\n      <td>2015-11-09</td>\n      <td>2015-11-13</td>\n      <td>Virginia</td>\n      <td>Roanoke College</td>\n      <td>C+</td>\n      <td>555.0</td>\n      <td>rv</td>\n      <td>49.81532</td>\n      <td>36.21050</td>\n      <td>13.60482</td>\n    </tr>\n    <tr>\n      <th>4</th>\n      <td>6638</td>\n      <td>2015-11-09</td>\n      <td>2015-11-13</td>\n      <td>Virginia</td>\n      <td>Roanoke College</td>\n      <td>C+</td>\n      <td>555.0</td>\n      <td>rv</td>\n      <td>49.00173</td>\n      <td>37.02524</td>\n      <td>11.97649</td>\n    </tr>\n  </tbody>\n</table>\n</div>"
     },
     "execution_count": 159,
     "metadata": {},
     "output_type": "execute_result"
    }
   ],
   "source": [
    "df_2016_polls.head()"
   ],
   "metadata": {
    "collapsed": false,
    "ExecuteTime": {
     "end_time": "2023-12-20T08:07:45.610779785Z",
     "start_time": "2023-12-20T08:07:45.187156239Z"
    }
   },
   "id": "902f426f6f9b05c6"
  },
  {
   "cell_type": "code",
   "execution_count": 160,
   "outputs": [],
   "source": [
    "df_2020_polls=pd.read_csv('trump_biden_polls.csv', low_memory=False)"
   ],
   "metadata": {
    "collapsed": false,
    "ExecuteTime": {
     "end_time": "2023-12-20T08:07:48.527721297Z",
     "start_time": "2023-12-20T08:07:48.052534895Z"
    }
   },
   "id": "e58564e18a10bac"
  },
  {
   "cell_type": "code",
   "execution_count": 161,
   "outputs": [
    {
     "data": {
      "text/plain": "   question_id  poll_id  cycle         state  pollster_id  \\\n0       136283    72621   2020          Iowa          383   \n1       136283    72621   2020          Iowa          383   \n2       136322    72647   2020  Pennsylvania          461   \n3       136322    72647   2020  Pennsylvania          461   \n4       136322    72647   2020  Pennsylvania          461   \n\n                              pollster sponsor_ids sponsors  \\\n0                Public Policy Polling         NaN      NaN   \n1                Public Policy Polling         NaN      NaN   \n2  Susquehanna Polling & Research Inc.         NaN      NaN   \n3  Susquehanna Polling & Research Inc.         NaN      NaN   \n4  Susquehanna Polling & Research Inc.         NaN      NaN   \n\n                          display_name  pollster_rating_id  ...  \\\n0                Public Policy Polling               263.0  ...   \n1                Public Policy Polling               263.0  ...   \n2  Susquehanna Polling & Research Inc.               326.0  ...   \n3  Susquehanna Polling & Research Inc.               326.0  ...   \n4  Susquehanna Polling & Research Inc.               326.0  ...   \n\n      created_at notes                                                url  \\\n0  11/2/20 09:02   NaN  https://www.publicpolicypolling.com/wp-content...   \n1  11/2/20 09:02   NaN  https://www.publicpolicypolling.com/wp-content...   \n2  11/2/20 12:49   NaN  https://www.realclearpolitics.com/docs/2020/Su...   \n3  11/2/20 12:49   NaN  https://www.realclearpolitics.com/docs/2020/Su...   \n4  11/2/20 12:49   NaN  https://www.realclearpolitics.com/docs/2020/Su...   \n\n     stage race_id     answer candidate_id       candidate_name  \\\n0  general    6223      Biden        13256  Joseph R. Biden Jr.   \n1  general    6223      Trump        13254         Donald Trump   \n2  general    6249      Biden        13256  Joseph R. Biden Jr.   \n3  general    6249      Trump        13254         Donald Trump   \n4  general    6249  Jorgensen        14611         Jo Jorgensen   \n\n   candidate_party   pct  \n0              DEM  49.0  \n1              REP  48.0  \n2              DEM  48.4  \n3              REP  49.2  \n4              LIB   1.4  \n\n[5 rows x 38 columns]",
      "text/html": "<div>\n<style scoped>\n    .dataframe tbody tr th:only-of-type {\n        vertical-align: middle;\n    }\n\n    .dataframe tbody tr th {\n        vertical-align: top;\n    }\n\n    .dataframe thead th {\n        text-align: right;\n    }\n</style>\n<table border=\"1\" class=\"dataframe\">\n  <thead>\n    <tr style=\"text-align: right;\">\n      <th></th>\n      <th>question_id</th>\n      <th>poll_id</th>\n      <th>cycle</th>\n      <th>state</th>\n      <th>pollster_id</th>\n      <th>pollster</th>\n      <th>sponsor_ids</th>\n      <th>sponsors</th>\n      <th>display_name</th>\n      <th>pollster_rating_id</th>\n      <th>...</th>\n      <th>created_at</th>\n      <th>notes</th>\n      <th>url</th>\n      <th>stage</th>\n      <th>race_id</th>\n      <th>answer</th>\n      <th>candidate_id</th>\n      <th>candidate_name</th>\n      <th>candidate_party</th>\n      <th>pct</th>\n    </tr>\n  </thead>\n  <tbody>\n    <tr>\n      <th>0</th>\n      <td>136283</td>\n      <td>72621</td>\n      <td>2020</td>\n      <td>Iowa</td>\n      <td>383</td>\n      <td>Public Policy Polling</td>\n      <td>NaN</td>\n      <td>NaN</td>\n      <td>Public Policy Polling</td>\n      <td>263.0</td>\n      <td>...</td>\n      <td>11/2/20 09:02</td>\n      <td>NaN</td>\n      <td>https://www.publicpolicypolling.com/wp-content...</td>\n      <td>general</td>\n      <td>6223</td>\n      <td>Biden</td>\n      <td>13256</td>\n      <td>Joseph R. Biden Jr.</td>\n      <td>DEM</td>\n      <td>49.0</td>\n    </tr>\n    <tr>\n      <th>1</th>\n      <td>136283</td>\n      <td>72621</td>\n      <td>2020</td>\n      <td>Iowa</td>\n      <td>383</td>\n      <td>Public Policy Polling</td>\n      <td>NaN</td>\n      <td>NaN</td>\n      <td>Public Policy Polling</td>\n      <td>263.0</td>\n      <td>...</td>\n      <td>11/2/20 09:02</td>\n      <td>NaN</td>\n      <td>https://www.publicpolicypolling.com/wp-content...</td>\n      <td>general</td>\n      <td>6223</td>\n      <td>Trump</td>\n      <td>13254</td>\n      <td>Donald Trump</td>\n      <td>REP</td>\n      <td>48.0</td>\n    </tr>\n    <tr>\n      <th>2</th>\n      <td>136322</td>\n      <td>72647</td>\n      <td>2020</td>\n      <td>Pennsylvania</td>\n      <td>461</td>\n      <td>Susquehanna Polling &amp; Research Inc.</td>\n      <td>NaN</td>\n      <td>NaN</td>\n      <td>Susquehanna Polling &amp; Research Inc.</td>\n      <td>326.0</td>\n      <td>...</td>\n      <td>11/2/20 12:49</td>\n      <td>NaN</td>\n      <td>https://www.realclearpolitics.com/docs/2020/Su...</td>\n      <td>general</td>\n      <td>6249</td>\n      <td>Biden</td>\n      <td>13256</td>\n      <td>Joseph R. Biden Jr.</td>\n      <td>DEM</td>\n      <td>48.4</td>\n    </tr>\n    <tr>\n      <th>3</th>\n      <td>136322</td>\n      <td>72647</td>\n      <td>2020</td>\n      <td>Pennsylvania</td>\n      <td>461</td>\n      <td>Susquehanna Polling &amp; Research Inc.</td>\n      <td>NaN</td>\n      <td>NaN</td>\n      <td>Susquehanna Polling &amp; Research Inc.</td>\n      <td>326.0</td>\n      <td>...</td>\n      <td>11/2/20 12:49</td>\n      <td>NaN</td>\n      <td>https://www.realclearpolitics.com/docs/2020/Su...</td>\n      <td>general</td>\n      <td>6249</td>\n      <td>Trump</td>\n      <td>13254</td>\n      <td>Donald Trump</td>\n      <td>REP</td>\n      <td>49.2</td>\n    </tr>\n    <tr>\n      <th>4</th>\n      <td>136322</td>\n      <td>72647</td>\n      <td>2020</td>\n      <td>Pennsylvania</td>\n      <td>461</td>\n      <td>Susquehanna Polling &amp; Research Inc.</td>\n      <td>NaN</td>\n      <td>NaN</td>\n      <td>Susquehanna Polling &amp; Research Inc.</td>\n      <td>326.0</td>\n      <td>...</td>\n      <td>11/2/20 12:49</td>\n      <td>NaN</td>\n      <td>https://www.realclearpolitics.com/docs/2020/Su...</td>\n      <td>general</td>\n      <td>6249</td>\n      <td>Jorgensen</td>\n      <td>14611</td>\n      <td>Jo Jorgensen</td>\n      <td>LIB</td>\n      <td>1.4</td>\n    </tr>\n  </tbody>\n</table>\n<p>5 rows × 38 columns</p>\n</div>"
     },
     "execution_count": 161,
     "metadata": {},
     "output_type": "execute_result"
    }
   ],
   "source": [
    "df_2020_polls.head()"
   ],
   "metadata": {
    "collapsed": false,
    "ExecuteTime": {
     "end_time": "2023-12-20T08:07:49.840712728Z",
     "start_time": "2023-12-20T08:07:49.609215444Z"
    }
   },
   "id": "71aee4ce7407c59"
  },
  {
   "cell_type": "markdown",
   "source": [
    "## 2 prediction"
   ],
   "metadata": {
    "collapsed": false
   },
   "id": "f5266cb986e9821d"
  },
  {
   "cell_type": "markdown",
   "source": [
    "### trump clinton\n",
    "\n",
    "### trump biden"
   ],
   "metadata": {
    "collapsed": false
   },
   "id": "3027f820eb961717"
  },
  {
   "cell_type": "markdown",
   "source": [
    "## Analyse sociologique préalable"
   ],
   "metadata": {
    "collapsed": false
   },
   "id": "1bba55186fa9d3b8"
  },
  {
   "cell_type": "code",
   "execution_count": 162,
   "outputs": [
    {
     "data": {
      "text/plain": "    Unnamed: 0           county state  percentage16_Donald_Trump  \\\n0            0        Abbeville    SC                      0.629   \n1            1           Acadia    LA                      0.773   \n2            2         Accomack    VA                      0.545   \n3            3              Ada    ID                      0.479   \n4            4            Adair    IA                      0.653   \n5            5            Adair    KY                      0.806   \n6            6            Adair    MO                      0.594   \n7            7            Adair    OK                      0.735   \n8            8            Adams    CO                      0.421   \n9            9            Adams    IA                      0.669   \n10          10            Adams    ID                      0.713   \n11          11            Adams    IL                      0.716   \n12          12            Adams    IN                      0.739   \n13          13            Adams    MS                      0.420   \n14          14            Adams    ND                      0.750   \n15          15            Adams    NE                      0.699   \n16          16            Adams    OH                      0.763   \n17          17            Adams    PA                      0.663   \n18          18            Adams    WA                      0.671   \n19          19            Adams    WI                      0.592   \n20          20          Addison    VT                      0.301   \n21          21            Aiken    SC                      0.615   \n22          22           Aitkin    MN                      0.601   \n23          23          Alachua    FL                      0.364   \n24          24         Alamance    NC                      0.552   \n25          25          Alameda    CA                      0.151   \n26          26          Alamosa    CO                      0.439   \n27          27           Albany    NY                      0.352   \n28          28           Albany    WY                      0.463   \n29          29        Albemarle    VA                      0.343   \n30          30           Alcona    MI                      0.680   \n31          31           Alcorn    MS                      0.799   \n32          32        Alexander    IL                      0.530   \n33          33        Alexander    NC                      0.768   \n34          34  Alexandria city    VA                      0.178   \n35          35          Alfalfa    OK                      0.856   \n36          36            Alger    MI                      0.573   \n37          37        Allamakee    IA                      0.596   \n38          38          Allegan    MI                      0.613   \n39          39         Allegany    MD                      0.720   \n40          40         Allegany    NY                      0.684   \n41          41        Alleghany    NC                      0.727   \n42          42        Alleghany    VA                      0.667   \n43          43        Allegheny    PA                      0.400   \n44          44            Allen    IN                      0.575   \n45          45            Allen    KS                      0.673   \n46          46            Allen    KY                      0.799   \n47          47            Allen    OH                      0.669   \n48          48            Allen    LA                      0.743   \n49          49        Allendale    SC                      0.220   \n\n    percentage16_Hillary_Clinton  total_votes16  votes16_Donald_Trump  \\\n0                          0.346        10724.0                6742.0   \n1                          0.206        27386.0               21159.0   \n2                          0.428        15755.0                8582.0   \n3                          0.387       195587.0               93748.0   \n4                          0.300         3759.0                2456.0   \n5                          0.161         8231.0                6637.0   \n6                          0.345        10137.0                6019.0   \n7                          0.212         6468.0                4753.0   \n8                          0.494       175125.0               73807.0   \n9                          0.271         2082.0                1393.0   \n10                         0.190         2183.0                1556.0   \n11                         0.240        31770.0               22732.0   \n12                         0.215        13039.0                9642.0   \n13                         0.567        12214.0                5125.0   \n14                         0.179         1206.0                 904.0   \n15                         0.248        13172.0                9205.0   \n16                         0.207        11063.0                8445.0   \n17                         0.299        47138.0               31249.0   \n18                         0.274         4081.0                2740.0   \n19                         0.374        10107.0                5983.0   \n20                         0.638        17592.0                5297.0   \n21                         0.340        74773.0               45981.0   \n22                         0.341         9185.0                5516.0   \n23                         0.590       127827.0               46584.0   \n24                         0.423        69264.0               38235.0   \n25                         0.795       424517.0               64010.0   \n26                         0.459         6897.0                3031.0   \n27                         0.595       125644.0               44227.0   \n28                         0.419        16420.0                7601.0   \n29                         0.593        56134.0               19232.0   \n30                         0.280         6179.0                4201.0   \n31                         0.182        14781.0               11817.0   \n32                         0.448         2820.0                1496.0   \n33                         0.208        18011.0               13826.0   \n34                         0.768        74384.0               13241.0   \n35                         0.096         2256.0                1931.0   \n36                         0.368         4513.0                2585.0   \n37                         0.352         6837.0                4072.0   \n38                         0.325        55153.0               33812.0   \n39                         0.240        27804.0               20025.0   \n40                         0.261        17111.0               11712.0   \n41                         0.249         5214.0                3789.0   \n42                         0.296         7306.0                4873.0   \n43                         0.564       643173.0              257488.0   \n44                         0.379       145787.0               83801.0   \n45                         0.263         5314.0                3575.0   \n46                         0.167         8091.0                6466.0   \n47                         0.287        44636.0               29858.0   \n48                         0.228         9245.0                6867.0   \n49                         0.761         3578.0                 788.0   \n\n    votes16_Hillary_Clinton  percentage20_Donald_Trump  \\\n0                    3712.0                      0.661   \n1                    5638.0                      0.795   \n2                    6737.0                      0.542   \n3                   75676.0                      0.504   \n4                    1127.0                      0.697   \n5                    1323.0                      0.830   \n6                    3495.0                      0.618   \n7                    1374.0                      0.786   \n8                   86471.0                      0.404   \n9                     565.0                      0.708   \n10                    415.0                      0.751   \n11                   7633.0                      0.722   \n12                   2802.0                      0.750   \n13                   6921.0                      0.426   \n14                    216.0                      0.773   \n15                   3272.0                      0.691   \n16                   2293.0                      0.811   \n17                  14077.0                      0.663   \n18                   1118.0                      0.675   \n19                   3780.0                      0.623   \n20                  11217.0                      0.436   \n21                  25426.0                      0.606   \n22                   3134.0                      0.625   \n23                  75370.0                      0.356   \n24                  29268.0                      0.537   \n25                 337524.0                      0.176   \n26                   3168.0                      0.489   \n27                  74775.0                      0.375   \n28                   6888.0                      0.461   \n29                  33297.0                      0.324   \n30                   1732.0                      0.686   \n31                   2684.0                      0.811   \n32                   1262.0                      0.543   \n33                   3750.0                      0.786   \n34                  57147.0                      0.178   \n35                    216.0                      0.874   \n36                   1663.0                      0.587   \n37                   2409.0                      0.635   \n38                  17932.0                      0.616   \n39                   6665.0                      0.694   \n40                   4473.0                      0.734   \n41                   1300.0                      0.745   \n42                   2165.0                      0.715   \n43                 363017.0                      0.390   \n44                  55222.0                      0.544   \n45                   1398.0                      0.711   \n46                   1349.0                      0.810   \n47                  12815.0                      0.691   \n48                   2106.0                      0.772   \n49                   2722.0                      0.232   \n\n    percentage20_Joe_Biden  ...  Walk  OtherTransp  WorkAtHome  MeanCommute  \\\n0                    0.330  ...   1.8          1.8         6.5         25.8   \n1                    0.191  ...   1.6          2.2         2.5         27.6   \n2                    0.447  ...   2.6          1.8         4.5         22.0   \n3                    0.465  ...   1.5          2.8         6.9         20.4   \n4                    0.286  ...   2.8          0.4         6.2         22.3   \n5                    0.159  ...   2.6          0.5         3.4         22.2   \n6                    0.358  ...   4.0          2.6         4.0         17.1   \n7                    0.195  ...   2.8          1.0         3.2         23.1   \n8                    0.567  ...   1.2          1.1         5.0         29.2   \n9                    0.273  ...   3.3          0.8         5.3         19.6   \n10                   0.229  ...   4.4          1.8        10.9         24.1   \n11                   0.256  ...   2.3          1.5         4.5         17.0   \n12                   0.227  ...   2.6          1.9         4.5         22.8   \n13                   0.564  ...   0.6          1.2         3.7         18.9   \n14                   0.203  ...   6.0          2.9         7.3         17.3   \n15                   0.289  ...   1.8          1.3         3.9         15.3   \n16                   0.179  ...   1.3          1.2         4.8         36.5   \n17                   0.322  ...   3.7          0.9         3.8         27.6   \n18                   0.306  ...   2.2          1.9         5.7         17.8   \n19                   0.366  ...   1.5          1.7         6.0         28.3   \n20                   0.511  ...   7.6          1.2         9.4         23.8   \n21                   0.379  ...   1.0          0.9         2.9         24.9   \n22                   0.360  ...   4.1          1.5         5.4         26.0   \n23                   0.627  ...   3.3          4.6         4.5         21.2   \n24                   0.451  ...   1.3          1.1         2.9         23.6   \n25                   0.804  ...   3.7          3.6         6.0         32.5   \n26                   0.482  ...   4.2          1.4         2.9         14.6   \n27                   0.602  ...   4.6          1.6         3.5         20.4   \n28                   0.488  ...   8.8          4.7         4.7         12.7   \n29                   0.661  ...   3.4          1.8         7.6         21.9   \n30                   0.303  ...   1.8          2.3         5.3         24.0   \n31                   0.175  ...   1.0          0.5         1.7         22.4   \n32                   0.448  ...   1.7          1.4         2.6         27.3   \n33                   0.204  ...   0.8          2.6         2.8         25.6   \n34                   0.810  ...   3.5          2.9         5.2         31.8   \n35                   0.103  ...   4.9          2.5         3.5         18.8   \n36                   0.400  ...   4.3          1.8         8.0         21.3   \n37                   0.345  ...   5.0          2.1         7.5         24.3   \n38                   0.364  ...   1.4          0.7         4.1         23.9   \n39                   0.291  ...   4.4          1.2         1.7         20.9   \n40                   0.242  ...  12.4          1.3         2.8         21.4   \n41                   0.245  ...   2.5          0.4         4.2         25.0   \n42                   0.274  ...   0.7          1.7         2.7         24.6   \n43                   0.595  ...   4.2          1.5         4.7         26.7   \n44                   0.431  ...   1.2          0.9         4.0         21.3   \n45                   0.267  ...   3.5          0.7         3.3         17.4   \n46                   0.175  ...   2.5          1.6         6.9         24.1   \n47                   0.294  ...   1.6          1.2         2.0         18.9   \n48                   0.215  ...   0.7          2.2         2.3         28.3   \n49                   0.756  ...   4.1          1.0         1.6         28.3   \n\n    Employed  PrivateWork  PublicWork  SelfEmployed  FamilyWork  Unemployment  \n0     9505.0         78.8        13.3           7.8         0.1           9.4  \n1    24982.0         80.0        12.1           7.6         0.3           8.9  \n2    13837.0         74.6        18.1           7.1         0.2           5.4  \n3   214984.0         78.3        15.0           6.6         0.1           4.3  \n4     3680.0         73.8        15.3          10.4         0.5           3.0  \n5     7988.0         74.1        15.8           9.9         0.1           6.2  \n6    11274.0         73.6        20.9           5.3         0.2           5.5  \n7     8130.0         71.6        20.4           7.5         0.5           5.5  \n8   246450.0         83.6        11.2           5.1         0.1           5.1  \n9     1796.0         72.0        12.1          15.5         0.3           4.2  \n10    1539.0         65.4        22.0          12.5         0.0           8.7  \n11   32243.0         83.1        10.6           6.1         0.1           5.5  \n12   14954.0         83.1         8.2           8.1         0.6           5.2  \n13   10190.0         75.2        18.2           6.4         0.1          10.9  \n14    1275.0         73.7        10.6          15.2         0.5           1.6  \n15   15890.0         78.0        15.1           6.7         0.1           4.2  \n16   10124.0         79.1        13.0           7.7         0.2           7.5  \n17   50561.0         83.4        10.7           5.6         0.2           4.9  \n18    7757.0         81.2        14.6           3.8         0.3           5.9  \n19    7530.0         80.7        11.9           7.3         0.2           8.1  \n20   19872.0         77.9        10.3          11.5         0.3           4.4  \n21   70753.0         78.1        16.4           5.0         0.4           9.0  \n22    6274.0         75.8        15.7           8.4         0.1           6.2  \n23  120466.0         70.2        25.5           4.2         0.1           6.6  \n24   73906.0         81.0        13.2           5.6         0.2           6.0  \n25  826310.0         79.3        13.2           7.3         0.1           6.0  \n26    6593.0         73.1        18.2           6.3         2.3           9.9  \n27  158961.0         71.3        24.5           4.2         0.1           5.3  \n28   21115.0         61.4        32.8           5.7         0.1           4.8  \n29   50689.0         68.0        24.5           7.2         0.3           3.2  \n30    3357.0         78.3        14.0           7.5         0.2           9.3  \n31   14884.0         81.1        13.9           5.0         0.1           8.6  \n32    2164.0         75.0        20.6           4.4         0.0           8.2  \n33   16393.0         83.2        10.5           6.2         0.2           6.7  \n34   95344.0         70.1        25.0           4.9         0.0           3.9  \n35    2238.0         64.7        21.2          13.8         0.3           4.5  \n36    3160.0         77.1        17.6           5.3         0.0           6.9  \n37    6881.0         77.8        10.3          10.8         1.1           3.3  \n38   54028.0         86.3         7.7           5.9         0.2           3.6  \n39   28738.0         73.6        22.6           3.7         0.0           9.0  \n40   20132.0         73.6        19.3           6.8         0.3           7.3  \n41    4447.0         70.6        16.9          12.4         0.2           5.7  \n42    6225.0         81.6        12.2           6.0         0.2           4.4  \n43  622670.0         86.7         8.6           4.6         0.1           5.9  \n44  176365.0         87.2         8.6           4.1         0.1           6.3  \n45    6006.0         75.3        15.9           8.4         0.4           3.6  \n46    8443.0         74.8        13.9          11.3         0.1           7.5  \n47   48351.0         86.1         9.8           4.0         0.1           7.2  \n48    8577.0         72.8        23.8           3.2         0.2           9.4  \n49    2668.0         71.0        23.4           5.7         0.0          17.3  \n\n[50 rows x 51 columns]",
      "text/html": "<div>\n<style scoped>\n    .dataframe tbody tr th:only-of-type {\n        vertical-align: middle;\n    }\n\n    .dataframe tbody tr th {\n        vertical-align: top;\n    }\n\n    .dataframe thead th {\n        text-align: right;\n    }\n</style>\n<table border=\"1\" class=\"dataframe\">\n  <thead>\n    <tr style=\"text-align: right;\">\n      <th></th>\n      <th>Unnamed: 0</th>\n      <th>county</th>\n      <th>state</th>\n      <th>percentage16_Donald_Trump</th>\n      <th>percentage16_Hillary_Clinton</th>\n      <th>total_votes16</th>\n      <th>votes16_Donald_Trump</th>\n      <th>votes16_Hillary_Clinton</th>\n      <th>percentage20_Donald_Trump</th>\n      <th>percentage20_Joe_Biden</th>\n      <th>...</th>\n      <th>Walk</th>\n      <th>OtherTransp</th>\n      <th>WorkAtHome</th>\n      <th>MeanCommute</th>\n      <th>Employed</th>\n      <th>PrivateWork</th>\n      <th>PublicWork</th>\n      <th>SelfEmployed</th>\n      <th>FamilyWork</th>\n      <th>Unemployment</th>\n    </tr>\n  </thead>\n  <tbody>\n    <tr>\n      <th>0</th>\n      <td>0</td>\n      <td>Abbeville</td>\n      <td>SC</td>\n      <td>0.629</td>\n      <td>0.346</td>\n      <td>10724.0</td>\n      <td>6742.0</td>\n      <td>3712.0</td>\n      <td>0.661</td>\n      <td>0.330</td>\n      <td>...</td>\n      <td>1.8</td>\n      <td>1.8</td>\n      <td>6.5</td>\n      <td>25.8</td>\n      <td>9505.0</td>\n      <td>78.8</td>\n      <td>13.3</td>\n      <td>7.8</td>\n      <td>0.1</td>\n      <td>9.4</td>\n    </tr>\n    <tr>\n      <th>1</th>\n      <td>1</td>\n      <td>Acadia</td>\n      <td>LA</td>\n      <td>0.773</td>\n      <td>0.206</td>\n      <td>27386.0</td>\n      <td>21159.0</td>\n      <td>5638.0</td>\n      <td>0.795</td>\n      <td>0.191</td>\n      <td>...</td>\n      <td>1.6</td>\n      <td>2.2</td>\n      <td>2.5</td>\n      <td>27.6</td>\n      <td>24982.0</td>\n      <td>80.0</td>\n      <td>12.1</td>\n      <td>7.6</td>\n      <td>0.3</td>\n      <td>8.9</td>\n    </tr>\n    <tr>\n      <th>2</th>\n      <td>2</td>\n      <td>Accomack</td>\n      <td>VA</td>\n      <td>0.545</td>\n      <td>0.428</td>\n      <td>15755.0</td>\n      <td>8582.0</td>\n      <td>6737.0</td>\n      <td>0.542</td>\n      <td>0.447</td>\n      <td>...</td>\n      <td>2.6</td>\n      <td>1.8</td>\n      <td>4.5</td>\n      <td>22.0</td>\n      <td>13837.0</td>\n      <td>74.6</td>\n      <td>18.1</td>\n      <td>7.1</td>\n      <td>0.2</td>\n      <td>5.4</td>\n    </tr>\n    <tr>\n      <th>3</th>\n      <td>3</td>\n      <td>Ada</td>\n      <td>ID</td>\n      <td>0.479</td>\n      <td>0.387</td>\n      <td>195587.0</td>\n      <td>93748.0</td>\n      <td>75676.0</td>\n      <td>0.504</td>\n      <td>0.465</td>\n      <td>...</td>\n      <td>1.5</td>\n      <td>2.8</td>\n      <td>6.9</td>\n      <td>20.4</td>\n      <td>214984.0</td>\n      <td>78.3</td>\n      <td>15.0</td>\n      <td>6.6</td>\n      <td>0.1</td>\n      <td>4.3</td>\n    </tr>\n    <tr>\n      <th>4</th>\n      <td>4</td>\n      <td>Adair</td>\n      <td>IA</td>\n      <td>0.653</td>\n      <td>0.300</td>\n      <td>3759.0</td>\n      <td>2456.0</td>\n      <td>1127.0</td>\n      <td>0.697</td>\n      <td>0.286</td>\n      <td>...</td>\n      <td>2.8</td>\n      <td>0.4</td>\n      <td>6.2</td>\n      <td>22.3</td>\n      <td>3680.0</td>\n      <td>73.8</td>\n      <td>15.3</td>\n      <td>10.4</td>\n      <td>0.5</td>\n      <td>3.0</td>\n    </tr>\n    <tr>\n      <th>5</th>\n      <td>5</td>\n      <td>Adair</td>\n      <td>KY</td>\n      <td>0.806</td>\n      <td>0.161</td>\n      <td>8231.0</td>\n      <td>6637.0</td>\n      <td>1323.0</td>\n      <td>0.830</td>\n      <td>0.159</td>\n      <td>...</td>\n      <td>2.6</td>\n      <td>0.5</td>\n      <td>3.4</td>\n      <td>22.2</td>\n      <td>7988.0</td>\n      <td>74.1</td>\n      <td>15.8</td>\n      <td>9.9</td>\n      <td>0.1</td>\n      <td>6.2</td>\n    </tr>\n    <tr>\n      <th>6</th>\n      <td>6</td>\n      <td>Adair</td>\n      <td>MO</td>\n      <td>0.594</td>\n      <td>0.345</td>\n      <td>10137.0</td>\n      <td>6019.0</td>\n      <td>3495.0</td>\n      <td>0.618</td>\n      <td>0.358</td>\n      <td>...</td>\n      <td>4.0</td>\n      <td>2.6</td>\n      <td>4.0</td>\n      <td>17.1</td>\n      <td>11274.0</td>\n      <td>73.6</td>\n      <td>20.9</td>\n      <td>5.3</td>\n      <td>0.2</td>\n      <td>5.5</td>\n    </tr>\n    <tr>\n      <th>7</th>\n      <td>7</td>\n      <td>Adair</td>\n      <td>OK</td>\n      <td>0.735</td>\n      <td>0.212</td>\n      <td>6468.0</td>\n      <td>4753.0</td>\n      <td>1374.0</td>\n      <td>0.786</td>\n      <td>0.195</td>\n      <td>...</td>\n      <td>2.8</td>\n      <td>1.0</td>\n      <td>3.2</td>\n      <td>23.1</td>\n      <td>8130.0</td>\n      <td>71.6</td>\n      <td>20.4</td>\n      <td>7.5</td>\n      <td>0.5</td>\n      <td>5.5</td>\n    </tr>\n    <tr>\n      <th>8</th>\n      <td>8</td>\n      <td>Adams</td>\n      <td>CO</td>\n      <td>0.421</td>\n      <td>0.494</td>\n      <td>175125.0</td>\n      <td>73807.0</td>\n      <td>86471.0</td>\n      <td>0.404</td>\n      <td>0.567</td>\n      <td>...</td>\n      <td>1.2</td>\n      <td>1.1</td>\n      <td>5.0</td>\n      <td>29.2</td>\n      <td>246450.0</td>\n      <td>83.6</td>\n      <td>11.2</td>\n      <td>5.1</td>\n      <td>0.1</td>\n      <td>5.1</td>\n    </tr>\n    <tr>\n      <th>9</th>\n      <td>9</td>\n      <td>Adams</td>\n      <td>IA</td>\n      <td>0.669</td>\n      <td>0.271</td>\n      <td>2082.0</td>\n      <td>1393.0</td>\n      <td>565.0</td>\n      <td>0.708</td>\n      <td>0.273</td>\n      <td>...</td>\n      <td>3.3</td>\n      <td>0.8</td>\n      <td>5.3</td>\n      <td>19.6</td>\n      <td>1796.0</td>\n      <td>72.0</td>\n      <td>12.1</td>\n      <td>15.5</td>\n      <td>0.3</td>\n      <td>4.2</td>\n    </tr>\n    <tr>\n      <th>10</th>\n      <td>10</td>\n      <td>Adams</td>\n      <td>ID</td>\n      <td>0.713</td>\n      <td>0.190</td>\n      <td>2183.0</td>\n      <td>1556.0</td>\n      <td>415.0</td>\n      <td>0.751</td>\n      <td>0.229</td>\n      <td>...</td>\n      <td>4.4</td>\n      <td>1.8</td>\n      <td>10.9</td>\n      <td>24.1</td>\n      <td>1539.0</td>\n      <td>65.4</td>\n      <td>22.0</td>\n      <td>12.5</td>\n      <td>0.0</td>\n      <td>8.7</td>\n    </tr>\n    <tr>\n      <th>11</th>\n      <td>11</td>\n      <td>Adams</td>\n      <td>IL</td>\n      <td>0.716</td>\n      <td>0.240</td>\n      <td>31770.0</td>\n      <td>22732.0</td>\n      <td>7633.0</td>\n      <td>0.722</td>\n      <td>0.256</td>\n      <td>...</td>\n      <td>2.3</td>\n      <td>1.5</td>\n      <td>4.5</td>\n      <td>17.0</td>\n      <td>32243.0</td>\n      <td>83.1</td>\n      <td>10.6</td>\n      <td>6.1</td>\n      <td>0.1</td>\n      <td>5.5</td>\n    </tr>\n    <tr>\n      <th>12</th>\n      <td>12</td>\n      <td>Adams</td>\n      <td>IN</td>\n      <td>0.739</td>\n      <td>0.215</td>\n      <td>13039.0</td>\n      <td>9642.0</td>\n      <td>2802.0</td>\n      <td>0.750</td>\n      <td>0.227</td>\n      <td>...</td>\n      <td>2.6</td>\n      <td>1.9</td>\n      <td>4.5</td>\n      <td>22.8</td>\n      <td>14954.0</td>\n      <td>83.1</td>\n      <td>8.2</td>\n      <td>8.1</td>\n      <td>0.6</td>\n      <td>5.2</td>\n    </tr>\n    <tr>\n      <th>13</th>\n      <td>13</td>\n      <td>Adams</td>\n      <td>MS</td>\n      <td>0.420</td>\n      <td>0.567</td>\n      <td>12214.0</td>\n      <td>5125.0</td>\n      <td>6921.0</td>\n      <td>0.426</td>\n      <td>0.564</td>\n      <td>...</td>\n      <td>0.6</td>\n      <td>1.2</td>\n      <td>3.7</td>\n      <td>18.9</td>\n      <td>10190.0</td>\n      <td>75.2</td>\n      <td>18.2</td>\n      <td>6.4</td>\n      <td>0.1</td>\n      <td>10.9</td>\n    </tr>\n    <tr>\n      <th>14</th>\n      <td>14</td>\n      <td>Adams</td>\n      <td>ND</td>\n      <td>0.750</td>\n      <td>0.179</td>\n      <td>1206.0</td>\n      <td>904.0</td>\n      <td>216.0</td>\n      <td>0.773</td>\n      <td>0.203</td>\n      <td>...</td>\n      <td>6.0</td>\n      <td>2.9</td>\n      <td>7.3</td>\n      <td>17.3</td>\n      <td>1275.0</td>\n      <td>73.7</td>\n      <td>10.6</td>\n      <td>15.2</td>\n      <td>0.5</td>\n      <td>1.6</td>\n    </tr>\n    <tr>\n      <th>15</th>\n      <td>15</td>\n      <td>Adams</td>\n      <td>NE</td>\n      <td>0.699</td>\n      <td>0.248</td>\n      <td>13172.0</td>\n      <td>9205.0</td>\n      <td>3272.0</td>\n      <td>0.691</td>\n      <td>0.289</td>\n      <td>...</td>\n      <td>1.8</td>\n      <td>1.3</td>\n      <td>3.9</td>\n      <td>15.3</td>\n      <td>15890.0</td>\n      <td>78.0</td>\n      <td>15.1</td>\n      <td>6.7</td>\n      <td>0.1</td>\n      <td>4.2</td>\n    </tr>\n    <tr>\n      <th>16</th>\n      <td>16</td>\n      <td>Adams</td>\n      <td>OH</td>\n      <td>0.763</td>\n      <td>0.207</td>\n      <td>11063.0</td>\n      <td>8445.0</td>\n      <td>2293.0</td>\n      <td>0.811</td>\n      <td>0.179</td>\n      <td>...</td>\n      <td>1.3</td>\n      <td>1.2</td>\n      <td>4.8</td>\n      <td>36.5</td>\n      <td>10124.0</td>\n      <td>79.1</td>\n      <td>13.0</td>\n      <td>7.7</td>\n      <td>0.2</td>\n      <td>7.5</td>\n    </tr>\n    <tr>\n      <th>17</th>\n      <td>17</td>\n      <td>Adams</td>\n      <td>PA</td>\n      <td>0.663</td>\n      <td>0.299</td>\n      <td>47138.0</td>\n      <td>31249.0</td>\n      <td>14077.0</td>\n      <td>0.663</td>\n      <td>0.322</td>\n      <td>...</td>\n      <td>3.7</td>\n      <td>0.9</td>\n      <td>3.8</td>\n      <td>27.6</td>\n      <td>50561.0</td>\n      <td>83.4</td>\n      <td>10.7</td>\n      <td>5.6</td>\n      <td>0.2</td>\n      <td>4.9</td>\n    </tr>\n    <tr>\n      <th>18</th>\n      <td>18</td>\n      <td>Adams</td>\n      <td>WA</td>\n      <td>0.671</td>\n      <td>0.274</td>\n      <td>4081.0</td>\n      <td>2740.0</td>\n      <td>1118.0</td>\n      <td>0.675</td>\n      <td>0.306</td>\n      <td>...</td>\n      <td>2.2</td>\n      <td>1.9</td>\n      <td>5.7</td>\n      <td>17.8</td>\n      <td>7757.0</td>\n      <td>81.2</td>\n      <td>14.6</td>\n      <td>3.8</td>\n      <td>0.3</td>\n      <td>5.9</td>\n    </tr>\n    <tr>\n      <th>19</th>\n      <td>19</td>\n      <td>Adams</td>\n      <td>WI</td>\n      <td>0.592</td>\n      <td>0.374</td>\n      <td>10107.0</td>\n      <td>5983.0</td>\n      <td>3780.0</td>\n      <td>0.623</td>\n      <td>0.366</td>\n      <td>...</td>\n      <td>1.5</td>\n      <td>1.7</td>\n      <td>6.0</td>\n      <td>28.3</td>\n      <td>7530.0</td>\n      <td>80.7</td>\n      <td>11.9</td>\n      <td>7.3</td>\n      <td>0.2</td>\n      <td>8.1</td>\n    </tr>\n    <tr>\n      <th>20</th>\n      <td>20</td>\n      <td>Addison</td>\n      <td>VT</td>\n      <td>0.301</td>\n      <td>0.638</td>\n      <td>17592.0</td>\n      <td>5297.0</td>\n      <td>11217.0</td>\n      <td>0.436</td>\n      <td>0.511</td>\n      <td>...</td>\n      <td>7.6</td>\n      <td>1.2</td>\n      <td>9.4</td>\n      <td>23.8</td>\n      <td>19872.0</td>\n      <td>77.9</td>\n      <td>10.3</td>\n      <td>11.5</td>\n      <td>0.3</td>\n      <td>4.4</td>\n    </tr>\n    <tr>\n      <th>21</th>\n      <td>21</td>\n      <td>Aiken</td>\n      <td>SC</td>\n      <td>0.615</td>\n      <td>0.340</td>\n      <td>74773.0</td>\n      <td>45981.0</td>\n      <td>25426.0</td>\n      <td>0.606</td>\n      <td>0.379</td>\n      <td>...</td>\n      <td>1.0</td>\n      <td>0.9</td>\n      <td>2.9</td>\n      <td>24.9</td>\n      <td>70753.0</td>\n      <td>78.1</td>\n      <td>16.4</td>\n      <td>5.0</td>\n      <td>0.4</td>\n      <td>9.0</td>\n    </tr>\n    <tr>\n      <th>22</th>\n      <td>22</td>\n      <td>Aitkin</td>\n      <td>MN</td>\n      <td>0.601</td>\n      <td>0.341</td>\n      <td>9185.0</td>\n      <td>5516.0</td>\n      <td>3134.0</td>\n      <td>0.625</td>\n      <td>0.360</td>\n      <td>...</td>\n      <td>4.1</td>\n      <td>1.5</td>\n      <td>5.4</td>\n      <td>26.0</td>\n      <td>6274.0</td>\n      <td>75.8</td>\n      <td>15.7</td>\n      <td>8.4</td>\n      <td>0.1</td>\n      <td>6.2</td>\n    </tr>\n    <tr>\n      <th>23</th>\n      <td>23</td>\n      <td>Alachua</td>\n      <td>FL</td>\n      <td>0.364</td>\n      <td>0.590</td>\n      <td>127827.0</td>\n      <td>46584.0</td>\n      <td>75370.0</td>\n      <td>0.356</td>\n      <td>0.627</td>\n      <td>...</td>\n      <td>3.3</td>\n      <td>4.6</td>\n      <td>4.5</td>\n      <td>21.2</td>\n      <td>120466.0</td>\n      <td>70.2</td>\n      <td>25.5</td>\n      <td>4.2</td>\n      <td>0.1</td>\n      <td>6.6</td>\n    </tr>\n    <tr>\n      <th>24</th>\n      <td>24</td>\n      <td>Alamance</td>\n      <td>NC</td>\n      <td>0.552</td>\n      <td>0.423</td>\n      <td>69264.0</td>\n      <td>38235.0</td>\n      <td>29268.0</td>\n      <td>0.537</td>\n      <td>0.451</td>\n      <td>...</td>\n      <td>1.3</td>\n      <td>1.1</td>\n      <td>2.9</td>\n      <td>23.6</td>\n      <td>73906.0</td>\n      <td>81.0</td>\n      <td>13.2</td>\n      <td>5.6</td>\n      <td>0.2</td>\n      <td>6.0</td>\n    </tr>\n    <tr>\n      <th>25</th>\n      <td>25</td>\n      <td>Alameda</td>\n      <td>CA</td>\n      <td>0.151</td>\n      <td>0.795</td>\n      <td>424517.0</td>\n      <td>64010.0</td>\n      <td>337524.0</td>\n      <td>0.176</td>\n      <td>0.804</td>\n      <td>...</td>\n      <td>3.7</td>\n      <td>3.6</td>\n      <td>6.0</td>\n      <td>32.5</td>\n      <td>826310.0</td>\n      <td>79.3</td>\n      <td>13.2</td>\n      <td>7.3</td>\n      <td>0.1</td>\n      <td>6.0</td>\n    </tr>\n    <tr>\n      <th>26</th>\n      <td>26</td>\n      <td>Alamosa</td>\n      <td>CO</td>\n      <td>0.439</td>\n      <td>0.459</td>\n      <td>6897.0</td>\n      <td>3031.0</td>\n      <td>3168.0</td>\n      <td>0.489</td>\n      <td>0.482</td>\n      <td>...</td>\n      <td>4.2</td>\n      <td>1.4</td>\n      <td>2.9</td>\n      <td>14.6</td>\n      <td>6593.0</td>\n      <td>73.1</td>\n      <td>18.2</td>\n      <td>6.3</td>\n      <td>2.3</td>\n      <td>9.9</td>\n    </tr>\n    <tr>\n      <th>27</th>\n      <td>27</td>\n      <td>Albany</td>\n      <td>NY</td>\n      <td>0.352</td>\n      <td>0.595</td>\n      <td>125644.0</td>\n      <td>44227.0</td>\n      <td>74775.0</td>\n      <td>0.375</td>\n      <td>0.602</td>\n      <td>...</td>\n      <td>4.6</td>\n      <td>1.6</td>\n      <td>3.5</td>\n      <td>20.4</td>\n      <td>158961.0</td>\n      <td>71.3</td>\n      <td>24.5</td>\n      <td>4.2</td>\n      <td>0.1</td>\n      <td>5.3</td>\n    </tr>\n    <tr>\n      <th>28</th>\n      <td>28</td>\n      <td>Albany</td>\n      <td>WY</td>\n      <td>0.463</td>\n      <td>0.419</td>\n      <td>16420.0</td>\n      <td>7601.0</td>\n      <td>6888.0</td>\n      <td>0.461</td>\n      <td>0.488</td>\n      <td>...</td>\n      <td>8.8</td>\n      <td>4.7</td>\n      <td>4.7</td>\n      <td>12.7</td>\n      <td>21115.0</td>\n      <td>61.4</td>\n      <td>32.8</td>\n      <td>5.7</td>\n      <td>0.1</td>\n      <td>4.8</td>\n    </tr>\n    <tr>\n      <th>29</th>\n      <td>29</td>\n      <td>Albemarle</td>\n      <td>VA</td>\n      <td>0.343</td>\n      <td>0.593</td>\n      <td>56134.0</td>\n      <td>19232.0</td>\n      <td>33297.0</td>\n      <td>0.324</td>\n      <td>0.661</td>\n      <td>...</td>\n      <td>3.4</td>\n      <td>1.8</td>\n      <td>7.6</td>\n      <td>21.9</td>\n      <td>50689.0</td>\n      <td>68.0</td>\n      <td>24.5</td>\n      <td>7.2</td>\n      <td>0.3</td>\n      <td>3.2</td>\n    </tr>\n    <tr>\n      <th>30</th>\n      <td>30</td>\n      <td>Alcona</td>\n      <td>MI</td>\n      <td>0.680</td>\n      <td>0.280</td>\n      <td>6179.0</td>\n      <td>4201.0</td>\n      <td>1732.0</td>\n      <td>0.686</td>\n      <td>0.303</td>\n      <td>...</td>\n      <td>1.8</td>\n      <td>2.3</td>\n      <td>5.3</td>\n      <td>24.0</td>\n      <td>3357.0</td>\n      <td>78.3</td>\n      <td>14.0</td>\n      <td>7.5</td>\n      <td>0.2</td>\n      <td>9.3</td>\n    </tr>\n    <tr>\n      <th>31</th>\n      <td>31</td>\n      <td>Alcorn</td>\n      <td>MS</td>\n      <td>0.799</td>\n      <td>0.182</td>\n      <td>14781.0</td>\n      <td>11817.0</td>\n      <td>2684.0</td>\n      <td>0.811</td>\n      <td>0.175</td>\n      <td>...</td>\n      <td>1.0</td>\n      <td>0.5</td>\n      <td>1.7</td>\n      <td>22.4</td>\n      <td>14884.0</td>\n      <td>81.1</td>\n      <td>13.9</td>\n      <td>5.0</td>\n      <td>0.1</td>\n      <td>8.6</td>\n    </tr>\n    <tr>\n      <th>32</th>\n      <td>32</td>\n      <td>Alexander</td>\n      <td>IL</td>\n      <td>0.530</td>\n      <td>0.448</td>\n      <td>2820.0</td>\n      <td>1496.0</td>\n      <td>1262.0</td>\n      <td>0.543</td>\n      <td>0.448</td>\n      <td>...</td>\n      <td>1.7</td>\n      <td>1.4</td>\n      <td>2.6</td>\n      <td>27.3</td>\n      <td>2164.0</td>\n      <td>75.0</td>\n      <td>20.6</td>\n      <td>4.4</td>\n      <td>0.0</td>\n      <td>8.2</td>\n    </tr>\n    <tr>\n      <th>33</th>\n      <td>33</td>\n      <td>Alexander</td>\n      <td>NC</td>\n      <td>0.768</td>\n      <td>0.208</td>\n      <td>18011.0</td>\n      <td>13826.0</td>\n      <td>3750.0</td>\n      <td>0.786</td>\n      <td>0.204</td>\n      <td>...</td>\n      <td>0.8</td>\n      <td>2.6</td>\n      <td>2.8</td>\n      <td>25.6</td>\n      <td>16393.0</td>\n      <td>83.2</td>\n      <td>10.5</td>\n      <td>6.2</td>\n      <td>0.2</td>\n      <td>6.7</td>\n    </tr>\n    <tr>\n      <th>34</th>\n      <td>34</td>\n      <td>Alexandria city</td>\n      <td>VA</td>\n      <td>0.178</td>\n      <td>0.768</td>\n      <td>74384.0</td>\n      <td>13241.0</td>\n      <td>57147.0</td>\n      <td>0.178</td>\n      <td>0.810</td>\n      <td>...</td>\n      <td>3.5</td>\n      <td>2.9</td>\n      <td>5.2</td>\n      <td>31.8</td>\n      <td>95344.0</td>\n      <td>70.1</td>\n      <td>25.0</td>\n      <td>4.9</td>\n      <td>0.0</td>\n      <td>3.9</td>\n    </tr>\n    <tr>\n      <th>35</th>\n      <td>35</td>\n      <td>Alfalfa</td>\n      <td>OK</td>\n      <td>0.856</td>\n      <td>0.096</td>\n      <td>2256.0</td>\n      <td>1931.0</td>\n      <td>216.0</td>\n      <td>0.874</td>\n      <td>0.103</td>\n      <td>...</td>\n      <td>4.9</td>\n      <td>2.5</td>\n      <td>3.5</td>\n      <td>18.8</td>\n      <td>2238.0</td>\n      <td>64.7</td>\n      <td>21.2</td>\n      <td>13.8</td>\n      <td>0.3</td>\n      <td>4.5</td>\n    </tr>\n    <tr>\n      <th>36</th>\n      <td>36</td>\n      <td>Alger</td>\n      <td>MI</td>\n      <td>0.573</td>\n      <td>0.368</td>\n      <td>4513.0</td>\n      <td>2585.0</td>\n      <td>1663.0</td>\n      <td>0.587</td>\n      <td>0.400</td>\n      <td>...</td>\n      <td>4.3</td>\n      <td>1.8</td>\n      <td>8.0</td>\n      <td>21.3</td>\n      <td>3160.0</td>\n      <td>77.1</td>\n      <td>17.6</td>\n      <td>5.3</td>\n      <td>0.0</td>\n      <td>6.9</td>\n    </tr>\n    <tr>\n      <th>37</th>\n      <td>37</td>\n      <td>Allamakee</td>\n      <td>IA</td>\n      <td>0.596</td>\n      <td>0.352</td>\n      <td>6837.0</td>\n      <td>4072.0</td>\n      <td>2409.0</td>\n      <td>0.635</td>\n      <td>0.345</td>\n      <td>...</td>\n      <td>5.0</td>\n      <td>2.1</td>\n      <td>7.5</td>\n      <td>24.3</td>\n      <td>6881.0</td>\n      <td>77.8</td>\n      <td>10.3</td>\n      <td>10.8</td>\n      <td>1.1</td>\n      <td>3.3</td>\n    </tr>\n    <tr>\n      <th>38</th>\n      <td>38</td>\n      <td>Allegan</td>\n      <td>MI</td>\n      <td>0.613</td>\n      <td>0.325</td>\n      <td>55153.0</td>\n      <td>33812.0</td>\n      <td>17932.0</td>\n      <td>0.616</td>\n      <td>0.364</td>\n      <td>...</td>\n      <td>1.4</td>\n      <td>0.7</td>\n      <td>4.1</td>\n      <td>23.9</td>\n      <td>54028.0</td>\n      <td>86.3</td>\n      <td>7.7</td>\n      <td>5.9</td>\n      <td>0.2</td>\n      <td>3.6</td>\n    </tr>\n    <tr>\n      <th>39</th>\n      <td>39</td>\n      <td>Allegany</td>\n      <td>MD</td>\n      <td>0.720</td>\n      <td>0.240</td>\n      <td>27804.0</td>\n      <td>20025.0</td>\n      <td>6665.0</td>\n      <td>0.694</td>\n      <td>0.291</td>\n      <td>...</td>\n      <td>4.4</td>\n      <td>1.2</td>\n      <td>1.7</td>\n      <td>20.9</td>\n      <td>28738.0</td>\n      <td>73.6</td>\n      <td>22.6</td>\n      <td>3.7</td>\n      <td>0.0</td>\n      <td>9.0</td>\n    </tr>\n    <tr>\n      <th>40</th>\n      <td>40</td>\n      <td>Allegany</td>\n      <td>NY</td>\n      <td>0.684</td>\n      <td>0.261</td>\n      <td>17111.0</td>\n      <td>11712.0</td>\n      <td>4473.0</td>\n      <td>0.734</td>\n      <td>0.242</td>\n      <td>...</td>\n      <td>12.4</td>\n      <td>1.3</td>\n      <td>2.8</td>\n      <td>21.4</td>\n      <td>20132.0</td>\n      <td>73.6</td>\n      <td>19.3</td>\n      <td>6.8</td>\n      <td>0.3</td>\n      <td>7.3</td>\n    </tr>\n    <tr>\n      <th>41</th>\n      <td>41</td>\n      <td>Alleghany</td>\n      <td>NC</td>\n      <td>0.727</td>\n      <td>0.249</td>\n      <td>5214.0</td>\n      <td>3789.0</td>\n      <td>1300.0</td>\n      <td>0.745</td>\n      <td>0.245</td>\n      <td>...</td>\n      <td>2.5</td>\n      <td>0.4</td>\n      <td>4.2</td>\n      <td>25.0</td>\n      <td>4447.0</td>\n      <td>70.6</td>\n      <td>16.9</td>\n      <td>12.4</td>\n      <td>0.2</td>\n      <td>5.7</td>\n    </tr>\n    <tr>\n      <th>42</th>\n      <td>42</td>\n      <td>Alleghany</td>\n      <td>VA</td>\n      <td>0.667</td>\n      <td>0.296</td>\n      <td>7306.0</td>\n      <td>4873.0</td>\n      <td>2165.0</td>\n      <td>0.715</td>\n      <td>0.274</td>\n      <td>...</td>\n      <td>0.7</td>\n      <td>1.7</td>\n      <td>2.7</td>\n      <td>24.6</td>\n      <td>6225.0</td>\n      <td>81.6</td>\n      <td>12.2</td>\n      <td>6.0</td>\n      <td>0.2</td>\n      <td>4.4</td>\n    </tr>\n    <tr>\n      <th>43</th>\n      <td>43</td>\n      <td>Allegheny</td>\n      <td>PA</td>\n      <td>0.400</td>\n      <td>0.564</td>\n      <td>643173.0</td>\n      <td>257488.0</td>\n      <td>363017.0</td>\n      <td>0.390</td>\n      <td>0.595</td>\n      <td>...</td>\n      <td>4.2</td>\n      <td>1.5</td>\n      <td>4.7</td>\n      <td>26.7</td>\n      <td>622670.0</td>\n      <td>86.7</td>\n      <td>8.6</td>\n      <td>4.6</td>\n      <td>0.1</td>\n      <td>5.9</td>\n    </tr>\n    <tr>\n      <th>44</th>\n      <td>44</td>\n      <td>Allen</td>\n      <td>IN</td>\n      <td>0.575</td>\n      <td>0.379</td>\n      <td>145787.0</td>\n      <td>83801.0</td>\n      <td>55222.0</td>\n      <td>0.544</td>\n      <td>0.431</td>\n      <td>...</td>\n      <td>1.2</td>\n      <td>0.9</td>\n      <td>4.0</td>\n      <td>21.3</td>\n      <td>176365.0</td>\n      <td>87.2</td>\n      <td>8.6</td>\n      <td>4.1</td>\n      <td>0.1</td>\n      <td>6.3</td>\n    </tr>\n    <tr>\n      <th>45</th>\n      <td>45</td>\n      <td>Allen</td>\n      <td>KS</td>\n      <td>0.673</td>\n      <td>0.263</td>\n      <td>5314.0</td>\n      <td>3575.0</td>\n      <td>1398.0</td>\n      <td>0.711</td>\n      <td>0.267</td>\n      <td>...</td>\n      <td>3.5</td>\n      <td>0.7</td>\n      <td>3.3</td>\n      <td>17.4</td>\n      <td>6006.0</td>\n      <td>75.3</td>\n      <td>15.9</td>\n      <td>8.4</td>\n      <td>0.4</td>\n      <td>3.6</td>\n    </tr>\n    <tr>\n      <th>46</th>\n      <td>46</td>\n      <td>Allen</td>\n      <td>KY</td>\n      <td>0.799</td>\n      <td>0.167</td>\n      <td>8091.0</td>\n      <td>6466.0</td>\n      <td>1349.0</td>\n      <td>0.810</td>\n      <td>0.175</td>\n      <td>...</td>\n      <td>2.5</td>\n      <td>1.6</td>\n      <td>6.9</td>\n      <td>24.1</td>\n      <td>8443.0</td>\n      <td>74.8</td>\n      <td>13.9</td>\n      <td>11.3</td>\n      <td>0.1</td>\n      <td>7.5</td>\n    </tr>\n    <tr>\n      <th>47</th>\n      <td>47</td>\n      <td>Allen</td>\n      <td>OH</td>\n      <td>0.669</td>\n      <td>0.287</td>\n      <td>44636.0</td>\n      <td>29858.0</td>\n      <td>12815.0</td>\n      <td>0.691</td>\n      <td>0.294</td>\n      <td>...</td>\n      <td>1.6</td>\n      <td>1.2</td>\n      <td>2.0</td>\n      <td>18.9</td>\n      <td>48351.0</td>\n      <td>86.1</td>\n      <td>9.8</td>\n      <td>4.0</td>\n      <td>0.1</td>\n      <td>7.2</td>\n    </tr>\n    <tr>\n      <th>48</th>\n      <td>48</td>\n      <td>Allen</td>\n      <td>LA</td>\n      <td>0.743</td>\n      <td>0.228</td>\n      <td>9245.0</td>\n      <td>6867.0</td>\n      <td>2106.0</td>\n      <td>0.772</td>\n      <td>0.215</td>\n      <td>...</td>\n      <td>0.7</td>\n      <td>2.2</td>\n      <td>2.3</td>\n      <td>28.3</td>\n      <td>8577.0</td>\n      <td>72.8</td>\n      <td>23.8</td>\n      <td>3.2</td>\n      <td>0.2</td>\n      <td>9.4</td>\n    </tr>\n    <tr>\n      <th>49</th>\n      <td>49</td>\n      <td>Allendale</td>\n      <td>SC</td>\n      <td>0.220</td>\n      <td>0.761</td>\n      <td>3578.0</td>\n      <td>788.0</td>\n      <td>2722.0</td>\n      <td>0.232</td>\n      <td>0.756</td>\n      <td>...</td>\n      <td>4.1</td>\n      <td>1.0</td>\n      <td>1.6</td>\n      <td>28.3</td>\n      <td>2668.0</td>\n      <td>71.0</td>\n      <td>23.4</td>\n      <td>5.7</td>\n      <td>0.0</td>\n      <td>17.3</td>\n    </tr>\n  </tbody>\n</table>\n<p>50 rows × 51 columns</p>\n</div>"
     },
     "execution_count": 162,
     "metadata": {},
     "output_type": "execute_result"
    }
   ],
   "source": [
    "df_county.head(50)"
   ],
   "metadata": {
    "collapsed": false,
    "ExecuteTime": {
     "end_time": "2023-12-20T08:07:56.051780652Z",
     "start_time": "2023-12-20T08:07:55.046517Z"
    }
   },
   "id": "f113636bd7acf5cf"
  },
  {
   "cell_type": "code",
   "execution_count": 163,
   "outputs": [],
   "source": [
    "df_work=df_county"
   ],
   "metadata": {
    "collapsed": false,
    "ExecuteTime": {
     "end_time": "2023-12-20T08:07:56.979679238Z",
     "start_time": "2023-12-20T08:07:56.828281289Z"
    }
   },
   "id": "b198722ef3b737ec"
  },
  {
   "cell_type": "code",
   "execution_count": 164,
   "outputs": [
    {
     "data": {
      "text/plain": "      Unnamed: 0                             county state  \\\n7              7                              Adair    OK   \n13            13                              Adams    MS   \n18            18                              Adams    WA   \n25            25                            Alameda    CA   \n26            26                            Alamosa    CO   \n...          ...                                ...   ...   \n4856        4944           Northwest Arctic Borough    AK   \n4858        4946  Prince of Wales-Hyder Census Area    AK   \n4864        4952           Yakutat City and Borough    AK   \n4865        4953          Yukon-Koyukuk Census Area    AK   \n4866        4954                           Doña Ana    NM   \n\n      percentage16_Donald_Trump  percentage16_Hillary_Clinton  total_votes16  \\\n7                         0.735                         0.212         6468.0   \n13                        0.420                         0.567        12214.0   \n18                        0.671                         0.274         4081.0   \n25                        0.151                         0.795       424517.0   \n26                        0.439                         0.459         6897.0   \n...                         ...                           ...            ...   \n4856                        NaN                           NaN            NaN   \n4858                        NaN                           NaN            NaN   \n4864                        NaN                           NaN            NaN   \n4865                        NaN                           NaN            NaN   \n4866                        NaN                           NaN            NaN   \n\n      votes16_Donald_Trump  votes16_Hillary_Clinton  \\\n7                   4753.0                   1374.0   \n13                  5125.0                   6921.0   \n18                  2740.0                   1118.0   \n25                 64010.0                 337524.0   \n26                  3031.0                   3168.0   \n...                    ...                      ...   \n4856                   NaN                      NaN   \n4858                   NaN                      NaN   \n4864                   NaN                      NaN   \n4865                   NaN                      NaN   \n4866                   NaN                      NaN   \n\n      percentage20_Donald_Trump  percentage20_Joe_Biden  ...  Walk  \\\n7                         0.786                   0.195  ...   2.8   \n13                        0.426                   0.564  ...   0.6   \n18                        0.675                   0.306  ...   2.2   \n25                        0.176                   0.804  ...   3.7   \n26                        0.489                   0.482  ...   4.2   \n...                         ...                     ...  ...   ...   \n4856                        NaN                     NaN  ...  44.6   \n4858                        NaN                     NaN  ...  19.2   \n4864                        NaN                     NaN  ...  26.9   \n4865                        NaN                     NaN  ...  39.8   \n4866                        NaN                     NaN  ...   2.2   \n\n      OtherTransp  WorkAtHome  MeanCommute  Employed  PrivateWork  PublicWork  \\\n7             1.0         3.2         23.1    8130.0         71.6        20.4   \n13            1.2         3.7         18.9   10190.0         75.2        18.2   \n18            1.9         5.7         17.8    7757.0         81.2        14.6   \n25            3.6         6.0         32.5  826310.0         79.3        13.2   \n26            1.4         2.9         14.6    6593.0         73.1        18.2   \n...           ...         ...          ...       ...          ...         ...   \n4856         21.1         5.0          6.5    2654.0         50.2        47.7   \n4858          8.6         4.9         16.0    2780.0         49.4        39.4   \n4864          5.0         4.2          6.5     377.0         45.6        44.0   \n4865         19.2         8.0          8.4    2082.0         38.8        56.5   \n4866          1.6         4.2         20.8   88633.0         70.5        22.9   \n\n      SelfEmployed  FamilyWork  Unemployment  \n7              7.5         0.5           5.5  \n13             6.4         0.1          10.9  \n18             3.8         0.3           5.9  \n25             7.3         0.1           6.0  \n26             6.3         2.3           9.9  \n...            ...         ...           ...  \n4856           2.0         0.1          20.1  \n4858          11.0         0.3          13.5  \n4864          10.3         0.0           6.5  \n4865           4.7         0.0          19.7  \n4866           6.5         0.1           9.3  \n\n[372 rows x 51 columns]",
      "text/html": "<div>\n<style scoped>\n    .dataframe tbody tr th:only-of-type {\n        vertical-align: middle;\n    }\n\n    .dataframe tbody tr th {\n        vertical-align: top;\n    }\n\n    .dataframe thead th {\n        text-align: right;\n    }\n</style>\n<table border=\"1\" class=\"dataframe\">\n  <thead>\n    <tr style=\"text-align: right;\">\n      <th></th>\n      <th>Unnamed: 0</th>\n      <th>county</th>\n      <th>state</th>\n      <th>percentage16_Donald_Trump</th>\n      <th>percentage16_Hillary_Clinton</th>\n      <th>total_votes16</th>\n      <th>votes16_Donald_Trump</th>\n      <th>votes16_Hillary_Clinton</th>\n      <th>percentage20_Donald_Trump</th>\n      <th>percentage20_Joe_Biden</th>\n      <th>...</th>\n      <th>Walk</th>\n      <th>OtherTransp</th>\n      <th>WorkAtHome</th>\n      <th>MeanCommute</th>\n      <th>Employed</th>\n      <th>PrivateWork</th>\n      <th>PublicWork</th>\n      <th>SelfEmployed</th>\n      <th>FamilyWork</th>\n      <th>Unemployment</th>\n    </tr>\n  </thead>\n  <tbody>\n    <tr>\n      <th>7</th>\n      <td>7</td>\n      <td>Adair</td>\n      <td>OK</td>\n      <td>0.735</td>\n      <td>0.212</td>\n      <td>6468.0</td>\n      <td>4753.0</td>\n      <td>1374.0</td>\n      <td>0.786</td>\n      <td>0.195</td>\n      <td>...</td>\n      <td>2.8</td>\n      <td>1.0</td>\n      <td>3.2</td>\n      <td>23.1</td>\n      <td>8130.0</td>\n      <td>71.6</td>\n      <td>20.4</td>\n      <td>7.5</td>\n      <td>0.5</td>\n      <td>5.5</td>\n    </tr>\n    <tr>\n      <th>13</th>\n      <td>13</td>\n      <td>Adams</td>\n      <td>MS</td>\n      <td>0.420</td>\n      <td>0.567</td>\n      <td>12214.0</td>\n      <td>5125.0</td>\n      <td>6921.0</td>\n      <td>0.426</td>\n      <td>0.564</td>\n      <td>...</td>\n      <td>0.6</td>\n      <td>1.2</td>\n      <td>3.7</td>\n      <td>18.9</td>\n      <td>10190.0</td>\n      <td>75.2</td>\n      <td>18.2</td>\n      <td>6.4</td>\n      <td>0.1</td>\n      <td>10.9</td>\n    </tr>\n    <tr>\n      <th>18</th>\n      <td>18</td>\n      <td>Adams</td>\n      <td>WA</td>\n      <td>0.671</td>\n      <td>0.274</td>\n      <td>4081.0</td>\n      <td>2740.0</td>\n      <td>1118.0</td>\n      <td>0.675</td>\n      <td>0.306</td>\n      <td>...</td>\n      <td>2.2</td>\n      <td>1.9</td>\n      <td>5.7</td>\n      <td>17.8</td>\n      <td>7757.0</td>\n      <td>81.2</td>\n      <td>14.6</td>\n      <td>3.8</td>\n      <td>0.3</td>\n      <td>5.9</td>\n    </tr>\n    <tr>\n      <th>25</th>\n      <td>25</td>\n      <td>Alameda</td>\n      <td>CA</td>\n      <td>0.151</td>\n      <td>0.795</td>\n      <td>424517.0</td>\n      <td>64010.0</td>\n      <td>337524.0</td>\n      <td>0.176</td>\n      <td>0.804</td>\n      <td>...</td>\n      <td>3.7</td>\n      <td>3.6</td>\n      <td>6.0</td>\n      <td>32.5</td>\n      <td>826310.0</td>\n      <td>79.3</td>\n      <td>13.2</td>\n      <td>7.3</td>\n      <td>0.1</td>\n      <td>6.0</td>\n    </tr>\n    <tr>\n      <th>26</th>\n      <td>26</td>\n      <td>Alamosa</td>\n      <td>CO</td>\n      <td>0.439</td>\n      <td>0.459</td>\n      <td>6897.0</td>\n      <td>3031.0</td>\n      <td>3168.0</td>\n      <td>0.489</td>\n      <td>0.482</td>\n      <td>...</td>\n      <td>4.2</td>\n      <td>1.4</td>\n      <td>2.9</td>\n      <td>14.6</td>\n      <td>6593.0</td>\n      <td>73.1</td>\n      <td>18.2</td>\n      <td>6.3</td>\n      <td>2.3</td>\n      <td>9.9</td>\n    </tr>\n    <tr>\n      <th>...</th>\n      <td>...</td>\n      <td>...</td>\n      <td>...</td>\n      <td>...</td>\n      <td>...</td>\n      <td>...</td>\n      <td>...</td>\n      <td>...</td>\n      <td>...</td>\n      <td>...</td>\n      <td>...</td>\n      <td>...</td>\n      <td>...</td>\n      <td>...</td>\n      <td>...</td>\n      <td>...</td>\n      <td>...</td>\n      <td>...</td>\n      <td>...</td>\n      <td>...</td>\n      <td>...</td>\n    </tr>\n    <tr>\n      <th>4856</th>\n      <td>4944</td>\n      <td>Northwest Arctic Borough</td>\n      <td>AK</td>\n      <td>NaN</td>\n      <td>NaN</td>\n      <td>NaN</td>\n      <td>NaN</td>\n      <td>NaN</td>\n      <td>NaN</td>\n      <td>NaN</td>\n      <td>...</td>\n      <td>44.6</td>\n      <td>21.1</td>\n      <td>5.0</td>\n      <td>6.5</td>\n      <td>2654.0</td>\n      <td>50.2</td>\n      <td>47.7</td>\n      <td>2.0</td>\n      <td>0.1</td>\n      <td>20.1</td>\n    </tr>\n    <tr>\n      <th>4858</th>\n      <td>4946</td>\n      <td>Prince of Wales-Hyder Census Area</td>\n      <td>AK</td>\n      <td>NaN</td>\n      <td>NaN</td>\n      <td>NaN</td>\n      <td>NaN</td>\n      <td>NaN</td>\n      <td>NaN</td>\n      <td>NaN</td>\n      <td>...</td>\n      <td>19.2</td>\n      <td>8.6</td>\n      <td>4.9</td>\n      <td>16.0</td>\n      <td>2780.0</td>\n      <td>49.4</td>\n      <td>39.4</td>\n      <td>11.0</td>\n      <td>0.3</td>\n      <td>13.5</td>\n    </tr>\n    <tr>\n      <th>4864</th>\n      <td>4952</td>\n      <td>Yakutat City and Borough</td>\n      <td>AK</td>\n      <td>NaN</td>\n      <td>NaN</td>\n      <td>NaN</td>\n      <td>NaN</td>\n      <td>NaN</td>\n      <td>NaN</td>\n      <td>NaN</td>\n      <td>...</td>\n      <td>26.9</td>\n      <td>5.0</td>\n      <td>4.2</td>\n      <td>6.5</td>\n      <td>377.0</td>\n      <td>45.6</td>\n      <td>44.0</td>\n      <td>10.3</td>\n      <td>0.0</td>\n      <td>6.5</td>\n    </tr>\n    <tr>\n      <th>4865</th>\n      <td>4953</td>\n      <td>Yukon-Koyukuk Census Area</td>\n      <td>AK</td>\n      <td>NaN</td>\n      <td>NaN</td>\n      <td>NaN</td>\n      <td>NaN</td>\n      <td>NaN</td>\n      <td>NaN</td>\n      <td>NaN</td>\n      <td>...</td>\n      <td>39.8</td>\n      <td>19.2</td>\n      <td>8.0</td>\n      <td>8.4</td>\n      <td>2082.0</td>\n      <td>38.8</td>\n      <td>56.5</td>\n      <td>4.7</td>\n      <td>0.0</td>\n      <td>19.7</td>\n    </tr>\n    <tr>\n      <th>4866</th>\n      <td>4954</td>\n      <td>Doña Ana</td>\n      <td>NM</td>\n      <td>NaN</td>\n      <td>NaN</td>\n      <td>NaN</td>\n      <td>NaN</td>\n      <td>NaN</td>\n      <td>NaN</td>\n      <td>NaN</td>\n      <td>...</td>\n      <td>2.2</td>\n      <td>1.6</td>\n      <td>4.2</td>\n      <td>20.8</td>\n      <td>88633.0</td>\n      <td>70.5</td>\n      <td>22.9</td>\n      <td>6.5</td>\n      <td>0.1</td>\n      <td>9.3</td>\n    </tr>\n  </tbody>\n</table>\n<p>372 rows × 51 columns</p>\n</div>"
     },
     "execution_count": 164,
     "metadata": {},
     "output_type": "execute_result"
    }
   ],
   "source": [
    "df_county[df_county['White']<50]"
   ],
   "metadata": {
    "collapsed": false,
    "ExecuteTime": {
     "end_time": "2023-12-20T08:07:59.718115308Z",
     "start_time": "2023-12-20T08:07:59.505280727Z"
    }
   },
   "id": "4691e384ef3b24c8"
  },
  {
   "cell_type": "code",
   "execution_count": 206,
   "outputs": [],
   "source": [
    "def borne(col,min_list,df_src):\n",
    "    df_target=pd.DataFrame()\n",
    "    df_src[col+\"_ratio\"]=col\n",
    "    for i, minimum in enumerate(min_list):\n",
    "        if i<len(min_list)-1:\n",
    "            df=df_src[(df_src[col] > minimum) & (df_src[col] <= min_list[i + 1])]\n",
    "            df.loc[:,col+\"_ratio\"]= str(\"\" + str(minimum) + \"<->\" + str(min_list[i + 1]) + \"\")\n",
    "            df_target=pd.concat([df, df_target])\n",
    "    \n",
    "    return df_target\n",
    "    "
   ],
   "metadata": {
    "collapsed": false,
    "ExecuteTime": {
     "end_time": "2023-12-20T08:27:45.555384983Z",
     "start_time": "2023-12-20T08:27:44.863808763Z"
    }
   },
   "id": "dc9fd2f69ac71022"
  },
  {
   "cell_type": "code",
   "execution_count": 206,
   "outputs": [],
   "source": [],
   "metadata": {
    "collapsed": false,
    "ExecuteTime": {
     "end_time": "2023-12-20T08:27:47.238840923Z",
     "start_time": "2023-12-20T08:27:47.094814023Z"
    }
   },
   "id": "744596635f2c9864"
  },
  {
   "cell_type": "code",
   "execution_count": 207,
   "outputs": [
    {
     "name": "stdout",
     "output_type": "stream",
     "text": [
      "<class 'pandas.core.frame.DataFrame'>\n",
      "RangeIndex: 4867 entries, 0 to 4866\n",
      "Data columns (total 68 columns):\n",
      " #   Column                        Non-Null Count  Dtype  \n",
      "---  ------                        --------------  -----  \n",
      " 0   Unnamed: 0                    4867 non-null   int64  \n",
      " 1   county                        4867 non-null   object \n",
      " 2   state                         4867 non-null   object \n",
      " 3   percentage16_Donald_Trump     3111 non-null   float64\n",
      " 4   percentage16_Hillary_Clinton  3111 non-null   float64\n",
      " 5   total_votes16                 3111 non-null   float64\n",
      " 6   votes16_Donald_Trump          3111 non-null   float64\n",
      " 7   votes16_Hillary_Clinton       3111 non-null   float64\n",
      " 8   percentage20_Donald_Trump     4490 non-null   float64\n",
      " 9   percentage20_Joe_Biden        4490 non-null   float64\n",
      " 10  total_votes20                 4633 non-null   float64\n",
      " 11  votes20_Donald_Trump          4633 non-null   float64\n",
      " 12  votes20_Joe_Biden             4633 non-null   float64\n",
      " 13  lat                           3252 non-null   float64\n",
      " 14  long                          3252 non-null   float64\n",
      " 15  cases                         3252 non-null   float64\n",
      " 16  deaths                        3252 non-null   float64\n",
      " 17  TotalPop                      3142 non-null   float64\n",
      " 18  Men                           3142 non-null   float64\n",
      " 19  Women                         3142 non-null   float64\n",
      " 20  Hispanic                      3142 non-null   float64\n",
      " 21  White                         3142 non-null   float64\n",
      " 22  Black                         3142 non-null   float64\n",
      " 23  Native                        3142 non-null   float64\n",
      " 24  Asian                         3142 non-null   float64\n",
      " 25  Pacific                       3142 non-null   float64\n",
      " 26  VotingAgeCitizen              3142 non-null   float64\n",
      " 27  Income                        3142 non-null   float64\n",
      " 28  IncomeErr                     3142 non-null   float64\n",
      " 29  IncomePerCap                  3142 non-null   float64\n",
      " 30  IncomePerCapErr               3142 non-null   float64\n",
      " 31  Poverty                       3142 non-null   float64\n",
      " 32  ChildPoverty                  3141 non-null   float64\n",
      " 33  Professional                  3142 non-null   float64\n",
      " 34  Service                       3142 non-null   float64\n",
      " 35  Office                        3142 non-null   float64\n",
      " 36  Construction                  3142 non-null   float64\n",
      " 37  Production                    3142 non-null   float64\n",
      " 38  Drive                         3142 non-null   float64\n",
      " 39  Carpool                       3142 non-null   float64\n",
      " 40  Transit                       3142 non-null   float64\n",
      " 41  Walk                          3142 non-null   float64\n",
      " 42  OtherTransp                   3142 non-null   float64\n",
      " 43  WorkAtHome                    3142 non-null   float64\n",
      " 44  MeanCommute                   3142 non-null   float64\n",
      " 45  Employed                      3142 non-null   float64\n",
      " 46  PrivateWork                   3142 non-null   float64\n",
      " 47  PublicWork                    3142 non-null   float64\n",
      " 48  SelfEmployed                  3142 non-null   float64\n",
      " 49  FamilyWork                    3142 non-null   float64\n",
      " 50  Unemployment                  3142 non-null   float64\n",
      " 51  Professional_ratio            4867 non-null   object \n",
      " 52  Service_ratio                 4867 non-null   object \n",
      " 53  Office_ratio                  4867 non-null   object \n",
      " 54  Construction_ratio            4867 non-null   object \n",
      " 55  Production_ratio              4867 non-null   object \n",
      " 56  Drive_ratio                   4867 non-null   object \n",
      " 57  Carpool_ratio                 4867 non-null   object \n",
      " 58  Transit_ratio                 4867 non-null   object \n",
      " 59  Walk_ratio                    4867 non-null   object \n",
      " 60  OtherTransp_ratio             4867 non-null   object \n",
      " 61  WorkAtHome_ratio              4867 non-null   object \n",
      " 62  Employed_ratio                4867 non-null   object \n",
      " 63  PrivateWork_ratio             4867 non-null   object \n",
      " 64  PublicWork_ratio              4867 non-null   object \n",
      " 65  SelfEmployed_ratio            4867 non-null   object \n",
      " 66  FamilyWork_ratio              4867 non-null   object \n",
      " 67  Unemployment_ratio            4867 non-null   object \n",
      "dtypes: float64(48), int64(1), object(19)\n",
      "memory usage: 2.5+ MB\n"
     ]
    }
   ],
   "source": [
    "df_county.info()"
   ],
   "metadata": {
    "collapsed": false,
    "ExecuteTime": {
     "end_time": "2023-12-20T08:27:47.436801123Z",
     "start_time": "2023-12-20T08:27:47.118403821Z"
    }
   },
   "id": "58a20cea84276b7a"
  },
  {
   "cell_type": "code",
   "execution_count": 208,
   "outputs": [],
   "source": [
    "list_col=['Hispanic','White','Black','Native','Asian','Pacific']\n",
    "list_job=['Professional','Service','Office','Construction','Production']\n",
    "list_transport=['Drive','Carpool','Transit','Walk','OtherTransp','WorkAtHome']\n",
    "list_type_empl=['Employed','PrivateWork','PublicWork','SelfEmployed','FamilyWork','Unemployment']\n",
    "min_list=[0,10,30,40,50,60,70,80,90,100]"
   ],
   "metadata": {
    "collapsed": false,
    "ExecuteTime": {
     "end_time": "2023-12-20T08:27:49.356045700Z",
     "start_time": "2023-12-20T08:27:48.917790669Z"
    }
   },
   "id": "bf2dba0ff6baa9e0"
  },
  {
   "cell_type": "code",
   "execution_count": 209,
   "outputs": [],
   "source": [
    "\n",
    "df_0=borne('Hispanic',min_list,df_work)\n",
    "df_1=borne('White',min_list,df_work)\n",
    "df_2=borne('Black',min_list,df_work)\n",
    "df_3=borne('Native',min_list,df_work)\n",
    "df_4=borne('Asian',min_list,df_work)\n",
    "df_5=borne('Pacific',min_list,df_work)"
   ],
   "metadata": {
    "collapsed": false,
    "ExecuteTime": {
     "end_time": "2023-12-20T08:27:50.200037088Z",
     "start_time": "2023-12-20T08:27:48.937956981Z"
    }
   },
   "id": "67f12214db12aa6"
  },
  {
   "cell_type": "code",
   "execution_count": 210,
   "outputs": [],
   "source": [
    "df_job_0=borne('Professional',min_list,df_work)\n",
    "df_job_1=borne('Service',min_list,df_work)\n",
    "df_job_2=borne('Office',min_list,df_work)\n",
    "df_job_3=borne('Construction',min_list,df_work)\n",
    "df_job_4=borne('Production',min_list,df_work)"
   ],
   "metadata": {
    "collapsed": false,
    "ExecuteTime": {
     "end_time": "2023-12-20T08:27:50.937614976Z",
     "start_time": "2023-12-20T08:27:49.879930893Z"
    }
   },
   "id": "d66fdc990289b88e"
  },
  {
   "cell_type": "code",
   "execution_count": 211,
   "outputs": [],
   "source": [
    "\n",
    "df_transp_0=borne('Drive',min_list,df_work)\n",
    "df_transp_1=borne('Carpool',min_list,df_work)\n",
    "df_transp_2=borne('Transit',min_list,df_work)\n",
    "df_transp_3=borne('Walk',min_list,df_work)\n",
    "df_transp_4=borne('OtherTransp',min_list,df_work)\n",
    "df_transp_5=borne('WorkAtHome',min_list,df_work)"
   ],
   "metadata": {
    "collapsed": false,
    "ExecuteTime": {
     "end_time": "2023-12-20T08:27:51.990455041Z",
     "start_time": "2023-12-20T08:27:50.605764008Z"
    }
   },
   "id": "f0111a6b259e8d29"
  },
  {
   "cell_type": "code",
   "execution_count": 212,
   "outputs": [],
   "source": [
    "df_type_0=borne('Employed',min_list,df_work)\n",
    "df_type_1=borne('PrivateWork',min_list,df_work)\n",
    "df_type_2=borne('PublicWork',min_list,df_work)\n",
    "df_type_3=borne('SelfEmployed',min_list,df_work)\n",
    "df_type_4=borne('FamilyWork',min_list,df_work)\n",
    "df_type_5=borne('Unemployment',min_list,df_work)"
   ],
   "metadata": {
    "collapsed": false,
    "ExecuteTime": {
     "end_time": "2023-12-20T08:27:52.928743852Z",
     "start_time": "2023-12-20T08:27:51.682238611Z"
    }
   },
   "id": "ad5cd7a656c95ad1"
  },
  {
   "cell_type": "code",
   "execution_count": 213,
   "outputs": [],
   "source": [
    "list_job=['Professional','Service','Office','Construction','Production']\n",
    "list_transport=['Drive','Carpool','Transit','Walk','OtherTransp','WorkAtHome']\n",
    "list_type_empl=['Employed','PrivateWork','PublicWork','SelfEmployed','FamilyWork','Unemployment']"
   ],
   "metadata": {
    "collapsed": false,
    "ExecuteTime": {
     "end_time": "2023-12-20T08:27:52.980404589Z",
     "start_time": "2023-12-20T08:27:52.560500674Z"
    }
   },
   "id": "ae1b949a2efab3db"
  },
  {
   "cell_type": "code",
   "execution_count": 214,
   "outputs": [],
   "source": [
    "df_ratio = pd.concat([df_0.Hispanic_ratio, df_1.White_ratio, df_2.Black_ratio, df_3.Native_ratio, df_4.Asian_ratio, df_5.Pacific_ratio], axis=1)\n",
    "df_job_ratio = pd.concat([df_job_0.Professional_ratio,df_job_1.Service_ratio,df_job_2.Office_ratio,df_job_3.Construction_ratio,df_job_4.Production_ratio], axis=1)\n",
    "df_transp_ratio = pd.concat([df_transp_0.Drive_ratio,df_transp_1.Carpool_ratio,df_transp_2.Transit_ratio,df_transp_3.Walk_ratio,df_transp_4.OtherTransp_ratio,df_transp_5.WorkAtHome_ratio], axis=1)\n",
    "df_type_ratio = pd.concat([df_type_0.Employed_ratio, df_type_1.PrivateWork_ratio, df_type_2.PublicWork_ratio, df_type_3.SelfEmployed_ratio, df_type_4.FamilyWork_ratio,df_type_5.Unemployment_ratio], axis=1)"
   ],
   "metadata": {
    "collapsed": false,
    "ExecuteTime": {
     "end_time": "2023-12-20T08:27:55.037363980Z",
     "start_time": "2023-12-20T08:27:54.784688088Z"
    }
   },
   "id": "fd2d7232021aba0c"
  },
  {
   "cell_type": "code",
   "execution_count": 215,
   "outputs": [
    {
     "data": {
      "text/plain": "     Professional_ratio Service_ratio Office_ratio Construction_ratio  \\\n80              60<->70       10<->30      10<->30             0<->10   \n781             60<->70       10<->30      10<->30             0<->10   \n895             60<->70       10<->30      10<->30             0<->10   \n1294            60<->70       10<->30      10<->30             0<->10   \n1695            60<->70       10<->30      10<->30             0<->10   \n\n     Production_ratio  \n80             0<->10  \n781            0<->10  \n895            0<->10  \n1294           0<->10  \n1695           0<->10  ",
      "text/html": "<div>\n<style scoped>\n    .dataframe tbody tr th:only-of-type {\n        vertical-align: middle;\n    }\n\n    .dataframe tbody tr th {\n        vertical-align: top;\n    }\n\n    .dataframe thead th {\n        text-align: right;\n    }\n</style>\n<table border=\"1\" class=\"dataframe\">\n  <thead>\n    <tr style=\"text-align: right;\">\n      <th></th>\n      <th>Professional_ratio</th>\n      <th>Service_ratio</th>\n      <th>Office_ratio</th>\n      <th>Construction_ratio</th>\n      <th>Production_ratio</th>\n    </tr>\n  </thead>\n  <tbody>\n    <tr>\n      <th>80</th>\n      <td>60&lt;-&gt;70</td>\n      <td>10&lt;-&gt;30</td>\n      <td>10&lt;-&gt;30</td>\n      <td>0&lt;-&gt;10</td>\n      <td>0&lt;-&gt;10</td>\n    </tr>\n    <tr>\n      <th>781</th>\n      <td>60&lt;-&gt;70</td>\n      <td>10&lt;-&gt;30</td>\n      <td>10&lt;-&gt;30</td>\n      <td>0&lt;-&gt;10</td>\n      <td>0&lt;-&gt;10</td>\n    </tr>\n    <tr>\n      <th>895</th>\n      <td>60&lt;-&gt;70</td>\n      <td>10&lt;-&gt;30</td>\n      <td>10&lt;-&gt;30</td>\n      <td>0&lt;-&gt;10</td>\n      <td>0&lt;-&gt;10</td>\n    </tr>\n    <tr>\n      <th>1294</th>\n      <td>60&lt;-&gt;70</td>\n      <td>10&lt;-&gt;30</td>\n      <td>10&lt;-&gt;30</td>\n      <td>0&lt;-&gt;10</td>\n      <td>0&lt;-&gt;10</td>\n    </tr>\n    <tr>\n      <th>1695</th>\n      <td>60&lt;-&gt;70</td>\n      <td>10&lt;-&gt;30</td>\n      <td>10&lt;-&gt;30</td>\n      <td>0&lt;-&gt;10</td>\n      <td>0&lt;-&gt;10</td>\n    </tr>\n  </tbody>\n</table>\n</div>"
     },
     "execution_count": 215,
     "metadata": {},
     "output_type": "execute_result"
    }
   ],
   "source": [
    "df_ratio.head()\n",
    "df_ratio=df_ratio.fillna(\"Unknown\")\n",
    "df_job_ratio = df_job_ratio.fillna(\"Unknown\")\n",
    "df_transp_ratio = df_transp_ratio.fillna(\"Unknown\")\n",
    "df_type_ratio = df_type_ratio.fillna(\"Unknown\")\n",
    "df_job_ratio.head()"
   ],
   "metadata": {
    "collapsed": false,
    "ExecuteTime": {
     "end_time": "2023-12-20T08:27:55.312210028Z",
     "start_time": "2023-12-20T08:27:54.938196202Z"
    }
   },
   "id": "fa9924fb9ee75349"
  },
  {
   "cell_type": "markdown",
   "source": [
    "### JOIN Table ratio --> df_county sur df_stats                                                           "
   ],
   "metadata": {
    "collapsed": false
   },
   "id": "adaab55f40bd8f60"
  },
  {
   "cell_type": "code",
   "execution_count": 216,
   "outputs": [
    {
     "ename": "KeyError",
     "evalue": "\"['Hispanic_ratio', 'White_ratio', 'Black_ratio', 'Native_ratio', 'Asian_ratio', 'Pacific_ratio'] not found in axis\"",
     "output_type": "error",
     "traceback": [
      "\u001B[0;31m---------------------------------------------------------------------------\u001B[0m",
      "\u001B[0;31mKeyError\u001B[0m                                  Traceback (most recent call last)",
      "Cell \u001B[0;32mIn[216], line 2\u001B[0m\n\u001B[1;32m      1\u001B[0m list_colRatio\u001B[38;5;241m=\u001B[39m[\u001B[38;5;124m'\u001B[39m\u001B[38;5;124mHispanic_ratio\u001B[39m\u001B[38;5;124m'\u001B[39m,\u001B[38;5;124m'\u001B[39m\u001B[38;5;124mWhite_ratio\u001B[39m\u001B[38;5;124m'\u001B[39m,\u001B[38;5;124m'\u001B[39m\u001B[38;5;124mBlack_ratio\u001B[39m\u001B[38;5;124m'\u001B[39m,\u001B[38;5;124m'\u001B[39m\u001B[38;5;124mNative_ratio\u001B[39m\u001B[38;5;124m'\u001B[39m,\u001B[38;5;124m'\u001B[39m\u001B[38;5;124mAsian_ratio\u001B[39m\u001B[38;5;124m'\u001B[39m,\u001B[38;5;124m'\u001B[39m\u001B[38;5;124mPacific_ratio\u001B[39m\u001B[38;5;124m'\u001B[39m]\n\u001B[0;32m----> 2\u001B[0m df_county\u001B[38;5;241m=\u001B[39mdf_county\u001B[38;5;241m.\u001B[39mdrop(list_colRatio, axis\u001B[38;5;241m=\u001B[39m\u001B[38;5;241m1\u001B[39m)\n",
      "File \u001B[0;32m~/anaconda3/lib/python3.11/site-packages/pandas/core/frame.py:5258\u001B[0m, in \u001B[0;36mDataFrame.drop\u001B[0;34m(self, labels, axis, index, columns, level, inplace, errors)\u001B[0m\n\u001B[1;32m   5110\u001B[0m \u001B[38;5;28;01mdef\u001B[39;00m \u001B[38;5;21mdrop\u001B[39m(\n\u001B[1;32m   5111\u001B[0m     \u001B[38;5;28mself\u001B[39m,\n\u001B[1;32m   5112\u001B[0m     labels: IndexLabel \u001B[38;5;241m=\u001B[39m \u001B[38;5;28;01mNone\u001B[39;00m,\n\u001B[0;32m   (...)\u001B[0m\n\u001B[1;32m   5119\u001B[0m     errors: IgnoreRaise \u001B[38;5;241m=\u001B[39m \u001B[38;5;124m\"\u001B[39m\u001B[38;5;124mraise\u001B[39m\u001B[38;5;124m\"\u001B[39m,\n\u001B[1;32m   5120\u001B[0m ) \u001B[38;5;241m-\u001B[39m\u001B[38;5;241m>\u001B[39m DataFrame \u001B[38;5;241m|\u001B[39m \u001B[38;5;28;01mNone\u001B[39;00m:\n\u001B[1;32m   5121\u001B[0m \u001B[38;5;250m    \u001B[39m\u001B[38;5;124;03m\"\"\"\u001B[39;00m\n\u001B[1;32m   5122\u001B[0m \u001B[38;5;124;03m    Drop specified labels from rows or columns.\u001B[39;00m\n\u001B[1;32m   5123\u001B[0m \n\u001B[0;32m   (...)\u001B[0m\n\u001B[1;32m   5256\u001B[0m \u001B[38;5;124;03m            weight  1.0     0.8\u001B[39;00m\n\u001B[1;32m   5257\u001B[0m \u001B[38;5;124;03m    \"\"\"\u001B[39;00m\n\u001B[0;32m-> 5258\u001B[0m     \u001B[38;5;28;01mreturn\u001B[39;00m \u001B[38;5;28msuper\u001B[39m()\u001B[38;5;241m.\u001B[39mdrop(\n\u001B[1;32m   5259\u001B[0m         labels\u001B[38;5;241m=\u001B[39mlabels,\n\u001B[1;32m   5260\u001B[0m         axis\u001B[38;5;241m=\u001B[39maxis,\n\u001B[1;32m   5261\u001B[0m         index\u001B[38;5;241m=\u001B[39mindex,\n\u001B[1;32m   5262\u001B[0m         columns\u001B[38;5;241m=\u001B[39mcolumns,\n\u001B[1;32m   5263\u001B[0m         level\u001B[38;5;241m=\u001B[39mlevel,\n\u001B[1;32m   5264\u001B[0m         inplace\u001B[38;5;241m=\u001B[39minplace,\n\u001B[1;32m   5265\u001B[0m         errors\u001B[38;5;241m=\u001B[39merrors,\n\u001B[1;32m   5266\u001B[0m     )\n",
      "File \u001B[0;32m~/anaconda3/lib/python3.11/site-packages/pandas/core/generic.py:4549\u001B[0m, in \u001B[0;36mNDFrame.drop\u001B[0;34m(self, labels, axis, index, columns, level, inplace, errors)\u001B[0m\n\u001B[1;32m   4547\u001B[0m \u001B[38;5;28;01mfor\u001B[39;00m axis, labels \u001B[38;5;129;01min\u001B[39;00m axes\u001B[38;5;241m.\u001B[39mitems():\n\u001B[1;32m   4548\u001B[0m     \u001B[38;5;28;01mif\u001B[39;00m labels \u001B[38;5;129;01mis\u001B[39;00m \u001B[38;5;129;01mnot\u001B[39;00m \u001B[38;5;28;01mNone\u001B[39;00m:\n\u001B[0;32m-> 4549\u001B[0m         obj \u001B[38;5;241m=\u001B[39m obj\u001B[38;5;241m.\u001B[39m_drop_axis(labels, axis, level\u001B[38;5;241m=\u001B[39mlevel, errors\u001B[38;5;241m=\u001B[39merrors)\n\u001B[1;32m   4551\u001B[0m \u001B[38;5;28;01mif\u001B[39;00m inplace:\n\u001B[1;32m   4552\u001B[0m     \u001B[38;5;28mself\u001B[39m\u001B[38;5;241m.\u001B[39m_update_inplace(obj)\n",
      "File \u001B[0;32m~/anaconda3/lib/python3.11/site-packages/pandas/core/generic.py:4591\u001B[0m, in \u001B[0;36mNDFrame._drop_axis\u001B[0;34m(self, labels, axis, level, errors, only_slice)\u001B[0m\n\u001B[1;32m   4589\u001B[0m         new_axis \u001B[38;5;241m=\u001B[39m axis\u001B[38;5;241m.\u001B[39mdrop(labels, level\u001B[38;5;241m=\u001B[39mlevel, errors\u001B[38;5;241m=\u001B[39merrors)\n\u001B[1;32m   4590\u001B[0m     \u001B[38;5;28;01melse\u001B[39;00m:\n\u001B[0;32m-> 4591\u001B[0m         new_axis \u001B[38;5;241m=\u001B[39m axis\u001B[38;5;241m.\u001B[39mdrop(labels, errors\u001B[38;5;241m=\u001B[39merrors)\n\u001B[1;32m   4592\u001B[0m     indexer \u001B[38;5;241m=\u001B[39m axis\u001B[38;5;241m.\u001B[39mget_indexer(new_axis)\n\u001B[1;32m   4594\u001B[0m \u001B[38;5;66;03m# Case for non-unique axis\u001B[39;00m\n\u001B[1;32m   4595\u001B[0m \u001B[38;5;28;01melse\u001B[39;00m:\n",
      "File \u001B[0;32m~/anaconda3/lib/python3.11/site-packages/pandas/core/indexes/base.py:6699\u001B[0m, in \u001B[0;36mIndex.drop\u001B[0;34m(self, labels, errors)\u001B[0m\n\u001B[1;32m   6697\u001B[0m \u001B[38;5;28;01mif\u001B[39;00m mask\u001B[38;5;241m.\u001B[39many():\n\u001B[1;32m   6698\u001B[0m     \u001B[38;5;28;01mif\u001B[39;00m errors \u001B[38;5;241m!=\u001B[39m \u001B[38;5;124m\"\u001B[39m\u001B[38;5;124mignore\u001B[39m\u001B[38;5;124m\"\u001B[39m:\n\u001B[0;32m-> 6699\u001B[0m         \u001B[38;5;28;01mraise\u001B[39;00m \u001B[38;5;167;01mKeyError\u001B[39;00m(\u001B[38;5;124mf\u001B[39m\u001B[38;5;124m\"\u001B[39m\u001B[38;5;132;01m{\u001B[39;00m\u001B[38;5;28mlist\u001B[39m(labels[mask])\u001B[38;5;132;01m}\u001B[39;00m\u001B[38;5;124m not found in axis\u001B[39m\u001B[38;5;124m\"\u001B[39m)\n\u001B[1;32m   6700\u001B[0m     indexer \u001B[38;5;241m=\u001B[39m indexer[\u001B[38;5;241m~\u001B[39mmask]\n\u001B[1;32m   6701\u001B[0m \u001B[38;5;28;01mreturn\u001B[39;00m \u001B[38;5;28mself\u001B[39m\u001B[38;5;241m.\u001B[39mdelete(indexer)\n",
      "\u001B[0;31mKeyError\u001B[0m: \"['Hispanic_ratio', 'White_ratio', 'Black_ratio', 'Native_ratio', 'Asian_ratio', 'Pacific_ratio'] not found in axis\""
     ]
    }
   ],
   "source": [
    "list_colRatio=['Hispanic_ratio','White_ratio','Black_ratio','Native_ratio','Asian_ratio','Pacific_ratio']\n",
    "df_county=df_county.drop(list_colRatio, axis=1)"
   ],
   "metadata": {
    "collapsed": false,
    "ExecuteTime": {
     "end_time": "2023-12-20T08:27:59.867918738Z",
     "start_time": "2023-12-20T08:27:59.379607514Z"
    }
   },
   "id": "78dc0bf7cc1eb334"
  },
  {
   "cell_type": "code",
   "execution_count": 217,
   "outputs": [
    {
     "name": "stdout",
     "output_type": "stream",
     "text": [
      "<class 'pandas.core.frame.DataFrame'>\n",
      "Index: 3142 entries, 0 to 4866\n",
      "Data columns (total 91 columns):\n",
      " #   Column                        Non-Null Count  Dtype  \n",
      "---  ------                        --------------  -----  \n",
      " 0   Unnamed: 0                    3142 non-null   int64  \n",
      " 1   county                        3142 non-null   object \n",
      " 2   state                         3142 non-null   object \n",
      " 3   percentage16_Donald_Trump     3109 non-null   float64\n",
      " 4   percentage16_Hillary_Clinton  3109 non-null   float64\n",
      " 5   total_votes16                 3109 non-null   float64\n",
      " 6   votes16_Donald_Trump          3109 non-null   float64\n",
      " 7   votes16_Hillary_Clinton       3109 non-null   float64\n",
      " 8   percentage20_Donald_Trump     3088 non-null   float64\n",
      " 9   percentage20_Joe_Biden        3088 non-null   float64\n",
      " 10  total_votes20                 3089 non-null   float64\n",
      " 11  votes20_Donald_Trump          3089 non-null   float64\n",
      " 12  votes20_Joe_Biden             3089 non-null   float64\n",
      " 13  lat                           3072 non-null   float64\n",
      " 14  long                          3072 non-null   float64\n",
      " 15  cases                         3072 non-null   float64\n",
      " 16  deaths                        3072 non-null   float64\n",
      " 17  TotalPop                      3142 non-null   float64\n",
      " 18  Men                           3142 non-null   float64\n",
      " 19  Women                         3142 non-null   float64\n",
      " 20  Hispanic                      3142 non-null   float64\n",
      " 21  White                         3142 non-null   float64\n",
      " 22  Black                         3142 non-null   float64\n",
      " 23  Native                        3142 non-null   float64\n",
      " 24  Asian                         3142 non-null   float64\n",
      " 25  Pacific                       3142 non-null   float64\n",
      " 26  VotingAgeCitizen              3142 non-null   float64\n",
      " 27  Income                        3142 non-null   float64\n",
      " 28  IncomeErr                     3142 non-null   float64\n",
      " 29  IncomePerCap                  3142 non-null   float64\n",
      " 30  IncomePerCapErr               3142 non-null   float64\n",
      " 31  Poverty                       3142 non-null   float64\n",
      " 32  ChildPoverty                  3141 non-null   float64\n",
      " 33  Professional                  3142 non-null   float64\n",
      " 34  Service                       3142 non-null   float64\n",
      " 35  Office                        3142 non-null   float64\n",
      " 36  Construction                  3142 non-null   float64\n",
      " 37  Production                    3142 non-null   float64\n",
      " 38  Drive                         3142 non-null   float64\n",
      " 39  Carpool                       3142 non-null   float64\n",
      " 40  Transit                       3142 non-null   float64\n",
      " 41  Walk                          3142 non-null   float64\n",
      " 42  OtherTransp                   3142 non-null   float64\n",
      " 43  WorkAtHome                    3142 non-null   float64\n",
      " 44  MeanCommute                   3142 non-null   float64\n",
      " 45  Employed                      3142 non-null   float64\n",
      " 46  PrivateWork                   3142 non-null   float64\n",
      " 47  PublicWork                    3142 non-null   float64\n",
      " 48  SelfEmployed                  3142 non-null   float64\n",
      " 49  FamilyWork                    3142 non-null   float64\n",
      " 50  Unemployment                  3142 non-null   float64\n",
      " 51  Professional_ratio            3142 non-null   object \n",
      " 52  Service_ratio                 3142 non-null   object \n",
      " 53  Office_ratio                  3142 non-null   object \n",
      " 54  Construction_ratio            3142 non-null   object \n",
      " 55  Production_ratio              3142 non-null   object \n",
      " 56  Drive_ratio                   3142 non-null   object \n",
      " 57  Carpool_ratio                 3142 non-null   object \n",
      " 58  Transit_ratio                 3142 non-null   object \n",
      " 59  Walk_ratio                    3142 non-null   object \n",
      " 60  OtherTransp_ratio             3142 non-null   object \n",
      " 61  WorkAtHome_ratio              3142 non-null   object \n",
      " 62  Employed_ratio                3142 non-null   object \n",
      " 63  PrivateWork_ratio             3142 non-null   object \n",
      " 64  PublicWork_ratio              3142 non-null   object \n",
      " 65  SelfEmployed_ratio            3142 non-null   object \n",
      " 66  FamilyWork_ratio              3142 non-null   object \n",
      " 67  Unemployment_ratio            3142 non-null   object \n",
      " 68  Hispanic_ratio                3142 non-null   object \n",
      " 69  White_ratio                   3142 non-null   object \n",
      " 70  Black_ratio                   3142 non-null   object \n",
      " 71  Native_ratio                  3142 non-null   object \n",
      " 72  Asian_ratio                   3142 non-null   object \n",
      " 73  Pacific_ratio                 3142 non-null   object \n",
      " 74  Professional_ratio            3142 non-null   object \n",
      " 75  Service_ratio                 3142 non-null   object \n",
      " 76  Office_ratio                  3142 non-null   object \n",
      " 77  Construction_ratio            3142 non-null   object \n",
      " 78  Production_ratio              3142 non-null   object \n",
      " 79  Drive_ratio                   3142 non-null   object \n",
      " 80  Carpool_ratio                 3142 non-null   object \n",
      " 81  Transit_ratio                 3142 non-null   object \n",
      " 82  Walk_ratio                    3142 non-null   object \n",
      " 83  OtherTransp_ratio             3142 non-null   object \n",
      " 84  WorkAtHome_ratio              3142 non-null   object \n",
      " 85  Employed_ratio                3142 non-null   object \n",
      " 86  PrivateWork_ratio             3142 non-null   object \n",
      " 87  PublicWork_ratio              3142 non-null   object \n",
      " 88  SelfEmployed_ratio            3142 non-null   object \n",
      " 89  FamilyWork_ratio              3142 non-null   object \n",
      " 90  Unemployment_ratio            3142 non-null   object \n",
      "dtypes: float64(48), int64(1), object(42)\n",
      "memory usage: 2.2+ MB\n"
     ]
    }
   ],
   "source": [
    "df_stats = pd.concat([df_county,df_ratio], axis=1, join='inner')\n",
    "df_stats=pd.concat([df_stats, df_job_ratio], axis=1, join='inner')\n",
    "df_stats=pd.concat([df_stats,df_transp_ratio], axis=1, join='inner')\n",
    "df_stats=pd.concat([df_stats, df_type_ratio], axis=1, join='inner')\n",
    "df_stats.info()"
   ],
   "metadata": {
    "collapsed": false,
    "ExecuteTime": {
     "end_time": "2023-12-20T08:28:02.286778165Z",
     "start_time": "2023-12-20T08:28:01.995829361Z"
    }
   },
   "id": "e5f3d36e87a99ec0"
  },
  {
   "cell_type": "code",
   "execution_count": 219,
   "outputs": [
    {
     "data": {
      "text/plain": "    Unnamed: 0     county state  percentage16_Donald_Trump  \\\n0            0  Abbeville    SC                      0.629   \n1            1     Acadia    LA                      0.773   \n2            2   Accomack    VA                      0.545   \n3            3        Ada    ID                      0.479   \n4            4      Adair    IA                      0.653   \n..         ...        ...   ...                        ...   \n95          95   Atchison    MO                      0.756   \n96          96     Athens    OH                      0.387   \n97          97   Atkinson    GA                      0.719   \n98          98   Atlantic    NJ                      0.453   \n99          99      Atoka    OK                      0.813   \n\n    percentage16_Hillary_Clinton  total_votes16  votes16_Donald_Trump  \\\n0                          0.346        10724.0                6742.0   \n1                          0.206        27386.0               21159.0   \n2                          0.428        15755.0                8582.0   \n3                          0.387       195587.0               93748.0   \n4                          0.300         3759.0                2456.0   \n..                           ...            ...                   ...   \n95                         0.199         2723.0                2059.0   \n96                         0.557        27941.0               10816.0   \n97                         0.267         2604.0                1873.0   \n98                         0.515       105738.0               47882.0   \n99                         0.159         5002.0                4068.0   \n\n    votes16_Hillary_Clinton  percentage20_Donald_Trump  \\\n0                    3712.0                      0.661   \n1                    5638.0                      0.795   \n2                    6737.0                      0.542   \n3                   75676.0                      0.504   \n4                    1127.0                      0.697   \n..                      ...                        ...   \n95                    541.0                      0.781   \n96                  15552.0                      0.418   \n97                    696.0                      0.729   \n98                  54472.0                      0.462   \n99                    795.0                      0.846   \n\n    percentage20_Joe_Biden  ...  Transit_ratio  Walk_ratio  OtherTransp_ratio  \\\n0                    0.330  ...         0<->10      0<->10             0<->10   \n1                    0.191  ...         0<->10      0<->10             0<->10   \n2                    0.447  ...         0<->10      0<->10             0<->10   \n3                    0.465  ...         0<->10      0<->10             0<->10   \n4                    0.286  ...         0<->10      0<->10             0<->10   \n..                     ...  ...            ...         ...                ...   \n95                   0.200  ...         0<->10      0<->10             0<->10   \n96                   0.565  ...         0<->10     10<->30             0<->10   \n97                   0.261  ...        Unknown      0<->10             0<->10   \n98                   0.523  ...         0<->10      0<->10             0<->10   \n99                   0.142  ...         0<->10      0<->10             0<->10   \n\n    WorkAtHome_ratio  Employed_ratio  PrivateWork_ratio  PublicWork_ratio  \\\n0             0<->10         Unknown            70<->80           10<->30   \n1             0<->10         Unknown            70<->80           10<->30   \n2             0<->10         Unknown            70<->80           10<->30   \n3             0<->10         Unknown            70<->80           10<->30   \n4             0<->10         Unknown            70<->80           10<->30   \n..               ...             ...                ...               ...   \n95            0<->10         Unknown            70<->80           10<->30   \n96            0<->10         Unknown            60<->70           10<->30   \n97            0<->10         Unknown            80<->90           10<->30   \n98            0<->10         Unknown            70<->80           10<->30   \n99            0<->10         Unknown            60<->70           10<->30   \n\n    SelfEmployed_ratio  FamilyWork_ratio  Unemployment_ratio  \n0               0<->10            0<->10              0<->10  \n1               0<->10            0<->10              0<->10  \n2               0<->10            0<->10              0<->10  \n3               0<->10            0<->10              0<->10  \n4              10<->30            0<->10              0<->10  \n..                 ...               ...                 ...  \n95              0<->10            0<->10              0<->10  \n96              0<->10            0<->10              0<->10  \n97              0<->10           Unknown              0<->10  \n98              0<->10            0<->10             10<->30  \n99              0<->10            0<->10              0<->10  \n\n[100 rows x 73 columns]",
      "text/html": "<div>\n<style scoped>\n    .dataframe tbody tr th:only-of-type {\n        vertical-align: middle;\n    }\n\n    .dataframe tbody tr th {\n        vertical-align: top;\n    }\n\n    .dataframe thead th {\n        text-align: right;\n    }\n</style>\n<table border=\"1\" class=\"dataframe\">\n  <thead>\n    <tr style=\"text-align: right;\">\n      <th></th>\n      <th>Unnamed: 0</th>\n      <th>county</th>\n      <th>state</th>\n      <th>percentage16_Donald_Trump</th>\n      <th>percentage16_Hillary_Clinton</th>\n      <th>total_votes16</th>\n      <th>votes16_Donald_Trump</th>\n      <th>votes16_Hillary_Clinton</th>\n      <th>percentage20_Donald_Trump</th>\n      <th>percentage20_Joe_Biden</th>\n      <th>...</th>\n      <th>Transit_ratio</th>\n      <th>Walk_ratio</th>\n      <th>OtherTransp_ratio</th>\n      <th>WorkAtHome_ratio</th>\n      <th>Employed_ratio</th>\n      <th>PrivateWork_ratio</th>\n      <th>PublicWork_ratio</th>\n      <th>SelfEmployed_ratio</th>\n      <th>FamilyWork_ratio</th>\n      <th>Unemployment_ratio</th>\n    </tr>\n  </thead>\n  <tbody>\n    <tr>\n      <th>0</th>\n      <td>0</td>\n      <td>Abbeville</td>\n      <td>SC</td>\n      <td>0.629</td>\n      <td>0.346</td>\n      <td>10724.0</td>\n      <td>6742.0</td>\n      <td>3712.0</td>\n      <td>0.661</td>\n      <td>0.330</td>\n      <td>...</td>\n      <td>0&lt;-&gt;10</td>\n      <td>0&lt;-&gt;10</td>\n      <td>0&lt;-&gt;10</td>\n      <td>0&lt;-&gt;10</td>\n      <td>Unknown</td>\n      <td>70&lt;-&gt;80</td>\n      <td>10&lt;-&gt;30</td>\n      <td>0&lt;-&gt;10</td>\n      <td>0&lt;-&gt;10</td>\n      <td>0&lt;-&gt;10</td>\n    </tr>\n    <tr>\n      <th>1</th>\n      <td>1</td>\n      <td>Acadia</td>\n      <td>LA</td>\n      <td>0.773</td>\n      <td>0.206</td>\n      <td>27386.0</td>\n      <td>21159.0</td>\n      <td>5638.0</td>\n      <td>0.795</td>\n      <td>0.191</td>\n      <td>...</td>\n      <td>0&lt;-&gt;10</td>\n      <td>0&lt;-&gt;10</td>\n      <td>0&lt;-&gt;10</td>\n      <td>0&lt;-&gt;10</td>\n      <td>Unknown</td>\n      <td>70&lt;-&gt;80</td>\n      <td>10&lt;-&gt;30</td>\n      <td>0&lt;-&gt;10</td>\n      <td>0&lt;-&gt;10</td>\n      <td>0&lt;-&gt;10</td>\n    </tr>\n    <tr>\n      <th>2</th>\n      <td>2</td>\n      <td>Accomack</td>\n      <td>VA</td>\n      <td>0.545</td>\n      <td>0.428</td>\n      <td>15755.0</td>\n      <td>8582.0</td>\n      <td>6737.0</td>\n      <td>0.542</td>\n      <td>0.447</td>\n      <td>...</td>\n      <td>0&lt;-&gt;10</td>\n      <td>0&lt;-&gt;10</td>\n      <td>0&lt;-&gt;10</td>\n      <td>0&lt;-&gt;10</td>\n      <td>Unknown</td>\n      <td>70&lt;-&gt;80</td>\n      <td>10&lt;-&gt;30</td>\n      <td>0&lt;-&gt;10</td>\n      <td>0&lt;-&gt;10</td>\n      <td>0&lt;-&gt;10</td>\n    </tr>\n    <tr>\n      <th>3</th>\n      <td>3</td>\n      <td>Ada</td>\n      <td>ID</td>\n      <td>0.479</td>\n      <td>0.387</td>\n      <td>195587.0</td>\n      <td>93748.0</td>\n      <td>75676.0</td>\n      <td>0.504</td>\n      <td>0.465</td>\n      <td>...</td>\n      <td>0&lt;-&gt;10</td>\n      <td>0&lt;-&gt;10</td>\n      <td>0&lt;-&gt;10</td>\n      <td>0&lt;-&gt;10</td>\n      <td>Unknown</td>\n      <td>70&lt;-&gt;80</td>\n      <td>10&lt;-&gt;30</td>\n      <td>0&lt;-&gt;10</td>\n      <td>0&lt;-&gt;10</td>\n      <td>0&lt;-&gt;10</td>\n    </tr>\n    <tr>\n      <th>4</th>\n      <td>4</td>\n      <td>Adair</td>\n      <td>IA</td>\n      <td>0.653</td>\n      <td>0.300</td>\n      <td>3759.0</td>\n      <td>2456.0</td>\n      <td>1127.0</td>\n      <td>0.697</td>\n      <td>0.286</td>\n      <td>...</td>\n      <td>0&lt;-&gt;10</td>\n      <td>0&lt;-&gt;10</td>\n      <td>0&lt;-&gt;10</td>\n      <td>0&lt;-&gt;10</td>\n      <td>Unknown</td>\n      <td>70&lt;-&gt;80</td>\n      <td>10&lt;-&gt;30</td>\n      <td>10&lt;-&gt;30</td>\n      <td>0&lt;-&gt;10</td>\n      <td>0&lt;-&gt;10</td>\n    </tr>\n    <tr>\n      <th>...</th>\n      <td>...</td>\n      <td>...</td>\n      <td>...</td>\n      <td>...</td>\n      <td>...</td>\n      <td>...</td>\n      <td>...</td>\n      <td>...</td>\n      <td>...</td>\n      <td>...</td>\n      <td>...</td>\n      <td>...</td>\n      <td>...</td>\n      <td>...</td>\n      <td>...</td>\n      <td>...</td>\n      <td>...</td>\n      <td>...</td>\n      <td>...</td>\n      <td>...</td>\n      <td>...</td>\n    </tr>\n    <tr>\n      <th>95</th>\n      <td>95</td>\n      <td>Atchison</td>\n      <td>MO</td>\n      <td>0.756</td>\n      <td>0.199</td>\n      <td>2723.0</td>\n      <td>2059.0</td>\n      <td>541.0</td>\n      <td>0.781</td>\n      <td>0.200</td>\n      <td>...</td>\n      <td>0&lt;-&gt;10</td>\n      <td>0&lt;-&gt;10</td>\n      <td>0&lt;-&gt;10</td>\n      <td>0&lt;-&gt;10</td>\n      <td>Unknown</td>\n      <td>70&lt;-&gt;80</td>\n      <td>10&lt;-&gt;30</td>\n      <td>0&lt;-&gt;10</td>\n      <td>0&lt;-&gt;10</td>\n      <td>0&lt;-&gt;10</td>\n    </tr>\n    <tr>\n      <th>96</th>\n      <td>96</td>\n      <td>Athens</td>\n      <td>OH</td>\n      <td>0.387</td>\n      <td>0.557</td>\n      <td>27941.0</td>\n      <td>10816.0</td>\n      <td>15552.0</td>\n      <td>0.418</td>\n      <td>0.565</td>\n      <td>...</td>\n      <td>0&lt;-&gt;10</td>\n      <td>10&lt;-&gt;30</td>\n      <td>0&lt;-&gt;10</td>\n      <td>0&lt;-&gt;10</td>\n      <td>Unknown</td>\n      <td>60&lt;-&gt;70</td>\n      <td>10&lt;-&gt;30</td>\n      <td>0&lt;-&gt;10</td>\n      <td>0&lt;-&gt;10</td>\n      <td>0&lt;-&gt;10</td>\n    </tr>\n    <tr>\n      <th>97</th>\n      <td>97</td>\n      <td>Atkinson</td>\n      <td>GA</td>\n      <td>0.719</td>\n      <td>0.267</td>\n      <td>2604.0</td>\n      <td>1873.0</td>\n      <td>696.0</td>\n      <td>0.729</td>\n      <td>0.261</td>\n      <td>...</td>\n      <td>Unknown</td>\n      <td>0&lt;-&gt;10</td>\n      <td>0&lt;-&gt;10</td>\n      <td>0&lt;-&gt;10</td>\n      <td>Unknown</td>\n      <td>80&lt;-&gt;90</td>\n      <td>10&lt;-&gt;30</td>\n      <td>0&lt;-&gt;10</td>\n      <td>Unknown</td>\n      <td>0&lt;-&gt;10</td>\n    </tr>\n    <tr>\n      <th>98</th>\n      <td>98</td>\n      <td>Atlantic</td>\n      <td>NJ</td>\n      <td>0.453</td>\n      <td>0.515</td>\n      <td>105738.0</td>\n      <td>47882.0</td>\n      <td>54472.0</td>\n      <td>0.462</td>\n      <td>0.523</td>\n      <td>...</td>\n      <td>0&lt;-&gt;10</td>\n      <td>0&lt;-&gt;10</td>\n      <td>0&lt;-&gt;10</td>\n      <td>0&lt;-&gt;10</td>\n      <td>Unknown</td>\n      <td>70&lt;-&gt;80</td>\n      <td>10&lt;-&gt;30</td>\n      <td>0&lt;-&gt;10</td>\n      <td>0&lt;-&gt;10</td>\n      <td>10&lt;-&gt;30</td>\n    </tr>\n    <tr>\n      <th>99</th>\n      <td>99</td>\n      <td>Atoka</td>\n      <td>OK</td>\n      <td>0.813</td>\n      <td>0.159</td>\n      <td>5002.0</td>\n      <td>4068.0</td>\n      <td>795.0</td>\n      <td>0.846</td>\n      <td>0.142</td>\n      <td>...</td>\n      <td>0&lt;-&gt;10</td>\n      <td>0&lt;-&gt;10</td>\n      <td>0&lt;-&gt;10</td>\n      <td>0&lt;-&gt;10</td>\n      <td>Unknown</td>\n      <td>60&lt;-&gt;70</td>\n      <td>10&lt;-&gt;30</td>\n      <td>0&lt;-&gt;10</td>\n      <td>0&lt;-&gt;10</td>\n      <td>0&lt;-&gt;10</td>\n    </tr>\n  </tbody>\n</table>\n<p>100 rows × 73 columns</p>\n</div>"
     },
     "execution_count": 219,
     "metadata": {},
     "output_type": "execute_result"
    }
   ],
   "source": [
    "df2 = df_stats.iloc[:,:50]\n",
    "df3 = df_stats.iloc[:,68:]\n",
    "df_exploit =pd.concat([df2,df3], axis=1, join='inner')\n",
    "df_exploit.head(100)"
   ],
   "metadata": {
    "collapsed": false,
    "ExecuteTime": {
     "end_time": "2023-12-20T08:28:56.562256680Z",
     "start_time": "2023-12-20T08:28:55.797046074Z"
    }
   },
   "id": "9de87479ed38a627"
  },
  {
   "cell_type": "code",
   "execution_count": 220,
   "outputs": [],
   "source": [
    "Density_labels=[\"0<->10\",\"10<->20\",\"20<->30\",\"30<->40\",\"50<->60\",\"70<->80\",\"80<->90\",\"90<->100\"]"
   ],
   "metadata": {
    "collapsed": false,
    "ExecuteTime": {
     "end_time": "2023-12-20T08:34:56.229803808Z",
     "start_time": "2023-12-20T08:34:55.829094496Z"
    }
   },
   "id": "4689974b60fb6821"
  },
  {
   "cell_type": "code",
   "execution_count": 257,
   "outputs": [],
   "source": [
    "def region_fc(df, list_gen, list_reduce, title):\n",
    "    for item in list_gen:\n",
    "        if item in list_reduce:\n",
    "            df[item].iloc[\"Region\"]=title"
   ],
   "metadata": {
    "collapsed": false,
    "ExecuteTime": {
     "end_time": "2023-12-20T09:50:52.842293273Z",
     "start_time": "2023-12-20T09:50:52.647349296Z"
    }
   },
   "id": "2884d29e13b723c1"
  },
  {
   "cell_type": "code",
   "execution_count": 256,
   "outputs": [
    {
     "ename": "KeyError",
     "evalue": "'IA'",
     "output_type": "error",
     "traceback": [
      "\u001B[0;31m---------------------------------------------------------------------------\u001B[0m",
      "\u001B[0;31mKeyError\u001B[0m                                  Traceback (most recent call last)",
      "File \u001B[0;32m~/anaconda3/lib/python3.11/site-packages/pandas/core/indexes/base.py:3653\u001B[0m, in \u001B[0;36mIndex.get_loc\u001B[0;34m(self, key)\u001B[0m\n\u001B[1;32m   3652\u001B[0m \u001B[38;5;28;01mtry\u001B[39;00m:\n\u001B[0;32m-> 3653\u001B[0m     \u001B[38;5;28;01mreturn\u001B[39;00m \u001B[38;5;28mself\u001B[39m\u001B[38;5;241m.\u001B[39m_engine\u001B[38;5;241m.\u001B[39mget_loc(casted_key)\n\u001B[1;32m   3654\u001B[0m \u001B[38;5;28;01mexcept\u001B[39;00m \u001B[38;5;167;01mKeyError\u001B[39;00m \u001B[38;5;28;01mas\u001B[39;00m err:\n",
      "File \u001B[0;32m~/anaconda3/lib/python3.11/site-packages/pandas/_libs/index.pyx:147\u001B[0m, in \u001B[0;36mpandas._libs.index.IndexEngine.get_loc\u001B[0;34m()\u001B[0m\n",
      "File \u001B[0;32m~/anaconda3/lib/python3.11/site-packages/pandas/_libs/index.pyx:176\u001B[0m, in \u001B[0;36mpandas._libs.index.IndexEngine.get_loc\u001B[0;34m()\u001B[0m\n",
      "File \u001B[0;32mpandas/_libs/hashtable_class_helper.pxi:7080\u001B[0m, in \u001B[0;36mpandas._libs.hashtable.PyObjectHashTable.get_item\u001B[0;34m()\u001B[0m\n",
      "File \u001B[0;32mpandas/_libs/hashtable_class_helper.pxi:7088\u001B[0m, in \u001B[0;36mpandas._libs.hashtable.PyObjectHashTable.get_item\u001B[0;34m()\u001B[0m\n",
      "\u001B[0;31mKeyError\u001B[0m: 'IA'",
      "\nThe above exception was the direct cause of the following exception:\n",
      "\u001B[0;31mKeyError\u001B[0m                                  Traceback (most recent call last)",
      "Cell \u001B[0;32mIn[256], line 1\u001B[0m\n\u001B[0;32m----> 1\u001B[0m region_fc(df_exploit,df_exploit[\u001B[38;5;124m\"\u001B[39m\u001B[38;5;124mstate\u001B[39m\u001B[38;5;124m\"\u001B[39m],MidWest_abr,\u001B[38;5;124m\"\u001B[39m\u001B[38;5;124mMidWest\u001B[39m\u001B[38;5;124m\"\u001B[39m)\n\u001B[1;32m      2\u001B[0m region_fc(df_exploit,df_exploit[\u001B[38;5;124m\"\u001B[39m\u001B[38;5;124mstate\u001B[39m\u001B[38;5;124m\"\u001B[39m],Northeast_abr, \u001B[38;5;124m\"\u001B[39m\u001B[38;5;124mNortheast\u001B[39m\u001B[38;5;124m\"\u001B[39m)\n\u001B[1;32m      3\u001B[0m region_fc(df_exploit,df_exploit[\u001B[38;5;124m\"\u001B[39m\u001B[38;5;124mstate\u001B[39m\u001B[38;5;124m\"\u001B[39m],West_abr, \u001B[38;5;124m\"\u001B[39m\u001B[38;5;124mWest\u001B[39m\u001B[38;5;124m\"\u001B[39m)\n",
      "Cell \u001B[0;32mIn[253], line 4\u001B[0m, in \u001B[0;36mregion_fc\u001B[0;34m(df, list_gen, list_reduce, title)\u001B[0m\n\u001B[1;32m      2\u001B[0m \u001B[38;5;28;01mfor\u001B[39;00m item \u001B[38;5;129;01min\u001B[39;00m list_gen:\n\u001B[1;32m      3\u001B[0m     \u001B[38;5;28;01mif\u001B[39;00m item \u001B[38;5;129;01min\u001B[39;00m list_reduce:\n\u001B[0;32m----> 4\u001B[0m         df[item]\u001B[38;5;241m.\u001B[39miloc[\u001B[38;5;124m\"\u001B[39m\u001B[38;5;124mRegion\u001B[39m\u001B[38;5;124m\"\u001B[39m]\u001B[38;5;241m=\u001B[39mtitle\n",
      "File \u001B[0;32m~/anaconda3/lib/python3.11/site-packages/pandas/core/frame.py:3761\u001B[0m, in \u001B[0;36mDataFrame.__getitem__\u001B[0;34m(self, key)\u001B[0m\n\u001B[1;32m   3759\u001B[0m \u001B[38;5;28;01mif\u001B[39;00m \u001B[38;5;28mself\u001B[39m\u001B[38;5;241m.\u001B[39mcolumns\u001B[38;5;241m.\u001B[39mnlevels \u001B[38;5;241m>\u001B[39m \u001B[38;5;241m1\u001B[39m:\n\u001B[1;32m   3760\u001B[0m     \u001B[38;5;28;01mreturn\u001B[39;00m \u001B[38;5;28mself\u001B[39m\u001B[38;5;241m.\u001B[39m_getitem_multilevel(key)\n\u001B[0;32m-> 3761\u001B[0m indexer \u001B[38;5;241m=\u001B[39m \u001B[38;5;28mself\u001B[39m\u001B[38;5;241m.\u001B[39mcolumns\u001B[38;5;241m.\u001B[39mget_loc(key)\n\u001B[1;32m   3762\u001B[0m \u001B[38;5;28;01mif\u001B[39;00m is_integer(indexer):\n\u001B[1;32m   3763\u001B[0m     indexer \u001B[38;5;241m=\u001B[39m [indexer]\n",
      "File \u001B[0;32m~/anaconda3/lib/python3.11/site-packages/pandas/core/indexes/base.py:3655\u001B[0m, in \u001B[0;36mIndex.get_loc\u001B[0;34m(self, key)\u001B[0m\n\u001B[1;32m   3653\u001B[0m     \u001B[38;5;28;01mreturn\u001B[39;00m \u001B[38;5;28mself\u001B[39m\u001B[38;5;241m.\u001B[39m_engine\u001B[38;5;241m.\u001B[39mget_loc(casted_key)\n\u001B[1;32m   3654\u001B[0m \u001B[38;5;28;01mexcept\u001B[39;00m \u001B[38;5;167;01mKeyError\u001B[39;00m \u001B[38;5;28;01mas\u001B[39;00m err:\n\u001B[0;32m-> 3655\u001B[0m     \u001B[38;5;28;01mraise\u001B[39;00m \u001B[38;5;167;01mKeyError\u001B[39;00m(key) \u001B[38;5;28;01mfrom\u001B[39;00m \u001B[38;5;21;01merr\u001B[39;00m\n\u001B[1;32m   3656\u001B[0m \u001B[38;5;28;01mexcept\u001B[39;00m \u001B[38;5;167;01mTypeError\u001B[39;00m:\n\u001B[1;32m   3657\u001B[0m     \u001B[38;5;66;03m# If we have a listlike key, _check_indexing_error will raise\u001B[39;00m\n\u001B[1;32m   3658\u001B[0m     \u001B[38;5;66;03m#  InvalidIndexError. Otherwise we fall through and re-raise\u001B[39;00m\n\u001B[1;32m   3659\u001B[0m     \u001B[38;5;66;03m#  the TypeError.\u001B[39;00m\n\u001B[1;32m   3660\u001B[0m     \u001B[38;5;28mself\u001B[39m\u001B[38;5;241m.\u001B[39m_check_indexing_error(key)\n",
      "\u001B[0;31mKeyError\u001B[0m: 'IA'"
     ]
    }
   ],
   "source": [
    "region_fc(df_exploit,df_exploit[\"state\"],MidWest_abr,\"MidWest\")\n",
    "region_fc(df_exploit,df_exploit[\"state\"],Northeast_abr, \"Northeast\")\n",
    "region_fc(df_exploit,df_exploit[\"state\"],West_abr, \"West\")\n",
    "region_fc(df_exploit,df_exploit[\"state\"],Northeast_abr, \"Northeast\")\n",
    "df_exploit.head(200)"
   ],
   "metadata": {
    "collapsed": false,
    "ExecuteTime": {
     "end_time": "2023-12-20T09:50:48.326266559Z",
     "start_time": "2023-12-20T09:50:47.595131925Z"
    }
   },
   "id": "43c63171fc389126"
  },
  {
   "cell_type": "markdown",
   "source": [
    "# HYPOTHESES"
   ],
   "metadata": {
    "collapsed": false
   },
   "id": "6ddc137c15363207"
  },
  {
   "cell_type": "markdown",
   "source": [
    "## H1 Les concentrations des ethnies influencent les votes et la mobilisation"
   ],
   "metadata": {
    "collapsed": false
   },
   "id": "4b1f0bb532a33429"
  },
  {
   "cell_type": "code",
   "execution_count": 34,
   "outputs": [
    {
     "name": "stdout",
     "output_type": "stream",
     "text": [
      "<class 'pandas.core.series.Series'>\n",
      "Index: 3142 entries, 1914 to 2656\n",
      "Series name: votes16_Hillary_Clinton\n",
      "Non-Null Count  Dtype  \n",
      "--------------  -----  \n",
      "3142 non-null   float64\n",
      "dtypes: float64(1)\n",
      "memory usage: 49.1 KB\n",
      "<class 'pandas.core.series.Series'>\n",
      "Index: 3142 entries, 1914 to 2656\n",
      "Series name: percentage16_Hillary_Clinton\n",
      "Non-Null Count  Dtype  \n",
      "--------------  -----  \n",
      "3142 non-null   float64\n",
      "dtypes: float64(1)\n",
      "memory usage: 49.1 KB\n"
     ]
    }
   ],
   "source": [
    "df_stats['votes16_Hillary_Clinton']=df_stats['votes16_Hillary_Clinton'].fillna(0)\n",
    "df_stats['votes16_Hillary_Clinton'].info()\n",
    "df_stats['percentage16_Hillary_Clinton']=df_stats['percentage16_Hillary_Clinton'].fillna(0)\n",
    "df_stats['percentage16_Hillary_Clinton'].info()"
   ],
   "metadata": {
    "collapsed": false,
    "ExecuteTime": {
     "end_time": "2023-12-18T15:16:53.173268375Z",
     "start_time": "2023-12-18T15:16:52.945109186Z"
    }
   },
   "id": "b88678da3f73966e"
  },
  {
   "cell_type": "code",
   "execution_count": 34,
   "outputs": [],
   "source": [
    " import matplotlib.pyplot as plt\n",
    "\n",
    "labels = 'Frogs', 'Hogs', 'Dogs', 'Logs'\n",
    "sizes = [15, 30, 45, 10]\n",
    "\n",
    "fig, ax = plt.subplots()\n",
    "ax.pie(sizes, labels=labels)"
   ],
   "metadata": {
    "collapsed": false,
    "ExecuteTime": {
     "end_time": "2023-12-18T15:16:54.743577452Z",
     "start_time": "2023-12-18T15:16:54.677394947Z"
    }
   },
   "id": "bc8a9c9cb0dd2417"
  },
  {
   "cell_type": "code",
   "execution_count": 68,
   "outputs": [],
   "source": [
    "def print_PieChart(list_cat, list_ethnies, col1, col2):\n",
    "    i=1\n",
    "    for cat, ethnics in zip(list_cat, list_ethnies):\n",
    "        plt.figure(figsize=(25,25), layout='constrained')\n",
    "        plt.subplot(6,2,i)\n",
    "        plt.pie(df_county[col1])\n",
    "        i=i+1\n",
    "        plt.subplot(6,2,i)\n",
    "        plt.pie(df_county[col2])\n",
    "        i=i+1\n",
    "        plt.show()"
   ],
   "metadata": {
    "collapsed": false,
    "ExecuteTime": {
     "end_time": "2023-12-18T15:47:16.346748982Z",
     "start_time": "2023-12-18T15:47:15.777238337Z"
    }
   },
   "id": "943c58839d4ac61e"
  },
  {
   "cell_type": "code",
   "execution_count": 63,
   "outputs": [],
   "source": [
    "def print_stats_ethnies(list_cat, list_ethnies, col1,col2):\n",
    "    i=1\n",
    "    for cat, ethnics in zip(list_cat, list_ethnies):\n",
    "        plt.figure(figsize=(25,25))\n",
    "        plt.subplot(6,2,i)\n",
    "        sns.barplot(data=df_stats.sort_values(ethnics), x=cat, y=col1)\n",
    "        i=i+1\n",
    "        plt.subplot(6,2,i)\n",
    "        sns.barplot(data=df_stats.sort_values(ethnics),x=cat, y=col2)\n",
    "        i=i+1\n",
    "        plt.show()"
   ],
   "metadata": {
    "collapsed": false,
    "ExecuteTime": {
     "end_time": "2023-12-18T15:31:20.106028911Z",
     "start_time": "2023-12-18T15:31:20.037784285Z"
    }
   },
   "id": "90e126fdbcaa092d"
  },
  {
   "cell_type": "code",
   "execution_count": 69,
   "outputs": [
    {
     "ename": "ValueError",
     "evalue": "cannot convert float NaN to integer",
     "output_type": "error",
     "traceback": [
      "\u001B[0;31m---------------------------------------------------------------------------\u001B[0m",
      "\u001B[0;31mValueError\u001B[0m                                Traceback (most recent call last)",
      "Cell \u001B[0;32mIn[69], line 1\u001B[0m\n\u001B[0;32m----> 1\u001B[0m print_PieChart(list_col,\u001B[38;5;124m\"\u001B[39m\u001B[38;5;124mpercentage16_Hillary_Clinton\u001B[39m\u001B[38;5;124m\"\u001B[39m,\u001B[38;5;124m\"\u001B[39m\u001B[38;5;124mpercentage16_Donald_Trump\u001B[39m\u001B[38;5;124m\"\u001B[39m)\n",
      "Cell \u001B[0;32mIn[68], line 6\u001B[0m, in \u001B[0;36mprint_PieChart\u001B[0;34m(list_ethnies, col1, col2)\u001B[0m\n\u001B[1;32m      4\u001B[0m plt\u001B[38;5;241m.\u001B[39mfigure(figsize\u001B[38;5;241m=\u001B[39m(\u001B[38;5;241m25\u001B[39m,\u001B[38;5;241m25\u001B[39m), layout\u001B[38;5;241m=\u001B[39m\u001B[38;5;124m'\u001B[39m\u001B[38;5;124mconstrained\u001B[39m\u001B[38;5;124m'\u001B[39m)\n\u001B[1;32m      5\u001B[0m plt\u001B[38;5;241m.\u001B[39msubplot(\u001B[38;5;241m6\u001B[39m,\u001B[38;5;241m2\u001B[39m,i)\n\u001B[0;32m----> 6\u001B[0m plt\u001B[38;5;241m.\u001B[39mpie(df_county[col1])\n\u001B[1;32m      7\u001B[0m i\u001B[38;5;241m=\u001B[39mi\u001B[38;5;241m+\u001B[39m\u001B[38;5;241m1\u001B[39m\n\u001B[1;32m      8\u001B[0m plt\u001B[38;5;241m.\u001B[39msubplot(\u001B[38;5;241m6\u001B[39m,\u001B[38;5;241m2\u001B[39m,i)\n",
      "File \u001B[0;32m~/anaconda3/lib/python3.11/site-packages/matplotlib/pyplot.py:2799\u001B[0m, in \u001B[0;36mpie\u001B[0;34m(x, explode, labels, colors, autopct, pctdistance, shadow, labeldistance, startangle, radius, counterclock, wedgeprops, textprops, center, frame, rotatelabels, normalize, hatch, data)\u001B[0m\n\u001B[1;32m   2792\u001B[0m \u001B[38;5;129m@_copy_docstring_and_deprecators\u001B[39m(Axes\u001B[38;5;241m.\u001B[39mpie)\n\u001B[1;32m   2793\u001B[0m \u001B[38;5;28;01mdef\u001B[39;00m \u001B[38;5;21mpie\u001B[39m(\n\u001B[1;32m   2794\u001B[0m         x, explode\u001B[38;5;241m=\u001B[39m\u001B[38;5;28;01mNone\u001B[39;00m, labels\u001B[38;5;241m=\u001B[39m\u001B[38;5;28;01mNone\u001B[39;00m, colors\u001B[38;5;241m=\u001B[39m\u001B[38;5;28;01mNone\u001B[39;00m, autopct\u001B[38;5;241m=\u001B[39m\u001B[38;5;28;01mNone\u001B[39;00m,\n\u001B[0;32m   (...)\u001B[0m\n\u001B[1;32m   2797\u001B[0m         textprops\u001B[38;5;241m=\u001B[39m\u001B[38;5;28;01mNone\u001B[39;00m, center\u001B[38;5;241m=\u001B[39m(\u001B[38;5;241m0\u001B[39m, \u001B[38;5;241m0\u001B[39m), frame\u001B[38;5;241m=\u001B[39m\u001B[38;5;28;01mFalse\u001B[39;00m,\n\u001B[1;32m   2798\u001B[0m         rotatelabels\u001B[38;5;241m=\u001B[39m\u001B[38;5;28;01mFalse\u001B[39;00m, \u001B[38;5;241m*\u001B[39m, normalize\u001B[38;5;241m=\u001B[39m\u001B[38;5;28;01mTrue\u001B[39;00m, hatch\u001B[38;5;241m=\u001B[39m\u001B[38;5;28;01mNone\u001B[39;00m, data\u001B[38;5;241m=\u001B[39m\u001B[38;5;28;01mNone\u001B[39;00m):\n\u001B[0;32m-> 2799\u001B[0m     \u001B[38;5;28;01mreturn\u001B[39;00m gca()\u001B[38;5;241m.\u001B[39mpie(\n\u001B[1;32m   2800\u001B[0m         x, explode\u001B[38;5;241m=\u001B[39mexplode, labels\u001B[38;5;241m=\u001B[39mlabels, colors\u001B[38;5;241m=\u001B[39mcolors,\n\u001B[1;32m   2801\u001B[0m         autopct\u001B[38;5;241m=\u001B[39mautopct, pctdistance\u001B[38;5;241m=\u001B[39mpctdistance, shadow\u001B[38;5;241m=\u001B[39mshadow,\n\u001B[1;32m   2802\u001B[0m         labeldistance\u001B[38;5;241m=\u001B[39mlabeldistance, startangle\u001B[38;5;241m=\u001B[39mstartangle,\n\u001B[1;32m   2803\u001B[0m         radius\u001B[38;5;241m=\u001B[39mradius, counterclock\u001B[38;5;241m=\u001B[39mcounterclock,\n\u001B[1;32m   2804\u001B[0m         wedgeprops\u001B[38;5;241m=\u001B[39mwedgeprops, textprops\u001B[38;5;241m=\u001B[39mtextprops, center\u001B[38;5;241m=\u001B[39mcenter,\n\u001B[1;32m   2805\u001B[0m         frame\u001B[38;5;241m=\u001B[39mframe, rotatelabels\u001B[38;5;241m=\u001B[39mrotatelabels, normalize\u001B[38;5;241m=\u001B[39mnormalize,\n\u001B[1;32m   2806\u001B[0m         hatch\u001B[38;5;241m=\u001B[39mhatch, \u001B[38;5;241m*\u001B[39m\u001B[38;5;241m*\u001B[39m({\u001B[38;5;124m\"\u001B[39m\u001B[38;5;124mdata\u001B[39m\u001B[38;5;124m\"\u001B[39m: data} \u001B[38;5;28;01mif\u001B[39;00m data \u001B[38;5;129;01mis\u001B[39;00m \u001B[38;5;129;01mnot\u001B[39;00m \u001B[38;5;28;01mNone\u001B[39;00m \u001B[38;5;28;01melse\u001B[39;00m {}))\n",
      "File \u001B[0;32m~/anaconda3/lib/python3.11/site-packages/matplotlib/__init__.py:1446\u001B[0m, in \u001B[0;36m_preprocess_data.<locals>.inner\u001B[0;34m(ax, data, *args, **kwargs)\u001B[0m\n\u001B[1;32m   1443\u001B[0m \u001B[38;5;129m@functools\u001B[39m\u001B[38;5;241m.\u001B[39mwraps(func)\n\u001B[1;32m   1444\u001B[0m \u001B[38;5;28;01mdef\u001B[39;00m \u001B[38;5;21minner\u001B[39m(ax, \u001B[38;5;241m*\u001B[39margs, data\u001B[38;5;241m=\u001B[39m\u001B[38;5;28;01mNone\u001B[39;00m, \u001B[38;5;241m*\u001B[39m\u001B[38;5;241m*\u001B[39mkwargs):\n\u001B[1;32m   1445\u001B[0m     \u001B[38;5;28;01mif\u001B[39;00m data \u001B[38;5;129;01mis\u001B[39;00m \u001B[38;5;28;01mNone\u001B[39;00m:\n\u001B[0;32m-> 1446\u001B[0m         \u001B[38;5;28;01mreturn\u001B[39;00m func(ax, \u001B[38;5;241m*\u001B[39m\u001B[38;5;28mmap\u001B[39m(sanitize_sequence, args), \u001B[38;5;241m*\u001B[39m\u001B[38;5;241m*\u001B[39mkwargs)\n\u001B[1;32m   1448\u001B[0m     bound \u001B[38;5;241m=\u001B[39m new_sig\u001B[38;5;241m.\u001B[39mbind(ax, \u001B[38;5;241m*\u001B[39margs, \u001B[38;5;241m*\u001B[39m\u001B[38;5;241m*\u001B[39mkwargs)\n\u001B[1;32m   1449\u001B[0m     auto_label \u001B[38;5;241m=\u001B[39m (bound\u001B[38;5;241m.\u001B[39marguments\u001B[38;5;241m.\u001B[39mget(label_namer)\n\u001B[1;32m   1450\u001B[0m                   \u001B[38;5;129;01mor\u001B[39;00m bound\u001B[38;5;241m.\u001B[39mkwargs\u001B[38;5;241m.\u001B[39mget(label_namer))\n",
      "File \u001B[0;32m~/anaconda3/lib/python3.11/site-packages/matplotlib/axes/_axes.py:3237\u001B[0m, in \u001B[0;36mAxes.pie\u001B[0;34m(self, x, explode, labels, colors, autopct, pctdistance, shadow, labeldistance, startangle, radius, counterclock, wedgeprops, textprops, center, frame, rotatelabels, normalize, hatch)\u001B[0m\n\u001B[1;32m   3234\u001B[0m x \u001B[38;5;241m+\u001B[39m\u001B[38;5;241m=\u001B[39m expl \u001B[38;5;241m*\u001B[39m math\u001B[38;5;241m.\u001B[39mcos(thetam)\n\u001B[1;32m   3235\u001B[0m y \u001B[38;5;241m+\u001B[39m\u001B[38;5;241m=\u001B[39m expl \u001B[38;5;241m*\u001B[39m math\u001B[38;5;241m.\u001B[39msin(thetam)\n\u001B[0;32m-> 3237\u001B[0m w \u001B[38;5;241m=\u001B[39m mpatches\u001B[38;5;241m.\u001B[39mWedge((x, y), radius, \u001B[38;5;241m360.\u001B[39m \u001B[38;5;241m*\u001B[39m \u001B[38;5;28mmin\u001B[39m(theta1, theta2),\n\u001B[1;32m   3238\u001B[0m                    \u001B[38;5;241m360.\u001B[39m \u001B[38;5;241m*\u001B[39m \u001B[38;5;28mmax\u001B[39m(theta1, theta2),\n\u001B[1;32m   3239\u001B[0m                    facecolor\u001B[38;5;241m=\u001B[39mget_next_color(),\n\u001B[1;32m   3240\u001B[0m                    hatch\u001B[38;5;241m=\u001B[39m\u001B[38;5;28mnext\u001B[39m(hatch_cycle),\n\u001B[1;32m   3241\u001B[0m                    clip_on\u001B[38;5;241m=\u001B[39m\u001B[38;5;28;01mFalse\u001B[39;00m,\n\u001B[1;32m   3242\u001B[0m                    label\u001B[38;5;241m=\u001B[39mlabel)\n\u001B[1;32m   3243\u001B[0m w\u001B[38;5;241m.\u001B[39mset(\u001B[38;5;241m*\u001B[39m\u001B[38;5;241m*\u001B[39mwedgeprops)\n\u001B[1;32m   3244\u001B[0m slices\u001B[38;5;241m.\u001B[39mappend(w)\n",
      "File \u001B[0;32m~/anaconda3/lib/python3.11/site-packages/matplotlib/_api/deprecation.py:454\u001B[0m, in \u001B[0;36mmake_keyword_only.<locals>.wrapper\u001B[0;34m(*args, **kwargs)\u001B[0m\n\u001B[1;32m    448\u001B[0m \u001B[38;5;28;01mif\u001B[39;00m \u001B[38;5;28mlen\u001B[39m(args) \u001B[38;5;241m>\u001B[39m name_idx:\n\u001B[1;32m    449\u001B[0m     warn_deprecated(\n\u001B[1;32m    450\u001B[0m         since, message\u001B[38;5;241m=\u001B[39m\u001B[38;5;124m\"\u001B[39m\u001B[38;5;124mPassing the \u001B[39m\u001B[38;5;132;01m%(name)s\u001B[39;00m\u001B[38;5;124m \u001B[39m\u001B[38;5;132;01m%(obj_type)s\u001B[39;00m\u001B[38;5;124m \u001B[39m\u001B[38;5;124m\"\u001B[39m\n\u001B[1;32m    451\u001B[0m         \u001B[38;5;124m\"\u001B[39m\u001B[38;5;124mpositionally is deprecated since Matplotlib \u001B[39m\u001B[38;5;132;01m%(since)s\u001B[39;00m\u001B[38;5;124m; the \u001B[39m\u001B[38;5;124m\"\u001B[39m\n\u001B[1;32m    452\u001B[0m         \u001B[38;5;124m\"\u001B[39m\u001B[38;5;124mparameter will become keyword-only \u001B[39m\u001B[38;5;132;01m%(removal)s\u001B[39;00m\u001B[38;5;124m.\u001B[39m\u001B[38;5;124m\"\u001B[39m,\n\u001B[1;32m    453\u001B[0m         name\u001B[38;5;241m=\u001B[39mname, obj_type\u001B[38;5;241m=\u001B[39m\u001B[38;5;124mf\u001B[39m\u001B[38;5;124m\"\u001B[39m\u001B[38;5;124mparameter of \u001B[39m\u001B[38;5;132;01m{\u001B[39;00mfunc\u001B[38;5;241m.\u001B[39m\u001B[38;5;18m__name__\u001B[39m\u001B[38;5;132;01m}\u001B[39;00m\u001B[38;5;124m()\u001B[39m\u001B[38;5;124m\"\u001B[39m)\n\u001B[0;32m--> 454\u001B[0m \u001B[38;5;28;01mreturn\u001B[39;00m func(\u001B[38;5;241m*\u001B[39margs, \u001B[38;5;241m*\u001B[39m\u001B[38;5;241m*\u001B[39mkwargs)\n",
      "File \u001B[0;32m~/anaconda3/lib/python3.11/site-packages/matplotlib/patches.py:1195\u001B[0m, in \u001B[0;36mWedge.__init__\u001B[0;34m(self, center, r, theta1, theta2, width, **kwargs)\u001B[0m\n\u001B[1;32m   1193\u001B[0m \u001B[38;5;28mself\u001B[39m\u001B[38;5;241m.\u001B[39mtheta1, \u001B[38;5;28mself\u001B[39m\u001B[38;5;241m.\u001B[39mtheta2 \u001B[38;5;241m=\u001B[39m theta1, theta2\n\u001B[1;32m   1194\u001B[0m \u001B[38;5;28mself\u001B[39m\u001B[38;5;241m.\u001B[39m_patch_transform \u001B[38;5;241m=\u001B[39m transforms\u001B[38;5;241m.\u001B[39mIdentityTransform()\n\u001B[0;32m-> 1195\u001B[0m \u001B[38;5;28mself\u001B[39m\u001B[38;5;241m.\u001B[39m_recompute_path()\n",
      "File \u001B[0;32m~/anaconda3/lib/python3.11/site-packages/matplotlib/patches.py:1207\u001B[0m, in \u001B[0;36mWedge._recompute_path\u001B[0;34m(self)\u001B[0m\n\u001B[1;32m   1204\u001B[0m     connector \u001B[38;5;241m=\u001B[39m Path\u001B[38;5;241m.\u001B[39mLINETO\n\u001B[1;32m   1206\u001B[0m \u001B[38;5;66;03m# Form the outer ring\u001B[39;00m\n\u001B[0;32m-> 1207\u001B[0m arc \u001B[38;5;241m=\u001B[39m Path\u001B[38;5;241m.\u001B[39marc(theta1, theta2)\n\u001B[1;32m   1209\u001B[0m \u001B[38;5;28;01mif\u001B[39;00m \u001B[38;5;28mself\u001B[39m\u001B[38;5;241m.\u001B[39mwidth \u001B[38;5;129;01mis\u001B[39;00m \u001B[38;5;129;01mnot\u001B[39;00m \u001B[38;5;28;01mNone\u001B[39;00m:\n\u001B[1;32m   1210\u001B[0m     \u001B[38;5;66;03m# Partial annulus needs to draw the outer ring\u001B[39;00m\n\u001B[1;32m   1211\u001B[0m     \u001B[38;5;66;03m# followed by a reversed and scaled inner ring\u001B[39;00m\n\u001B[1;32m   1212\u001B[0m     v1 \u001B[38;5;241m=\u001B[39m arc\u001B[38;5;241m.\u001B[39mvertices\n",
      "File \u001B[0;32m~/anaconda3/lib/python3.11/site-packages/matplotlib/path.py:954\u001B[0m, in \u001B[0;36mPath.arc\u001B[0;34m(cls, theta1, theta2, n, is_wedge)\u001B[0m\n\u001B[1;32m    952\u001B[0m \u001B[38;5;66;03m# number of curve segments to make\u001B[39;00m\n\u001B[1;32m    953\u001B[0m \u001B[38;5;28;01mif\u001B[39;00m n \u001B[38;5;129;01mis\u001B[39;00m \u001B[38;5;28;01mNone\u001B[39;00m:\n\u001B[0;32m--> 954\u001B[0m     n \u001B[38;5;241m=\u001B[39m \u001B[38;5;28mint\u001B[39m(\u001B[38;5;241m2\u001B[39m \u001B[38;5;241m*\u001B[39m\u001B[38;5;241m*\u001B[39m np\u001B[38;5;241m.\u001B[39mceil((eta2 \u001B[38;5;241m-\u001B[39m eta1) \u001B[38;5;241m/\u001B[39m halfpi))\n\u001B[1;32m    955\u001B[0m \u001B[38;5;28;01mif\u001B[39;00m n \u001B[38;5;241m<\u001B[39m \u001B[38;5;241m1\u001B[39m:\n\u001B[1;32m    956\u001B[0m     \u001B[38;5;28;01mraise\u001B[39;00m \u001B[38;5;167;01mValueError\u001B[39;00m(\u001B[38;5;124m\"\u001B[39m\u001B[38;5;124mn must be >= 1 or None\u001B[39m\u001B[38;5;124m\"\u001B[39m)\n",
      "\u001B[0;31mValueError\u001B[0m: cannot convert float NaN to integer"
     ]
    },
    {
     "ename": "ValueError",
     "evalue": "need at least one array to concatenate",
     "output_type": "error",
     "traceback": [
      "\u001B[0;31m---------------------------------------------------------------------------\u001B[0m",
      "\u001B[0;31mValueError\u001B[0m                                Traceback (most recent call last)",
      "File \u001B[0;32m~/anaconda3/lib/python3.11/site-packages/IPython/core/formatters.py:340\u001B[0m, in \u001B[0;36mBaseFormatter.__call__\u001B[0;34m(self, obj)\u001B[0m\n\u001B[1;32m    338\u001B[0m     \u001B[38;5;28;01mpass\u001B[39;00m\n\u001B[1;32m    339\u001B[0m \u001B[38;5;28;01melse\u001B[39;00m:\n\u001B[0;32m--> 340\u001B[0m     \u001B[38;5;28;01mreturn\u001B[39;00m printer(obj)\n\u001B[1;32m    341\u001B[0m \u001B[38;5;66;03m# Finally look for special method names\u001B[39;00m\n\u001B[1;32m    342\u001B[0m method \u001B[38;5;241m=\u001B[39m get_real_method(obj, \u001B[38;5;28mself\u001B[39m\u001B[38;5;241m.\u001B[39mprint_method)\n",
      "File \u001B[0;32m~/anaconda3/lib/python3.11/site-packages/IPython/core/pylabtools.py:152\u001B[0m, in \u001B[0;36mprint_figure\u001B[0;34m(fig, fmt, bbox_inches, base64, **kwargs)\u001B[0m\n\u001B[1;32m    149\u001B[0m     \u001B[38;5;28;01mfrom\u001B[39;00m \u001B[38;5;21;01mmatplotlib\u001B[39;00m\u001B[38;5;21;01m.\u001B[39;00m\u001B[38;5;21;01mbackend_bases\u001B[39;00m \u001B[38;5;28;01mimport\u001B[39;00m FigureCanvasBase\n\u001B[1;32m    150\u001B[0m     FigureCanvasBase(fig)\n\u001B[0;32m--> 152\u001B[0m fig\u001B[38;5;241m.\u001B[39mcanvas\u001B[38;5;241m.\u001B[39mprint_figure(bytes_io, \u001B[38;5;241m*\u001B[39m\u001B[38;5;241m*\u001B[39mkw)\n\u001B[1;32m    153\u001B[0m data \u001B[38;5;241m=\u001B[39m bytes_io\u001B[38;5;241m.\u001B[39mgetvalue()\n\u001B[1;32m    154\u001B[0m \u001B[38;5;28;01mif\u001B[39;00m fmt \u001B[38;5;241m==\u001B[39m \u001B[38;5;124m'\u001B[39m\u001B[38;5;124msvg\u001B[39m\u001B[38;5;124m'\u001B[39m:\n",
      "File \u001B[0;32m~/anaconda3/lib/python3.11/site-packages/matplotlib/backend_bases.py:2346\u001B[0m, in \u001B[0;36mFigureCanvasBase.print_figure\u001B[0;34m(self, filename, dpi, facecolor, edgecolor, orientation, format, bbox_inches, pad_inches, bbox_extra_artists, backend, **kwargs)\u001B[0m\n\u001B[1;32m   2344\u001B[0m \u001B[38;5;28;01mif\u001B[39;00m bbox_inches:\n\u001B[1;32m   2345\u001B[0m     \u001B[38;5;28;01mif\u001B[39;00m bbox_inches \u001B[38;5;241m==\u001B[39m \u001B[38;5;124m\"\u001B[39m\u001B[38;5;124mtight\u001B[39m\u001B[38;5;124m\"\u001B[39m:\n\u001B[0;32m-> 2346\u001B[0m         bbox_inches \u001B[38;5;241m=\u001B[39m \u001B[38;5;28mself\u001B[39m\u001B[38;5;241m.\u001B[39mfigure\u001B[38;5;241m.\u001B[39mget_tightbbox(\n\u001B[1;32m   2347\u001B[0m             renderer, bbox_extra_artists\u001B[38;5;241m=\u001B[39mbbox_extra_artists)\n\u001B[1;32m   2348\u001B[0m         \u001B[38;5;28;01mif\u001B[39;00m pad_inches \u001B[38;5;129;01mis\u001B[39;00m \u001B[38;5;28;01mNone\u001B[39;00m:\n\u001B[1;32m   2349\u001B[0m             pad_inches \u001B[38;5;241m=\u001B[39m rcParams[\u001B[38;5;124m'\u001B[39m\u001B[38;5;124msavefig.pad_inches\u001B[39m\u001B[38;5;124m'\u001B[39m]\n",
      "File \u001B[0;32m~/anaconda3/lib/python3.11/site-packages/matplotlib/figure.py:1776\u001B[0m, in \u001B[0;36mFigureBase.get_tightbbox\u001B[0;34m(self, renderer, bbox_extra_artists)\u001B[0m\n\u001B[1;32m   1773\u001B[0m     artists \u001B[38;5;241m=\u001B[39m bbox_extra_artists\n\u001B[1;32m   1775\u001B[0m \u001B[38;5;28;01mfor\u001B[39;00m a \u001B[38;5;129;01min\u001B[39;00m artists:\n\u001B[0;32m-> 1776\u001B[0m     bbox \u001B[38;5;241m=\u001B[39m a\u001B[38;5;241m.\u001B[39mget_tightbbox(renderer)\n\u001B[1;32m   1777\u001B[0m     \u001B[38;5;28;01mif\u001B[39;00m bbox \u001B[38;5;129;01mis\u001B[39;00m \u001B[38;5;129;01mnot\u001B[39;00m \u001B[38;5;28;01mNone\u001B[39;00m:\n\u001B[1;32m   1778\u001B[0m         bb\u001B[38;5;241m.\u001B[39mappend(bbox)\n",
      "File \u001B[0;32m~/anaconda3/lib/python3.11/site-packages/matplotlib/axes/_base.py:4408\u001B[0m, in \u001B[0;36m_AxesBase.get_tightbbox\u001B[0;34m(self, renderer, call_axes_locator, bbox_extra_artists, for_layout_only)\u001B[0m\n\u001B[1;32m   4405\u001B[0m     bbox_artists \u001B[38;5;241m=\u001B[39m \u001B[38;5;28mself\u001B[39m\u001B[38;5;241m.\u001B[39mget_default_bbox_extra_artists()\n\u001B[1;32m   4407\u001B[0m \u001B[38;5;28;01mfor\u001B[39;00m a \u001B[38;5;129;01min\u001B[39;00m bbox_artists:\n\u001B[0;32m-> 4408\u001B[0m     bbox \u001B[38;5;241m=\u001B[39m a\u001B[38;5;241m.\u001B[39mget_tightbbox(renderer)\n\u001B[1;32m   4409\u001B[0m     \u001B[38;5;28;01mif\u001B[39;00m (bbox \u001B[38;5;129;01mis\u001B[39;00m \u001B[38;5;129;01mnot\u001B[39;00m \u001B[38;5;28;01mNone\u001B[39;00m\n\u001B[1;32m   4410\u001B[0m             \u001B[38;5;129;01mand\u001B[39;00m \u001B[38;5;241m0\u001B[39m \u001B[38;5;241m<\u001B[39m bbox\u001B[38;5;241m.\u001B[39mwidth \u001B[38;5;241m<\u001B[39m np\u001B[38;5;241m.\u001B[39minf\n\u001B[1;32m   4411\u001B[0m             \u001B[38;5;129;01mand\u001B[39;00m \u001B[38;5;241m0\u001B[39m \u001B[38;5;241m<\u001B[39m bbox\u001B[38;5;241m.\u001B[39mheight \u001B[38;5;241m<\u001B[39m np\u001B[38;5;241m.\u001B[39minf):\n\u001B[1;32m   4412\u001B[0m         bb\u001B[38;5;241m.\u001B[39mappend(bbox)\n",
      "File \u001B[0;32m~/anaconda3/lib/python3.11/site-packages/matplotlib/artist.py:367\u001B[0m, in \u001B[0;36mArtist.get_tightbbox\u001B[0;34m(self, renderer)\u001B[0m\n\u001B[1;32m    352\u001B[0m \u001B[38;5;28;01mdef\u001B[39;00m \u001B[38;5;21mget_tightbbox\u001B[39m(\u001B[38;5;28mself\u001B[39m, renderer\u001B[38;5;241m=\u001B[39m\u001B[38;5;28;01mNone\u001B[39;00m):\n\u001B[1;32m    353\u001B[0m \u001B[38;5;250m    \u001B[39m\u001B[38;5;124;03m\"\"\"\u001B[39;00m\n\u001B[1;32m    354\u001B[0m \u001B[38;5;124;03m    Like `.Artist.get_window_extent`, but includes any clipping.\u001B[39;00m\n\u001B[1;32m    355\u001B[0m \n\u001B[0;32m   (...)\u001B[0m\n\u001B[1;32m    365\u001B[0m \u001B[38;5;124;03m        The enclosing bounding box (in figure pixel coordinates).\u001B[39;00m\n\u001B[1;32m    366\u001B[0m \u001B[38;5;124;03m    \"\"\"\u001B[39;00m\n\u001B[0;32m--> 367\u001B[0m     bbox \u001B[38;5;241m=\u001B[39m \u001B[38;5;28mself\u001B[39m\u001B[38;5;241m.\u001B[39mget_window_extent(renderer)\n\u001B[1;32m    368\u001B[0m     \u001B[38;5;28;01mif\u001B[39;00m \u001B[38;5;28mself\u001B[39m\u001B[38;5;241m.\u001B[39mget_clip_on():\n\u001B[1;32m    369\u001B[0m         clip_box \u001B[38;5;241m=\u001B[39m \u001B[38;5;28mself\u001B[39m\u001B[38;5;241m.\u001B[39mget_clip_box()\n",
      "File \u001B[0;32m~/anaconda3/lib/python3.11/site-packages/matplotlib/patches.py:604\u001B[0m, in \u001B[0;36mPatch.get_window_extent\u001B[0;34m(self, renderer)\u001B[0m\n\u001B[1;32m    603\u001B[0m \u001B[38;5;28;01mdef\u001B[39;00m \u001B[38;5;21mget_window_extent\u001B[39m(\u001B[38;5;28mself\u001B[39m, renderer\u001B[38;5;241m=\u001B[39m\u001B[38;5;28;01mNone\u001B[39;00m):\n\u001B[0;32m--> 604\u001B[0m     \u001B[38;5;28;01mreturn\u001B[39;00m \u001B[38;5;28mself\u001B[39m\u001B[38;5;241m.\u001B[39mget_path()\u001B[38;5;241m.\u001B[39mget_extents(\u001B[38;5;28mself\u001B[39m\u001B[38;5;241m.\u001B[39mget_transform())\n",
      "File \u001B[0;32m~/anaconda3/lib/python3.11/site-packages/matplotlib/path.py:638\u001B[0m, in \u001B[0;36mPath.get_extents\u001B[0;34m(self, transform, **kwargs)\u001B[0m\n\u001B[1;32m    636\u001B[0m         \u001B[38;5;66;03m# as can the ends of the curve\u001B[39;00m\n\u001B[1;32m    637\u001B[0m         xys\u001B[38;5;241m.\u001B[39mappend(curve([\u001B[38;5;241m0\u001B[39m, \u001B[38;5;241m*\u001B[39mdzeros, \u001B[38;5;241m1\u001B[39m]))\n\u001B[0;32m--> 638\u001B[0m     xys \u001B[38;5;241m=\u001B[39m np\u001B[38;5;241m.\u001B[39mconcatenate(xys)\n\u001B[1;32m    639\u001B[0m \u001B[38;5;28;01mif\u001B[39;00m \u001B[38;5;28mlen\u001B[39m(xys):\n\u001B[1;32m    640\u001B[0m     \u001B[38;5;28;01mreturn\u001B[39;00m Bbox([xys\u001B[38;5;241m.\u001B[39mmin(axis\u001B[38;5;241m=\u001B[39m\u001B[38;5;241m0\u001B[39m), xys\u001B[38;5;241m.\u001B[39mmax(axis\u001B[38;5;241m=\u001B[39m\u001B[38;5;241m0\u001B[39m)])\n",
      "File \u001B[0;32m<__array_function__ internals>:180\u001B[0m, in \u001B[0;36mconcatenate\u001B[0;34m(*args, **kwargs)\u001B[0m\n",
      "\u001B[0;31mValueError\u001B[0m: need at least one array to concatenate"
     ]
    },
    {
     "data": {
      "text/plain": "<Figure size 2500x2500 with 1 Axes>"
     },
     "metadata": {},
     "output_type": "display_data"
    }
   ],
   "source": [
    "print_PieChart(list_col,\"percentage16_Hillary_Clinton\",\"percentage16_Donald_Trump\")"
   ],
   "metadata": {
    "collapsed": false,
    "ExecuteTime": {
     "end_time": "2023-12-18T15:47:25.467456836Z",
     "start_time": "2023-12-18T15:47:20.111651642Z"
    }
   },
   "id": "858cd59d545dab1b"
  },
  {
   "cell_type": "markdown",
   "source": [
    "\n",
    "### explication du graphique"
   ],
   "metadata": {
    "collapsed": false
   },
   "id": "5f4040c526144f1e"
  },
  {
   "cell_type": "markdown",
   "source": [
    "On constate des faits marquants en terme de concentration ethniques, les votes pour trump sont plus importants dans les villes où les hispaniques, les noirs sont présents aux environs de 10 à 30% de la population. Les faits sont plus marquants quand les blancs sont massivement présent et les asiatiques également où les votes sont similaires en ratio mais plus important quand les asiatiques ont une forte voire très fortes concentrations dans la ville. On conclue que les hispaniques et les noirs influencent un vote pour trump et la forte concentration des blancs influence également un vote pour trump"
   ],
   "metadata": {
    "collapsed": false
   },
   "id": "cbce66a2e23a5e96"
  },
  {
   "cell_type": "code",
   "execution_count": null,
   "outputs": [],
   "source": [
    "print_stats_ethnies(list_colRatio, list_col,\"total_votes16\",\"total_votes20\")"
   ],
   "metadata": {
    "collapsed": false,
    "ExecuteTime": {
     "start_time": "2023-12-18T15:15:37.208214335Z"
    }
   },
   "id": "f82716e611759aaa"
  },
  {
   "cell_type": "code",
   "execution_count": null,
   "outputs": [],
   "source": [],
   "metadata": {
    "collapsed": false,
    "ExecuteTime": {
     "start_time": "2023-12-18T15:15:37.208469828Z"
    }
   },
   "id": "93370d30b30160a9"
  },
  {
   "cell_type": "code",
   "execution_count": null,
   "outputs": [],
   "source": [
    "df_county.info()"
   ],
   "metadata": {
    "collapsed": false,
    "ExecuteTime": {
     "start_time": "2023-12-18T15:15:37.208640281Z"
    }
   },
   "id": "2cb26b1800ffd9b7"
  },
  {
   "cell_type": "code",
   "execution_count": null,
   "outputs": [],
   "source": [
    "print_stats_ethnies(list_colRatio, list_col,\"ChildPoverty\",\"Poverty\")"
   ],
   "metadata": {
    "collapsed": false,
    "ExecuteTime": {
     "start_time": "2023-12-18T15:15:37.208758370Z"
    }
   },
   "id": "4769e4136239ee65"
  },
  {
   "cell_type": "code",
   "execution_count": null,
   "outputs": [],
   "source": [],
   "metadata": {
    "collapsed": false,
    "ExecuteTime": {
     "start_time": "2023-12-18T15:15:37.208871345Z"
    }
   },
   "id": "5b6b79bad3e74905"
  },
  {
   "cell_type": "code",
   "execution_count": null,
   "outputs": [],
   "source": [],
   "metadata": {
    "collapsed": false,
    "ExecuteTime": {
     "start_time": "2023-12-18T15:15:37.208976688Z"
    }
   },
   "id": "fdf2dbe113c884db"
  },
  {
   "cell_type": "code",
   "execution_count": null,
   "outputs": [],
   "source": [
    "print_stats_ethnies(list_colRatio, list_col,\"Professional\",\"Unemployment\")\n"
   ],
   "metadata": {
    "collapsed": false,
    "ExecuteTime": {
     "start_time": "2023-12-18T15:15:37.211732207Z"
    }
   },
   "id": "6e14a2bf3868783a"
  },
  {
   "cell_type": "code",
   "execution_count": null,
   "outputs": [],
   "source": [
    "plt.figure(figsize=(25, 10), layout='constrained')\n",
    "\n"
   ],
   "metadata": {
    "collapsed": false,
    "ExecuteTime": {
     "start_time": "2023-12-18T15:15:37.253160400Z"
    }
   },
   "id": "83ebeec37a8162a3"
  },
  {
   "cell_type": "markdown",
   "source": [
    "## H2 Les classes défavorisées votent moins que les classes favorisées"
   ],
   "metadata": {
    "collapsed": false
   },
   "id": "e8a70e7181db4868"
  },
  {
   "cell_type": "markdown",
   "source": [
    "## H3 les minorités sont majoritaires dans les villes à taux de pauvreté élevé"
   ],
   "metadata": {
    "collapsed": false
   },
   "id": "7a926479cf1226fa"
  },
  {
   "cell_type": "markdown",
   "source": [
    "## H4 le chomage explique l'ascension de Trump au pouvoir"
   ],
   "metadata": {
    "collapsed": false
   },
   "id": "4c90513c994a2991"
  },
  {
   "cell_type": "markdown",
   "source": [
    "## H5 le nombre de mort dus au covid explique l'ascension de biden au pouvoir"
   ],
   "metadata": {
    "collapsed": false
   },
   "id": "8bdb3dfd02bf9ceb"
  },
  {
   "cell_type": "code",
   "execution_count": 31,
   "outputs": [],
   "source": [],
   "metadata": {
    "collapsed": false,
    "ExecuteTime": {
     "end_time": "2023-11-04T09:37:55.897932238Z",
     "start_time": "2023-11-04T09:37:55.514790788Z"
    }
   },
   "id": "2383ebc5669f8449"
  },
  {
   "cell_type": "code",
   "execution_count": 31,
   "outputs": [],
   "source": [],
   "metadata": {
    "collapsed": false,
    "ExecuteTime": {
     "end_time": "2023-11-04T09:37:55.898260004Z",
     "start_time": "2023-11-04T09:37:55.526225337Z"
    }
   },
   "id": "455705781c4e1c0d"
  }
 ],
 "metadata": {
  "kernelspec": {
   "display_name": "Python 3",
   "language": "python",
   "name": "python3"
  },
  "language_info": {
   "codemirror_mode": {
    "name": "ipython",
    "version": 2
   },
   "file_extension": ".py",
   "mimetype": "text/x-python",
   "name": "python",
   "nbconvert_exporter": "python",
   "pygments_lexer": "ipython2",
   "version": "2.7.6"
  }
 },
 "nbformat": 4,
 "nbformat_minor": 5
}
